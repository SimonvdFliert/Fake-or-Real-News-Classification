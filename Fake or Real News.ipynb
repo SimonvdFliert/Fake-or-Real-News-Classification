{
 "cells": [
  {
   "cell_type": "code",
   "execution_count": 31,
   "id": "f68338ca",
   "metadata": {},
   "outputs": [],
   "source": [
    "import numpy as np\n",
    "import pandas as pd\n",
    "import string\n",
    "import matplotlib.pyplot as plt #for visualizations\n",
    "import seaborn as sns #for visualizations\n",
    "import pickle\n",
    "\n",
    "from datetime import datetime \n",
    "import nltk\n",
    "from nltk.corpus import stopwords # to remove the stopwrods\n",
    "from nltk.tokenize import word_tokenize #for tokenization\n",
    "from nltk.stem import WordNetLemmatizer # for lemmitization\n",
    "\n",
    "from sklearn import svm\n",
    "from sklearn.linear_model import LogisticRegression\n",
    "from sklearn.model_selection import train_test_split #to divide the corpus in train and test splits \n",
    "from sklearn.metrics import confusion_matrix, classification_report, f1_score, accuracy_score #For analysis\n",
    "from tqdm.notebook import tqdm\n",
    "\n",
    "from collections import Counter # to create a vocabulary with\n",
    "\n",
    "# For CNN\n",
    "from tensorflow.keras.preprocessing.text import Tokenizer\n",
    "from tensorflow.keras.preprocessing.sequence import pad_sequences\n",
    "from tensorflow.keras.models import Sequential\n",
    "from tensorflow.keras.layers import Dense, Embedding, Flatten, Conv1D, MaxPooling1D, Dropout, Activation\n",
    "from tensorflow.keras.regularizers import l2"
   ]
  },
  {
   "cell_type": "code",
   "execution_count": 2,
   "id": "05b82fce",
   "metadata": {},
   "outputs": [],
   "source": [
    "#https://www.kaggle.com/rodolfoluna/fake-news-detector\n",
    "#https://12ft.io/proxy?q=http://towardsdatascience.com/text-classification-in-python-dd95d264c802"
   ]
  },
  {
   "cell_type": "code",
   "execution_count": 5,
   "id": "5712d0ad",
   "metadata": {},
   "outputs": [],
   "source": [
    "# Data is provided in two datasets, so we need to combine them\n",
    "\n",
    "fake_news = pd.read_csv('./Data/Fake.csv')\n",
    "fake_news['Fake'] = 1\n",
    "\n",
    "# Load real news\n",
    "real_news = pd.read_csv('./Data/True.csv')\n",
    "real_news['Fake'] = 0\n",
    "\n",
    "# Join the two dataframes\n",
    "news = pd.concat([fake_news, real_news])"
   ]
  },
  {
   "cell_type": "code",
   "execution_count": 6,
   "id": "13ee5fda",
   "metadata": {},
   "outputs": [
    {
     "data": {
      "text/html": [
       "<div>\n",
       "<style scoped>\n",
       "    .dataframe tbody tr th:only-of-type {\n",
       "        vertical-align: middle;\n",
       "    }\n",
       "\n",
       "    .dataframe tbody tr th {\n",
       "        vertical-align: top;\n",
       "    }\n",
       "\n",
       "    .dataframe thead th {\n",
       "        text-align: right;\n",
       "    }\n",
       "</style>\n",
       "<table border=\"1\" class=\"dataframe\">\n",
       "  <thead>\n",
       "    <tr style=\"text-align: right;\">\n",
       "      <th></th>\n",
       "      <th>title</th>\n",
       "      <th>text</th>\n",
       "      <th>subject</th>\n",
       "      <th>date</th>\n",
       "      <th>Fake</th>\n",
       "    </tr>\n",
       "  </thead>\n",
       "  <tbody>\n",
       "    <tr>\n",
       "      <th>0</th>\n",
       "      <td>Donald Trump Sends Out Embarrassing New Year’...</td>\n",
       "      <td>Donald Trump just couldn t wish all Americans ...</td>\n",
       "      <td>News</td>\n",
       "      <td>December 31, 2017</td>\n",
       "      <td>1</td>\n",
       "    </tr>\n",
       "    <tr>\n",
       "      <th>1</th>\n",
       "      <td>Drunk Bragging Trump Staffer Started Russian ...</td>\n",
       "      <td>House Intelligence Committee Chairman Devin Nu...</td>\n",
       "      <td>News</td>\n",
       "      <td>December 31, 2017</td>\n",
       "      <td>1</td>\n",
       "    </tr>\n",
       "    <tr>\n",
       "      <th>2</th>\n",
       "      <td>Sheriff David Clarke Becomes An Internet Joke...</td>\n",
       "      <td>On Friday, it was revealed that former Milwauk...</td>\n",
       "      <td>News</td>\n",
       "      <td>December 30, 2017</td>\n",
       "      <td>1</td>\n",
       "    </tr>\n",
       "    <tr>\n",
       "      <th>3</th>\n",
       "      <td>Trump Is So Obsessed He Even Has Obama’s Name...</td>\n",
       "      <td>On Christmas day, Donald Trump announced that ...</td>\n",
       "      <td>News</td>\n",
       "      <td>December 29, 2017</td>\n",
       "      <td>1</td>\n",
       "    </tr>\n",
       "    <tr>\n",
       "      <th>4</th>\n",
       "      <td>Pope Francis Just Called Out Donald Trump Dur...</td>\n",
       "      <td>Pope Francis used his annual Christmas Day mes...</td>\n",
       "      <td>News</td>\n",
       "      <td>December 25, 2017</td>\n",
       "      <td>1</td>\n",
       "    </tr>\n",
       "  </tbody>\n",
       "</table>\n",
       "</div>"
      ],
      "text/plain": [
       "                                               title  \\\n",
       "0   Donald Trump Sends Out Embarrassing New Year’...   \n",
       "1   Drunk Bragging Trump Staffer Started Russian ...   \n",
       "2   Sheriff David Clarke Becomes An Internet Joke...   \n",
       "3   Trump Is So Obsessed He Even Has Obama’s Name...   \n",
       "4   Pope Francis Just Called Out Donald Trump Dur...   \n",
       "\n",
       "                                                text subject  \\\n",
       "0  Donald Trump just couldn t wish all Americans ...    News   \n",
       "1  House Intelligence Committee Chairman Devin Nu...    News   \n",
       "2  On Friday, it was revealed that former Milwauk...    News   \n",
       "3  On Christmas day, Donald Trump announced that ...    News   \n",
       "4  Pope Francis used his annual Christmas Day mes...    News   \n",
       "\n",
       "                date  Fake  \n",
       "0  December 31, 2017     1  \n",
       "1  December 31, 2017     1  \n",
       "2  December 30, 2017     1  \n",
       "3  December 29, 2017     1  \n",
       "4  December 25, 2017     1  "
      ]
     },
     "execution_count": 6,
     "metadata": {},
     "output_type": "execute_result"
    }
   ],
   "source": [
    "news.head()"
   ]
  },
  {
   "cell_type": "code",
   "execution_count": 7,
   "id": "ba96898e",
   "metadata": {},
   "outputs": [
    {
     "name": "stdout",
     "output_type": "stream",
     "text": [
      "<class 'pandas.core.frame.DataFrame'>\n",
      "Int64Index: 44898 entries, 0 to 21416\n",
      "Data columns (total 5 columns):\n",
      " #   Column   Non-Null Count  Dtype \n",
      "---  ------   --------------  ----- \n",
      " 0   title    44898 non-null  object\n",
      " 1   text     44898 non-null  object\n",
      " 2   subject  44898 non-null  object\n",
      " 3   date     44898 non-null  object\n",
      " 4   Fake     44898 non-null  int64 \n",
      "dtypes: int64(1), object(4)\n",
      "memory usage: 2.1+ MB\n"
     ]
    }
   ],
   "source": [
    "news.info()"
   ]
  },
  {
   "cell_type": "code",
   "execution_count": 8,
   "id": "dd8b76ad",
   "metadata": {},
   "outputs": [
    {
     "data": {
      "text/html": [
       "<div>\n",
       "<style scoped>\n",
       "    .dataframe tbody tr th:only-of-type {\n",
       "        vertical-align: middle;\n",
       "    }\n",
       "\n",
       "    .dataframe tbody tr th {\n",
       "        vertical-align: top;\n",
       "    }\n",
       "\n",
       "    .dataframe thead th {\n",
       "        text-align: right;\n",
       "    }\n",
       "</style>\n",
       "<table border=\"1\" class=\"dataframe\">\n",
       "  <thead>\n",
       "    <tr style=\"text-align: right;\">\n",
       "      <th></th>\n",
       "      <th>Fake</th>\n",
       "    </tr>\n",
       "  </thead>\n",
       "  <tbody>\n",
       "    <tr>\n",
       "      <th>count</th>\n",
       "      <td>44898.000000</td>\n",
       "    </tr>\n",
       "    <tr>\n",
       "      <th>mean</th>\n",
       "      <td>0.522985</td>\n",
       "    </tr>\n",
       "    <tr>\n",
       "      <th>std</th>\n",
       "      <td>0.499477</td>\n",
       "    </tr>\n",
       "    <tr>\n",
       "      <th>min</th>\n",
       "      <td>0.000000</td>\n",
       "    </tr>\n",
       "    <tr>\n",
       "      <th>25%</th>\n",
       "      <td>0.000000</td>\n",
       "    </tr>\n",
       "    <tr>\n",
       "      <th>50%</th>\n",
       "      <td>1.000000</td>\n",
       "    </tr>\n",
       "    <tr>\n",
       "      <th>75%</th>\n",
       "      <td>1.000000</td>\n",
       "    </tr>\n",
       "    <tr>\n",
       "      <th>max</th>\n",
       "      <td>1.000000</td>\n",
       "    </tr>\n",
       "  </tbody>\n",
       "</table>\n",
       "</div>"
      ],
      "text/plain": [
       "               Fake\n",
       "count  44898.000000\n",
       "mean       0.522985\n",
       "std        0.499477\n",
       "min        0.000000\n",
       "25%        0.000000\n",
       "50%        1.000000\n",
       "75%        1.000000\n",
       "max        1.000000"
      ]
     },
     "execution_count": 8,
     "metadata": {},
     "output_type": "execute_result"
    }
   ],
   "source": [
    "news.describe()"
   ]
  },
  {
   "cell_type": "code",
   "execution_count": 9,
   "id": "6c045e3d",
   "metadata": {},
   "outputs": [
    {
     "data": {
      "text/plain": [
       "title      0\n",
       "text       0\n",
       "subject    0\n",
       "date       0\n",
       "Fake       0\n",
       "dtype: int64"
      ]
     },
     "execution_count": 9,
     "metadata": {},
     "output_type": "execute_result"
    }
   ],
   "source": [
    "news.isna().sum()"
   ]
  },
  {
   "cell_type": "markdown",
   "id": "9ba5156e",
   "metadata": {},
   "source": [
    "# Visualise the data"
   ]
  },
  {
   "cell_type": "code",
   "execution_count": 10,
   "id": "bb8ee9f9",
   "metadata": {},
   "outputs": [
    {
     "name": "stdout",
     "output_type": "stream",
     "text": [
      "Count of fake: \n",
      "1    23481\n",
      "0    21417\n",
      "Name: Fake, dtype: int64\n"
     ]
    },
    {
     "data": {
      "image/png": "[encoded data removed]",
      "text/plain": [
       "<Figure size 432x288 with 1 Axes>"
      ]
     },
     "metadata": {
      "needs_background": "light"
     },
     "output_type": "display_data"
    }
   ],
   "source": [
    "sns.countplot(x='Fake', data=news)\n",
    "print(\"Count of fake: \\n{}\".format(news['Fake'].value_counts()))"
   ]
  },
  {
   "cell_type": "code",
   "execution_count": 11,
   "id": "e1829f0d",
   "metadata": {},
   "outputs": [],
   "source": [
    "average_lengths_true = []\n",
    "average_lengths_false = []\n",
    "count = 0\n",
    "for true_article in real_news['text']:\n",
    "    average_lengths_true.append(len(true_article))\n",
    "\n",
    "for fake_article in fake_news['text']:\n",
    "    average_lengths_false.append(len(fake_article))"
   ]
  },
  {
   "cell_type": "code",
   "execution_count": 12,
   "id": "5bde0e71",
   "metadata": {},
   "outputs": [
    {
     "data": {
      "image/png": "[encoded data removed]",
      "text/plain": [
       "<Figure size 432x288 with 1 Axes>"
      ]
     },
     "metadata": {
      "needs_background": "light"
     },
     "output_type": "display_data"
    }
   ],
   "source": [
    "kwargs = dict(alpha=0.5, bins=100)\n",
    "plt.hist(average_lengths_true, **kwargs, color='b', label='True')\n",
    "plt.hist(average_lengths_false, **kwargs, color='r', label='Fake')\n",
    "plt.gca().set(title='Frequency Histogram of average lengths of True and Fake Articles', ylabel='Average Length')\n",
    "plt.legend();"
   ]
  },
  {
   "cell_type": "code",
   "execution_count": 13,
   "metadata": {},
   "outputs": [
    {
     "data": {
      "image/png": "[encoded data removed]",
      "text/plain": [
       "<Figure size 432x288 with 1 Axes>"
      ]
     },
     "metadata": {
      "needs_background": "light"
     },
     "output_type": "display_data"
    }
   ],
   "source": [
    "from statistics import mean\n",
    "\n",
    "average_true_article_len = mean(average_lengths_true)\n",
    "average_fake_article_len = mean(average_lengths_false)\n",
    "\n",
    "\n",
    "X_axis = np.arange(1)\n",
    "plt.bar(X_axis - 0.2, average_true_article_len, 0.4, label = 'True')\n",
    "plt.bar(X_axis + 0.2, average_fake_article_len, 0.4, label = 'Fake')\n",
    "  \n",
    "\n",
    "plt.xlabel(\"Text types\")\n",
    "plt.ylabel(\"Average length text\")\n",
    "plt.title(\"Average length text\")\n",
    "plt.legend()\n",
    "plt.show()\n"
   ]
  },
  {
   "cell_type": "markdown",
   "id": "f227bfb0",
   "metadata": {},
   "source": [
    "# Feature Engineering"
   ]
  },
  {
   "cell_type": "code",
   "execution_count": 14,
   "id": "597a844a",
   "metadata": {},
   "outputs": [
    {
     "data": {
      "text/html": [
       "<div>\n",
       "<style scoped>\n",
       "    .dataframe tbody tr th:only-of-type {\n",
       "        vertical-align: middle;\n",
       "    }\n",
       "\n",
       "    .dataframe tbody tr th {\n",
       "        vertical-align: top;\n",
       "    }\n",
       "\n",
       "    .dataframe thead th {\n",
       "        text-align: right;\n",
       "    }\n",
       "</style>\n",
       "<table border=\"1\" class=\"dataframe\">\n",
       "  <thead>\n",
       "    <tr style=\"text-align: right;\">\n",
       "      <th></th>\n",
       "      <th>title</th>\n",
       "      <th>text</th>\n",
       "      <th>subject</th>\n",
       "      <th>date</th>\n",
       "      <th>Fake</th>\n",
       "      <th>Year</th>\n",
       "      <th>Month</th>\n",
       "    </tr>\n",
       "  </thead>\n",
       "  <tbody>\n",
       "    <tr>\n",
       "      <th>0</th>\n",
       "      <td>Donald Trump Sends Out Embarrassing New Year’...</td>\n",
       "      <td>Donald Trump just couldn t wish all Americans ...</td>\n",
       "      <td>News</td>\n",
       "      <td>2017-12-31</td>\n",
       "      <td>1</td>\n",
       "      <td>2017.0</td>\n",
       "      <td>12.0</td>\n",
       "    </tr>\n",
       "    <tr>\n",
       "      <th>1</th>\n",
       "      <td>Drunk Bragging Trump Staffer Started Russian ...</td>\n",
       "      <td>House Intelligence Committee Chairman Devin Nu...</td>\n",
       "      <td>News</td>\n",
       "      <td>2017-12-31</td>\n",
       "      <td>1</td>\n",
       "      <td>2017.0</td>\n",
       "      <td>12.0</td>\n",
       "    </tr>\n",
       "    <tr>\n",
       "      <th>2</th>\n",
       "      <td>Sheriff David Clarke Becomes An Internet Joke...</td>\n",
       "      <td>On Friday, it was revealed that former Milwauk...</td>\n",
       "      <td>News</td>\n",
       "      <td>2017-12-30</td>\n",
       "      <td>1</td>\n",
       "      <td>2017.0</td>\n",
       "      <td>12.0</td>\n",
       "    </tr>\n",
       "    <tr>\n",
       "      <th>3</th>\n",
       "      <td>Trump Is So Obsessed He Even Has Obama’s Name...</td>\n",
       "      <td>On Christmas day, Donald Trump announced that ...</td>\n",
       "      <td>News</td>\n",
       "      <td>2017-12-29</td>\n",
       "      <td>1</td>\n",
       "      <td>2017.0</td>\n",
       "      <td>12.0</td>\n",
       "    </tr>\n",
       "    <tr>\n",
       "      <th>4</th>\n",
       "      <td>Pope Francis Just Called Out Donald Trump Dur...</td>\n",
       "      <td>Pope Francis used his annual Christmas Day mes...</td>\n",
       "      <td>News</td>\n",
       "      <td>2017-12-25</td>\n",
       "      <td>1</td>\n",
       "      <td>2017.0</td>\n",
       "      <td>12.0</td>\n",
       "    </tr>\n",
       "  </tbody>\n",
       "</table>\n",
       "</div>"
      ],
      "text/plain": [
       "                                               title  \\\n",
       "0   Donald Trump Sends Out Embarrassing New Year’...   \n",
       "1   Drunk Bragging Trump Staffer Started Russian ...   \n",
       "2   Sheriff David Clarke Becomes An Internet Joke...   \n",
       "3   Trump Is So Obsessed He Even Has Obama’s Name...   \n",
       "4   Pope Francis Just Called Out Donald Trump Dur...   \n",
       "\n",
       "                                                text subject       date  Fake  \\\n",
       "0  Donald Trump just couldn t wish all Americans ...    News 2017-12-31     1   \n",
       "1  House Intelligence Committee Chairman Devin Nu...    News 2017-12-31     1   \n",
       "2  On Friday, it was revealed that former Milwauk...    News 2017-12-30     1   \n",
       "3  On Christmas day, Donald Trump announced that ...    News 2017-12-29     1   \n",
       "4  Pope Francis used his annual Christmas Day mes...    News 2017-12-25     1   \n",
       "\n",
       "     Year  Month  \n",
       "0  2017.0   12.0  \n",
       "1  2017.0   12.0  \n",
       "2  2017.0   12.0  \n",
       "3  2017.0   12.0  \n",
       "4  2017.0   12.0  "
      ]
     },
     "execution_count": 14,
     "metadata": {},
     "output_type": "execute_result"
    }
   ],
   "source": [
    "news['date'] = pd.to_datetime(news['date'], errors='coerce')\n",
    "news['Year'] = news['date'].dt.year\n",
    "news['Month'] = news['date'].dt.month\n",
    "\n",
    "news.head()"
   ]
  },
  {
   "cell_type": "code",
   "execution_count": 15,
   "id": "43b2e50f",
   "metadata": {},
   "outputs": [
    {
     "data": {
      "text/plain": [
       "<AxesSubplot:xlabel='Year', ylabel='count'>"
      ]
     },
     "execution_count": 15,
     "metadata": {},
     "output_type": "execute_result"
    },
    {
     "data": {
      "image/png": "[encoded data removed]",
      "text/plain": [
       "<Figure size 432x288 with 1 Axes>"
      ]
     },
     "metadata": {
      "needs_background": "light"
     },
     "output_type": "display_data"
    }
   ],
   "source": [
    "# Check the impact of Year on the target variable\n",
    "sns.countplot(x='Year', data=news, hue='Fake')"
   ]
  },
  {
   "cell_type": "code",
   "execution_count": 16,
   "id": "8c8e0359",
   "metadata": {},
   "outputs": [
    {
     "data": {
      "text/plain": [
       "<AxesSubplot:xlabel='Month', ylabel='count'>"
      ]
     },
     "execution_count": 16,
     "metadata": {},
     "output_type": "execute_result"
    },
    {
     "data": {
      "image/png": "[encoded data removed]",
      "text/plain": [
       "<Figure size 432x288 with 1 Axes>"
      ]
     },
     "metadata": {
      "needs_background": "light"
     },
     "output_type": "display_data"
    }
   ],
   "source": [
    "# Check the impact of Month on the target variable\n",
    "sns.countplot(x='Month', data=news, hue='Fake')"
   ]
  },
  {
   "cell_type": "code",
   "execution_count": 17,
   "id": "7c36bd8d",
   "metadata": {},
   "outputs": [],
   "source": [
    "#We want all information of an article, which would be the title, text and subject\n",
    "news['Article'] = news['title']+\"\"+news['text']+\"\"+['subject']"
   ]
  },
  {
   "cell_type": "code",
   "execution_count": 18,
   "id": "31880088",
   "metadata": {},
   "outputs": [],
   "source": [
    "final_news = news[['Article', 'Fake']]"
   ]
  },
  {
   "cell_type": "markdown",
   "id": "6ddb0832",
   "metadata": {},
   "source": [
    "# Prepare Data"
   ]
  },
  {
   "cell_type": "markdown",
   "id": "bea505d7",
   "metadata": {},
   "source": [
    "## Lower and remove punctutation"
   ]
  },
  {
   "cell_type": "code",
   "execution_count": 19,
   "id": "0d90c923",
   "metadata": {},
   "outputs": [
    {
     "name": "stderr",
     "output_type": "stream",
     "text": [
      "C:\\Users\\Simon\\Anaconda3\\envs\\Captcha_env_v2\\lib\\site-packages\\ipykernel_launcher.py:1: SettingWithCopyWarning: \n",
      "A value is trying to be set on a copy of a slice from a DataFrame.\n",
      "Try using .loc[row_indexer,col_indexer] = value instead\n",
      "\n",
      "See the caveats in the documentation: https://pandas.pydata.org/pandas-docs/stable/user_guide/indexing.html#returning-a-view-versus-a-copy\n",
      "  \"\"\"Entry point for launching an IPython kernel.\n"
     ]
    }
   ],
   "source": [
    "final_news['Article'] = final_news['Article'].apply(lambda x: x.lower())"
   ]
  },
  {
   "cell_type": "code",
   "execution_count": 20,
   "id": "ae9f624e",
   "metadata": {},
   "outputs": [
    {
     "data": {
      "text/html": [
       "<div>\n",
       "<style scoped>\n",
       "    .dataframe tbody tr th:only-of-type {\n",
       "        vertical-align: middle;\n",
       "    }\n",
       "\n",
       "    .dataframe tbody tr th {\n",
       "        vertical-align: top;\n",
       "    }\n",
       "\n",
       "    .dataframe thead th {\n",
       "        text-align: right;\n",
       "    }\n",
       "</style>\n",
       "<table border=\"1\" class=\"dataframe\">\n",
       "  <thead>\n",
       "    <tr style=\"text-align: right;\">\n",
       "      <th></th>\n",
       "      <th>Article</th>\n",
       "      <th>Fake</th>\n",
       "    </tr>\n",
       "  </thead>\n",
       "  <tbody>\n",
       "    <tr>\n",
       "      <th>0</th>\n",
       "      <td>donald trump sends out embarrassing new year’...</td>\n",
       "      <td>1</td>\n",
       "    </tr>\n",
       "    <tr>\n",
       "      <th>1</th>\n",
       "      <td>drunk bragging trump staffer started russian ...</td>\n",
       "      <td>1</td>\n",
       "    </tr>\n",
       "    <tr>\n",
       "      <th>2</th>\n",
       "      <td>sheriff david clarke becomes an internet joke...</td>\n",
       "      <td>1</td>\n",
       "    </tr>\n",
       "    <tr>\n",
       "      <th>3</th>\n",
       "      <td>trump is so obsessed he even has obama’s name...</td>\n",
       "      <td>1</td>\n",
       "    </tr>\n",
       "    <tr>\n",
       "      <th>4</th>\n",
       "      <td>pope francis just called out donald trump dur...</td>\n",
       "      <td>1</td>\n",
       "    </tr>\n",
       "  </tbody>\n",
       "</table>\n",
       "</div>"
      ],
      "text/plain": [
       "                                             Article  Fake\n",
       "0   donald trump sends out embarrassing new year’...     1\n",
       "1   drunk bragging trump staffer started russian ...     1\n",
       "2   sheriff david clarke becomes an internet joke...     1\n",
       "3   trump is so obsessed he even has obama’s name...     1\n",
       "4   pope francis just called out donald trump dur...     1"
      ]
     },
     "execution_count": 20,
     "metadata": {},
     "output_type": "execute_result"
    }
   ],
   "source": [
    "final_news.head()"
   ]
  },
  {
   "cell_type": "code",
   "execution_count": 21,
   "id": "ee17e583",
   "metadata": {},
   "outputs": [],
   "source": [
    "# remove punctutations\n",
    "def remove_punct(input_string):\n",
    "    split_article = [char for char in input_string if char not in string.punctuation]\n",
    "    clean_article = ''.join(split_article)\n",
    "    return clean_article"
   ]
  },
  {
   "cell_type": "code",
   "execution_count": 22,
   "id": "ba4b160c",
   "metadata": {},
   "outputs": [
    {
     "name": "stderr",
     "output_type": "stream",
     "text": [
      "C:\\Users\\Simon\\Anaconda3\\envs\\Captcha_env_v2\\lib\\site-packages\\ipykernel_launcher.py:1: SettingWithCopyWarning: \n",
      "A value is trying to be set on a copy of a slice from a DataFrame.\n",
      "Try using .loc[row_indexer,col_indexer] = value instead\n",
      "\n",
      "See the caveats in the documentation: https://pandas.pydata.org/pandas-docs/stable/user_guide/indexing.html#returning-a-view-versus-a-copy\n",
      "  \"\"\"Entry point for launching an IPython kernel.\n"
     ]
    }
   ],
   "source": [
    "final_news['Article'] = final_news['Article'].apply(remove_punct)"
   ]
  },
  {
   "cell_type": "code",
   "execution_count": 23,
   "id": "e8e668a3",
   "metadata": {},
   "outputs": [
    {
     "data": {
      "text/plain": [
       "0     donald trump sends out embarrassing new year’...\n",
       "1     drunk bragging trump staffer started russian ...\n",
       "2     sheriff david clarke becomes an internet joke...\n",
       "3     trump is so obsessed he even has obama’s name...\n",
       "4     pope francis just called out donald trump dur...\n",
       "Name: Article, dtype: object"
      ]
     },
     "execution_count": 23,
     "metadata": {},
     "output_type": "execute_result"
    }
   ],
   "source": [
    "final_news['Article'].head() "
   ]
  },
  {
   "cell_type": "markdown",
   "id": "b03edea1",
   "metadata": {},
   "source": [
    "# Tokenize"
   ]
  },
  {
   "cell_type": "code",
   "execution_count": 25,
   "id": "94108101",
   "metadata": {},
   "outputs": [],
   "source": [
    "for article in (final_news['Article']):\n",
    "    #word_tokenize is a function from the nltk.tokenize package\n",
    "    tokenized_article = word_tokenize(article)"
   ]
  },
  {
   "cell_type": "markdown",
   "id": "a66c4871",
   "metadata": {},
   "source": [
    "## Stopwords"
   ]
  },
  {
   "cell_type": "code",
   "execution_count": 26,
   "id": "73c32203",
   "metadata": {},
   "outputs": [],
   "source": [
    "stopWords = stopwords.words('english')\n",
    "filtered_document = []\n",
    "filtered_article = []\n",
    "#final_news['Article'].apply(lambda x: [item for item in tqdm(x) if item not in stopWords])\n",
    "\n",
    "for sentence in final_news['Article']:\n",
    "    #Having taken a sentence, remove the stopwords of that sentence\n",
    "    for word in sentence:\n",
    "        if word not in stopWords:\n",
    "            #save the tokenized, stopword-less article in a list\n",
    "            filtered_article.append(word)\n",
    "    sentence = filtered_article\n",
    "    \n",
    "    #Add the filtered sentence to the overal documents list\n",
    "    #filtered_document.append(sentence)\n",
    "    \n",
    "    #reset the sentence list so that we do not accidently save multiple articles as one article\n",
    "    #filtererd_article = []\n",
    "    "
   ]
  },
  {
   "cell_type": "markdown",
   "id": "6bb25ee7",
   "metadata": {},
   "source": [
    "## Lemmatization"
   ]
  },
  {
   "cell_type": "code",
   "execution_count": 28,
   "id": "7e77a27f",
   "metadata": {},
   "outputs": [],
   "source": [
    "# Lemmatization function\n",
    "\n",
    "lemmatizer = WordNetLemmatizer()\n",
    "\n",
    "def lemmatize_text(article):\n",
    "    #lemmatize each word in the article\n",
    "    return [lemmatizer.lemmatize(word) for word in article]  \n",
    "    "
   ]
  },
  {
   "cell_type": "code",
   "execution_count": 32,
   "id": "0d88407f",
   "metadata": {},
   "outputs": [
    {
     "name": "stderr",
     "output_type": "stream",
     "text": [
      "[nltk_data] Downloading package omw-1.4 to\n",
      "[nltk_data]     C:\\Users\\Simon\\AppData\\Roaming\\nltk_data...\n",
      "[nltk_data]   Unzipping corpora\\omw-1.4.zip.\n"
     ]
    },
    {
     "data": {
      "text/plain": [
       "True"
      ]
     },
     "execution_count": 32,
     "metadata": {},
     "output_type": "execute_result"
    }
   ],
   "source": [
    "nltk.download('omw-1.4')"
   ]
  },
  {
   "cell_type": "code",
   "execution_count": 33,
   "id": "19177d40",
   "metadata": {},
   "outputs": [
    {
     "name": "stderr",
     "output_type": "stream",
     "text": [
      "Exception ignored in: <function tqdm.__del__ at 0x0000015CC53A34C8>\n",
      "Traceback (most recent call last):\n",
      "  File \"C:\\Users\\Simon\\Anaconda3\\envs\\Captcha_env_v2\\lib\\site-packages\\tqdm\\std.py\", line 1147, in __del__\n",
      "    self.close()\n",
      "  File \"C:\\Users\\Simon\\Anaconda3\\envs\\Captcha_env_v2\\lib\\site-packages\\tqdm\\notebook.py\", line 286, in close\n",
      "    self.disp(bar_style='danger', check_delay=False)\n",
      "AttributeError: 'tqdm_notebook' object has no attribute 'disp'\n"
     ]
    }
   ],
   "source": [
    "# call the lemmatization function on each sentence in the corpus\n",
    "#Cleaned_articles = []\n",
    "\n",
    "for article in final_news['Article']:\n",
    "    #this might go wrong --> the input is a list of tokenized words, so this might return individual lemmatized words\n",
    "    # Might also go wrong by not being able to lemmatize a text --> would need to go one layer deeper\n",
    "    lemmatizing_sentences = lemmatize_text(article)\n",
    "    ##Cleaned_articles.append(lemmatizing_sentences)"
   ]
  },
  {
   "cell_type": "code",
   "execution_count": 34,
   "id": "8ba7745e",
   "metadata": {},
   "outputs": [
    {
     "data": {
      "text/html": [
       "<div>\n",
       "<style scoped>\n",
       "    .dataframe tbody tr th:only-of-type {\n",
       "        vertical-align: middle;\n",
       "    }\n",
       "\n",
       "    .dataframe tbody tr th {\n",
       "        vertical-align: top;\n",
       "    }\n",
       "\n",
       "    .dataframe thead th {\n",
       "        text-align: right;\n",
       "    }\n",
       "</style>\n",
       "<table border=\"1\" class=\"dataframe\">\n",
       "  <thead>\n",
       "    <tr style=\"text-align: right;\">\n",
       "      <th></th>\n",
       "      <th>Article</th>\n",
       "      <th>Fake</th>\n",
       "    </tr>\n",
       "  </thead>\n",
       "  <tbody>\n",
       "    <tr>\n",
       "      <th>0</th>\n",
       "      <td>donald trump sends out embarrassing new year’...</td>\n",
       "      <td>1</td>\n",
       "    </tr>\n",
       "    <tr>\n",
       "      <th>1</th>\n",
       "      <td>drunk bragging trump staffer started russian ...</td>\n",
       "      <td>1</td>\n",
       "    </tr>\n",
       "    <tr>\n",
       "      <th>2</th>\n",
       "      <td>sheriff david clarke becomes an internet joke...</td>\n",
       "      <td>1</td>\n",
       "    </tr>\n",
       "    <tr>\n",
       "      <th>3</th>\n",
       "      <td>trump is so obsessed he even has obama’s name...</td>\n",
       "      <td>1</td>\n",
       "    </tr>\n",
       "    <tr>\n",
       "      <th>4</th>\n",
       "      <td>pope francis just called out donald trump dur...</td>\n",
       "      <td>1</td>\n",
       "    </tr>\n",
       "  </tbody>\n",
       "</table>\n",
       "</div>"
      ],
      "text/plain": [
       "                                             Article  Fake\n",
       "0   donald trump sends out embarrassing new year’...     1\n",
       "1   drunk bragging trump staffer started russian ...     1\n",
       "2   sheriff david clarke becomes an internet joke...     1\n",
       "3   trump is so obsessed he even has obama’s name...     1\n",
       "4   pope francis just called out donald trump dur...     1"
      ]
     },
     "execution_count": 34,
     "metadata": {},
     "output_type": "execute_result"
    }
   ],
   "source": [
    "final_news.head()"
   ]
  },
  {
   "cell_type": "code",
   "execution_count": 35,
   "id": "c8f23a33",
   "metadata": {},
   "outputs": [],
   "source": [
    "for article in final_news[\"Article\"]:\n",
    "    article = final_news[\"Article\"].array"
   ]
  },
  {
   "cell_type": "code",
   "execution_count": 36,
   "id": "9c20f447",
   "metadata": {},
   "outputs": [],
   "source": [
    "# Pad the articles to make them all the same length\n",
    "longest_article_length = len(max(final_news[\"Article\"], key=len))\n",
    "\n",
    "\n",
    "for article in final_news[\"Article\"]:\n",
    "    article = article.ljust(longest_article_length) "
   ]
  },
  {
   "cell_type": "code",
   "execution_count": 37,
   "id": "68bc5c07",
   "metadata": {},
   "outputs": [],
   "source": [
    "X = final_news[\"Article\"]\n",
    "Y = final_news[\"Fake\"]"
   ]
  },
  {
   "cell_type": "code",
   "execution_count": 38,
   "id": "d4b2bccf",
   "metadata": {},
   "outputs": [],
   "source": [
    "counts = Counter(words for sublist in X for words in sublist)"
   ]
  },
  {
   "cell_type": "markdown",
   "id": "b4db6c7e",
   "metadata": {},
   "source": [
    "# Build the model"
   ]
  },
  {
   "cell_type": "markdown",
   "id": "5a8178e8",
   "metadata": {},
   "source": [
    "### Bag of words model"
   ]
  },
  {
   "cell_type": "markdown",
   "id": "4431cd7e",
   "metadata": {},
   "source": [
    "Bag of words uses the occurences of words in the corpus. This is a great baseline and a surprisingly effective model for its simplicity"
   ]
  },
  {
   "cell_type": "code",
   "execution_count": 39,
   "id": "30013e68",
   "metadata": {},
   "outputs": [
    {
     "data": {
      "text/plain": [
       "array(['00', '000', '0000', ..., 'émigré', 'état', 'žižek'], dtype=object)"
      ]
     },
     "execution_count": 39,
     "metadata": {},
     "output_type": "execute_result"
    }
   ],
   "source": [
    "from sklearn.feature_extraction.text import CountVectorizer, TfidfVectorizer\n",
    "\n",
    "Occurence_vector = TfidfVectorizer()\n",
    "fitted_X = Occurence_vector.fit_transform(X)\n",
    "Occurence_vector.get_feature_names_out() \n"
   ]
  },
  {
   "cell_type": "code",
   "execution_count": 36,
   "id": "326ab3ed",
   "metadata": {},
   "outputs": [],
   "source": [
    "# open a file, where you ant to store the data\n",
    "file = open('./Data/fitted_X', 'wb')\n",
    "\n",
    "# dump information to that file\n",
    "pickle.dump(fitted_X, file)\n",
    "\n",
    "# close the file\n",
    "file.close()"
   ]
  },
  {
   "cell_type": "code",
   "execution_count": 29,
   "id": "23f1535d",
   "metadata": {},
   "outputs": [],
   "source": [
    "# open a file, where you ant to store the data\n",
    "file = open('./Data/X', 'wb')\n",
    "\n",
    "# dump information to that file\n",
    "pickle.dump(X, file)\n",
    "\n",
    "# close the file\n",
    "file.close()\n",
    "\n",
    "# open a file, where you ant to store the data\n",
    "file = open('./Data/Y', 'wb')\n",
    "\n",
    "# dump information to that file\n",
    "pickle.dump(Y, file)\n",
    "\n",
    "# close the file\n",
    "file.close()\n",
    "\n",
    "# open a file, where you ant to store the data\n",
    "file = open('./Data/Counts', 'wb')\n",
    "\n",
    "# dump information to that file\n",
    "pickle.dump(counts, file)\n",
    "\n",
    "# close the file\n",
    "file.close()"
   ]
  },
  {
   "cell_type": "code",
   "execution_count": 2,
   "id": "d2eaa307",
   "metadata": {},
   "outputs": [],
   "source": [
    "fitted_X = pickle.load( open( \"./Data/fitted_X\", \"rb\" ) )\n",
    "X = pickle.load( open( \"./Data/X\", \"rb\" ) )\n",
    "Y = pickle.load( open( \"./Data/Y\", \"rb\" ) )"
   ]
  },
  {
   "cell_type": "code",
   "execution_count": 3,
   "id": "c4f9bbb4",
   "metadata": {},
   "outputs": [
    {
     "data": {
      "text/plain": [
       "(44898, 248247)"
      ]
     },
     "execution_count": 3,
     "metadata": {},
     "output_type": "execute_result"
    }
   ],
   "source": [
    "fitted_X.shape"
   ]
  },
  {
   "cell_type": "code",
   "execution_count": 4,
   "id": "d508a45f",
   "metadata": {},
   "outputs": [
    {
     "data": {
      "text/plain": [
       "(44898,)"
      ]
     },
     "execution_count": 4,
     "metadata": {},
     "output_type": "execute_result"
    }
   ],
   "source": [
    "X.shape"
   ]
  },
  {
   "cell_type": "code",
   "execution_count": 5,
   "id": "f6b42456",
   "metadata": {},
   "outputs": [
    {
     "data": {
      "text/plain": [
       "(44898,)"
      ]
     },
     "execution_count": 5,
     "metadata": {},
     "output_type": "execute_result"
    }
   ],
   "source": [
    "Y.shape"
   ]
  },
  {
   "cell_type": "code",
   "execution_count": 6,
   "id": "6a041c6d",
   "metadata": {},
   "outputs": [],
   "source": [
    "\n",
    "x_train, x_test, y_train, y_test = train_test_split(X, Y, test_size= 0.2, random_state= 1, shuffle=True)"
   ]
  },
  {
   "cell_type": "markdown",
   "id": "9abd5b4f",
   "metadata": {},
   "source": [
    "# SVM"
   ]
  },
  {
   "cell_type": "code",
   "execution_count": 40,
   "metadata": {},
   "outputs": [
    {
     "data": {
      "text/plain": [
       "SVC()"
      ]
     },
     "execution_count": 40,
     "metadata": {},
     "output_type": "execute_result"
    }
   ],
   "source": [
    "#SVM model\n",
    "\n",
    "svm_model = svm.SVC()\n",
    "svm_model.fit(x_train, y_train)"
   ]
  },
  {
   "cell_type": "code",
   "execution_count": 41,
   "id": "87c8a0b2",
   "metadata": {},
   "outputs": [],
   "source": [
    "svm_prediction = svm_model.predict(x_test)"
   ]
  },
  {
   "cell_type": "code",
   "execution_count": 42,
   "id": "1295abb2",
   "metadata": {},
   "outputs": [
    {
     "data": {
      "text/plain": [
       "0.9928730512249443"
      ]
     },
     "execution_count": 42,
     "metadata": {},
     "output_type": "execute_result"
    }
   ],
   "source": [
    "np.mean(svm_prediction == y_test)"
   ]
  },
  {
   "cell_type": "markdown",
   "id": "47de2555",
   "metadata": {},
   "source": [
    "# LR"
   ]
  },
  {
   "cell_type": "code",
   "execution_count": 43,
   "id": "51d2c883",
   "metadata": {},
   "outputs": [],
   "source": [
    "#Logistic regression model\n",
    "\n",
    "\n",
    "LR_model = LogisticRegression(random_state=1).fit(x_train, y_train)\n",
    "LR_prediction = LR_model.predict(x_test)\n"
   ]
  },
  {
   "cell_type": "code",
   "execution_count": 45,
   "id": "23a5ece5",
   "metadata": {},
   "outputs": [
    {
     "data": {
      "text/plain": [
       "0.9874164810690423"
      ]
     },
     "execution_count": 45,
     "metadata": {},
     "output_type": "execute_result"
    }
   ],
   "source": [
    "np.mean(LR_prediction == y_test)"
   ]
  },
  {
   "cell_type": "markdown",
   "id": "dad017b2",
   "metadata": {},
   "source": [
    "# CNN"
   ]
  },
  {
   "cell_type": "markdown",
   "id": "b6b4b1a5",
   "metadata": {},
   "source": [
    "For the CNN, various architectures can be used. After looking around online, we build upon the architecture described in section 2 of [Best practices document classification deep learning](https://machinelearningmastery.com/best-practices-document-classification-deep-learning/)"
   ]
  },
  {
   "cell_type": "code",
   "execution_count": 7,
   "id": "9fc0ad90",
   "metadata": {},
   "outputs": [
    {
     "name": "stdout",
     "output_type": "stream",
     "text": [
      "LINE: the -0.038194 -0.24487 0.72812 -0.39961 0.083172 0.043953 -0.39141 0.3344 -0.57545 0.087459 0.28787 -0.06731 0.30906 -0.26384 -0.13231 -0.20757 0.33395 -0.33848 -0.31743 -0.48336 0.1464 -0.37304 0.34577 0.052041 0.44946 -0.46971 0.02628 -0.54155 -0.15518 -0.14107 -0.039722 0.28277 0.14393 0.23464 -0.31021 0.086173 0.20397 0.52624 0.17164 -0.082378 -0.71787 -0.41531 0.20335 -0.12763 0.41367 0.55187 0.57908 -0.33477 -0.36559 -0.54857 -0.062892 0.26584 0.30205 0.99775 -0.80481 -3.0243 0.01254 -0.36942 2.2167 0.72201 -0.24978 0.92136 0.034514 0.46745 1.1079 -0.19358 -0.074575 0.23353 -0.052062 -0.22044 0.057162 -0.15806 -0.30798 -0.41625 0.37972 0.15006 -0.53212 -0.2055 -1.2526 0.071624 0.70565 0.49744 -0.42063 0.26148 -1.538 -0.30223 -0.073438 -0.28312 0.37104 -0.25217 0.016215 -0.017099 -0.38984 0.87424 -0.72569 -0.51058 -0.52028 -0.1459 0.8278 0.27062\n",
      "\n",
      "values: ['the', '-0.038194', '-0.24487', '0.72812', '-0.39961', '0.083172', '0.043953', '-0.39141', '0.3344', '-0.57545', '0.087459', '0.28787', '-0.06731', '0.30906', '-0.26384', '-0.13231', '-0.20757', '0.33395', '-0.33848', '-0.31743', '-0.48336', '0.1464', '-0.37304', '0.34577', '0.052041', '0.44946', '-0.46971', '0.02628', '-0.54155', '-0.15518', '-0.14107', '-0.039722', '0.28277', '0.14393', '0.23464', '-0.31021', '0.086173', '0.20397', '0.52624', '0.17164', '-0.082378', '-0.71787', '-0.41531', '0.20335', '-0.12763', '0.41367', '0.55187', '0.57908', '-0.33477', '-0.36559', '-0.54857', '-0.062892', '0.26584', '0.30205', '0.99775', '-0.80481', '-3.0243', '0.01254', '-0.36942', '2.2167', '0.72201', '-0.24978', '0.92136', '0.034514', '0.46745', '1.1079', '-0.19358', '-0.074575', '0.23353', '-0.052062', '-0.22044', '0.057162', '-0.15806', '-0.30798', '-0.41625', '0.37972', '0.15006', '-0.53212', '-0.2055', '-1.2526', '0.071624', '0.70565', '0.49744', '-0.42063', '0.26148', '-1.538', '-0.30223', '-0.073438', '-0.28312', '0.37104', '-0.25217', '0.016215', '-0.017099', '-0.38984', '0.87424', '-0.72569', '-0.51058', '-0.52028', '-0.1459', '0.8278', '0.27062']\n",
      "WORD: the\n",
      "coefficients: [-0.038194 -0.24487   0.72812  -0.39961   0.083172  0.043953 -0.39141\n",
      "  0.3344   -0.57545   0.087459  0.28787  -0.06731   0.30906  -0.26384\n",
      " -0.13231  -0.20757   0.33395  -0.33848  -0.31743  -0.48336   0.1464\n",
      " -0.37304   0.34577   0.052041  0.44946  -0.46971   0.02628  -0.54155\n",
      " -0.15518  -0.14107  -0.039722  0.28277   0.14393   0.23464  -0.31021\n",
      "  0.086173  0.20397   0.52624   0.17164  -0.082378 -0.71787  -0.41531\n",
      "  0.20335  -0.12763   0.41367   0.55187   0.57908  -0.33477  -0.36559\n",
      " -0.54857  -0.062892  0.26584   0.30205   0.99775  -0.80481  -3.0243\n",
      "  0.01254  -0.36942   2.2167    0.72201  -0.24978   0.92136   0.034514\n",
      "  0.46745   1.1079   -0.19358  -0.074575  0.23353  -0.052062 -0.22044\n",
      "  0.057162 -0.15806  -0.30798  -0.41625   0.37972   0.15006  -0.53212\n",
      " -0.2055   -1.2526    0.071624  0.70565   0.49744  -0.42063   0.26148\n",
      " -1.538    -0.30223  -0.073438 -0.28312   0.37104  -0.25217   0.016215\n",
      " -0.017099 -0.38984   0.87424  -0.72569  -0.51058  -0.52028  -0.1459\n",
      "  0.8278    0.27062 ]\n",
      "LINE: , -0.10767 0.11053 0.59812 -0.54361 0.67396 0.10663 0.038867 0.35481 0.06351 -0.094189 0.15786 -0.81665 0.14172 0.21939 0.58505 -0.52158 0.22783 -0.16642 -0.68228 0.3587 0.42568 0.19021 0.91963 0.57555 0.46185 0.42363 -0.095399 -0.42749 -0.16567 -0.056842 -0.29595 0.26037 -0.26606 -0.070404 -0.27662 0.15821 0.69825 0.43081 0.27952 -0.45437 -0.33801 -0.58184 0.22364 -0.5778 -0.26862 -0.20425 0.56394 -0.58524 -0.14365 -0.64218 0.0054697 -0.35248 0.16162 1.1796 -0.47674 -2.7553 -0.1321 -0.047729 1.0655 1.1034 -0.2208 0.18669 0.13177 0.15117 0.7131 -0.35215 0.91348 0.61783 0.70992 0.23955 -0.14571 -0.37859 -0.045959 -0.47368 0.2385 0.20536 -0.18996 0.32507 -1.1112 -0.36341 0.98679 -0.084776 -0.54008 0.11726 -1.0194 -0.24424 0.12771 0.013884 0.080374 -0.35414 0.34951 -0.7226 0.37549 0.4441 -0.99059 0.61214 -0.35111 -0.83155 0.45293 0.082577\n",
      "\n",
      "values: [',', '-0.10767', '0.11053', '0.59812', '-0.54361', '0.67396', '0.10663', '0.038867', '0.35481', '0.06351', '-0.094189', '0.15786', '-0.81665', '0.14172', '0.21939', '0.58505', '-0.52158', '0.22783', '-0.16642', '-0.68228', '0.3587', '0.42568', '0.19021', '0.91963', '0.57555', '0.46185', '0.42363', '-0.095399', '-0.42749', '-0.16567', '-0.056842', '-0.29595', '0.26037', '-0.26606', '-0.070404', '-0.27662', '0.15821', '0.69825', '0.43081', '0.27952', '-0.45437', '-0.33801', '-0.58184', '0.22364', '-0.5778', '-0.26862', '-0.20425', '0.56394', '-0.58524', '-0.14365', '-0.64218', '0.0054697', '-0.35248', '0.16162', '1.1796', '-0.47674', '-2.7553', '-0.1321', '-0.047729', '1.0655', '1.1034', '-0.2208', '0.18669', '0.13177', '0.15117', '0.7131', '-0.35215', '0.91348', '0.61783', '0.70992', '0.23955', '-0.14571', '-0.37859', '-0.045959', '-0.47368', '0.2385', '0.20536', '-0.18996', '0.32507', '-1.1112', '-0.36341', '0.98679', '-0.084776', '-0.54008', '0.11726', '-1.0194', '-0.24424', '0.12771', '0.013884', '0.080374', '-0.35414', '0.34951', '-0.7226', '0.37549', '0.4441', '-0.99059', '0.61214', '-0.35111', '-0.83155', '0.45293', '0.082577']\n",
      "WORD: ,\n",
      "coefficients: [-0.10767    0.11053    0.59812   -0.54361    0.67396    0.10663\n",
      "  0.038867   0.35481    0.06351   -0.094189   0.15786   -0.81665\n",
      "  0.14172    0.21939    0.58505   -0.52158    0.22783   -0.16642\n",
      " -0.68228    0.3587     0.42568    0.19021    0.91963    0.57555\n",
      "  0.46185    0.42363   -0.095399  -0.42749   -0.16567   -0.056842\n",
      " -0.29595    0.26037   -0.26606   -0.070404  -0.27662    0.15821\n",
      "  0.69825    0.43081    0.27952   -0.45437   -0.33801   -0.58184\n",
      "  0.22364   -0.5778    -0.26862   -0.20425    0.56394   -0.58524\n",
      " -0.14365   -0.64218    0.0054697 -0.35248    0.16162    1.1796\n",
      " -0.47674   -2.7553    -0.1321    -0.047729   1.0655     1.1034\n",
      " -0.2208     0.18669    0.13177    0.15117    0.7131    -0.35215\n",
      "  0.91348    0.61783    0.70992    0.23955   -0.14571   -0.37859\n",
      " -0.045959  -0.47368    0.2385     0.20536   -0.18996    0.32507\n",
      " -1.1112    -0.36341    0.98679   -0.084776  -0.54008    0.11726\n",
      " -1.0194    -0.24424    0.12771    0.013884   0.080374  -0.35414\n",
      "  0.34951   -0.7226     0.37549    0.4441    -0.99059    0.61214\n",
      " -0.35111   -0.83155    0.45293    0.082577 ]\n",
      "LINE: . -0.33979 0.20941 0.46348 -0.64792 -0.38377 0.038034 0.17127 0.15978 0.46619 -0.019169 0.41479 -0.34349 0.26872 0.04464 0.42131 -0.41032 0.15459 0.022239 -0.64653 0.25256 0.043136 -0.19445 0.46516 0.45651 0.68588 0.091295 0.21875 -0.70351 0.16785 -0.35079 -0.12634 0.66384 -0.2582 0.036542 -0.13605 0.40253 0.14289 0.38132 -0.12283 -0.45886 -0.25282 -0.30432 -0.11215 -0.26182 -0.22482 -0.44554 0.2991 -0.85612 -0.14503 -0.49086 0.0082973 -0.17491 0.27524 1.4401 -0.21239 -2.8435 -0.27958 -0.45722 1.6386 0.78808 -0.55262 0.65 0.086426 0.39012 1.0632 -0.35379 0.48328 0.346 0.84174 0.098707 -0.24213 -0.27053 0.045287 -0.40147 0.11395 0.0062226 0.036673 0.018518 -1.0213 -0.20806 0.64072 -0.068763 -0.58635 0.33476 -1.1432 -0.1148 -0.25091 -0.45907 -0.096819 -0.17946 -0.063351 -0.67412 -0.068895 0.53604 -0.87773 0.31802 -0.39242 -0.23394 0.47298 -0.028803\n",
      "\n",
      "values: ['.', '-0.33979', '0.20941', '0.46348', '-0.64792', '-0.38377', '0.038034', '0.17127', '0.15978', '0.46619', '-0.019169', '0.41479', '-0.34349', '0.26872', '0.04464', '0.42131', '-0.41032', '0.15459', '0.022239', '-0.64653', '0.25256', '0.043136', '-0.19445', '0.46516', '0.45651', '0.68588', '0.091295', '0.21875', '-0.70351', '0.16785', '-0.35079', '-0.12634', '0.66384', '-0.2582', '0.036542', '-0.13605', '0.40253', '0.14289', '0.38132', '-0.12283', '-0.45886', '-0.25282', '-0.30432', '-0.11215', '-0.26182', '-0.22482', '-0.44554', '0.2991', '-0.85612', '-0.14503', '-0.49086', '0.0082973', '-0.17491', '0.27524', '1.4401', '-0.21239', '-2.8435', '-0.27958', '-0.45722', '1.6386', '0.78808', '-0.55262', '0.65', '0.086426', '0.39012', '1.0632', '-0.35379', '0.48328', '0.346', '0.84174', '0.098707', '-0.24213', '-0.27053', '0.045287', '-0.40147', '0.11395', '0.0062226', '0.036673', '0.018518', '-1.0213', '-0.20806', '0.64072', '-0.068763', '-0.58635', '0.33476', '-1.1432', '-0.1148', '-0.25091', '-0.45907', '-0.096819', '-0.17946', '-0.063351', '-0.67412', '-0.068895', '0.53604', '-0.87773', '0.31802', '-0.39242', '-0.23394', '0.47298', '-0.028803']\n",
      "WORD: .\n",
      "coefficients: [-0.33979    0.20941    0.46348   -0.64792   -0.38377    0.038034\n",
      "  0.17127    0.15978    0.46619   -0.019169   0.41479   -0.34349\n",
      "  0.26872    0.04464    0.42131   -0.41032    0.15459    0.022239\n",
      " -0.64653    0.25256    0.043136  -0.19445    0.46516    0.45651\n",
      "  0.68588    0.091295   0.21875   -0.70351    0.16785   -0.35079\n",
      " -0.12634    0.66384   -0.2582     0.036542  -0.13605    0.40253\n",
      "  0.14289    0.38132   -0.12283   -0.45886   -0.25282   -0.30432\n",
      " -0.11215   -0.26182   -0.22482   -0.44554    0.2991    -0.85612\n",
      " -0.14503   -0.49086    0.0082973 -0.17491    0.27524    1.4401\n",
      " -0.21239   -2.8435    -0.27958   -0.45722    1.6386     0.78808\n",
      " -0.55262    0.65       0.086426   0.39012    1.0632    -0.35379\n",
      "  0.48328    0.346      0.84174    0.098707  -0.24213   -0.27053\n",
      "  0.045287  -0.40147    0.11395    0.0062226  0.036673   0.018518\n",
      " -1.0213    -0.20806    0.64072   -0.068763  -0.58635    0.33476\n",
      " -1.1432    -0.1148    -0.25091   -0.45907   -0.096819  -0.17946\n",
      " -0.063351  -0.67412   -0.068895   0.53604   -0.87773    0.31802\n",
      " -0.39242   -0.23394    0.47298   -0.028803 ]\n",
      "LINE: of -0.1529 -0.24279 0.89837 0.16996 0.53516 0.48784 -0.58826 -0.17982 -1.3581 0.42541 0.15377 0.24215 0.13474 0.41193 0.67043 -0.56418 0.42985 -0.012183 -0.11677 0.31781 0.054177 -0.054273 0.35516 -0.30241 0.31434 -0.33846 0.71715 -0.26855 -0.15837 -0.47467 0.051581 -0.33252 0.15003 -0.1299 -0.54617 -0.37843 0.64261 0.82187 -0.080006 0.078479 -0.96976 -0.57741 0.56491 -0.39873 -0.057099 0.19743 0.065706 -0.48092 -0.20125 -0.40834 0.39456 -0.02642 -0.11838 1.012 -0.53171 -2.7474 -0.042981 -0.74849 1.7574 0.59085 0.04885 0.78267 0.38497 0.42097 0.67882 0.10337 0.6328 -0.026595 0.58647 -0.44332 0.33057 -0.12022 -0.55645 0.073611 0.20915 0.43395 -0.012761 0.089874 -1.7991 0.084808 0.77112 0.63105 -0.90685 0.60326 -1.7515 0.18596 -0.50687 -0.70203 0.66578 -0.81304 0.18712 -0.018488 -0.26757 0.727 -0.59363 -0.34839 -0.56094 -0.591 1.0039 0.20664\n",
      "\n",
      "values: ['of', '-0.1529', '-0.24279', '0.89837', '0.16996', '0.53516', '0.48784', '-0.58826', '-0.17982', '-1.3581', '0.42541', '0.15377', '0.24215', '0.13474', '0.41193', '0.67043', '-0.56418', '0.42985', '-0.012183', '-0.11677', '0.31781', '0.054177', '-0.054273', '0.35516', '-0.30241', '0.31434', '-0.33846', '0.71715', '-0.26855', '-0.15837', '-0.47467', '0.051581', '-0.33252', '0.15003', '-0.1299', '-0.54617', '-0.37843', '0.64261', '0.82187', '-0.080006', '0.078479', '-0.96976', '-0.57741', '0.56491', '-0.39873', '-0.057099', '0.19743', '0.065706', '-0.48092', '-0.20125', '-0.40834', '0.39456', '-0.02642', '-0.11838', '1.012', '-0.53171', '-2.7474', '-0.042981', '-0.74849', '1.7574', '0.59085', '0.04885', '0.78267', '0.38497', '0.42097', '0.67882', '0.10337', '0.6328', '-0.026595', '0.58647', '-0.44332', '0.33057', '-0.12022', '-0.55645', '0.073611', '0.20915', '0.43395', '-0.012761', '0.089874', '-1.7991', '0.084808', '0.77112', '0.63105', '-0.90685', '0.60326', '-1.7515', '0.18596', '-0.50687', '-0.70203', '0.66578', '-0.81304', '0.18712', '-0.018488', '-0.26757', '0.727', '-0.59363', '-0.34839', '-0.56094', '-0.591', '1.0039', '0.20664']\n",
      "WORD: of\n",
      "coefficients: [-0.1529   -0.24279   0.89837   0.16996   0.53516   0.48784  -0.58826\n",
      " -0.17982  -1.3581    0.42541   0.15377   0.24215   0.13474   0.41193\n",
      "  0.67043  -0.56418   0.42985  -0.012183 -0.11677   0.31781   0.054177\n",
      " -0.054273  0.35516  -0.30241   0.31434  -0.33846   0.71715  -0.26855\n",
      " -0.15837  -0.47467   0.051581 -0.33252   0.15003  -0.1299   -0.54617\n",
      " -0.37843   0.64261   0.82187  -0.080006  0.078479 -0.96976  -0.57741\n",
      "  0.56491  -0.39873  -0.057099  0.19743   0.065706 -0.48092  -0.20125\n",
      " -0.40834   0.39456  -0.02642  -0.11838   1.012    -0.53171  -2.7474\n",
      " -0.042981 -0.74849   1.7574    0.59085   0.04885   0.78267   0.38497\n",
      "  0.42097   0.67882   0.10337   0.6328   -0.026595  0.58647  -0.44332\n",
      "  0.33057  -0.12022  -0.55645   0.073611  0.20915   0.43395  -0.012761\n",
      "  0.089874 -1.7991    0.084808  0.77112   0.63105  -0.90685   0.60326\n",
      " -1.7515    0.18596  -0.50687  -0.70203   0.66578  -0.81304   0.18712\n",
      " -0.018488 -0.26757   0.727    -0.59363  -0.34839  -0.56094  -0.591\n",
      "  1.0039    0.20664 ]\n",
      "LINE: to -0.1897 0.050024 0.19084 -0.049184 -0.089737 0.21006 -0.54952 0.098377 -0.20135 0.34241 -0.092677 0.161 -0.13268 -0.2816 0.18737 -0.42959 0.96039 0.13972 -1.0781 0.40518 0.50539 -0.55064 0.4844 0.38044 -0.0029055 -0.34942 -0.099696 -0.78368 1.0363 -0.2314 -0.47121 0.57126 -0.21454 0.35958 -0.48319 1.0875 0.28524 0.12447 -0.039248 -0.076732 -0.76343 -0.32409 -0.5749 -1.0893 -0.41811 0.4512 0.12112 -0.51367 -0.13349 -1.1378 -0.28768 0.16774 0.55804 1.5387 0.018859 -2.9721 -0.24216 -0.92495 2.1992 0.28234 -0.3478 0.51621 -0.43387 0.36852 0.74573 0.072102 0.27931 0.92569 -0.050336 -0.85856 -0.1358 -0.92551 -0.33991 -1.0394 -0.067203 -0.21379 -0.4769 0.21377 -0.84008 0.052536 0.59298 0.29604 -0.67644 0.13916 -1.5504 -0.20765 0.7222 0.52056 -0.076221 -0.15194 -0.13134 0.058617 -0.31869 -0.61419 -0.62393 -0.41548 -0.038175 -0.39804 0.47647 -0.15983\n",
      "\n",
      "values: ['to', '-0.1897', '0.050024', '0.19084', '-0.049184', '-0.089737', '0.21006', '-0.54952', '0.098377', '-0.20135', '0.34241', '-0.092677', '0.161', '-0.13268', '-0.2816', '0.18737', '-0.42959', '0.96039', '0.13972', '-1.0781', '0.40518', '0.50539', '-0.55064', '0.4844', '0.38044', '-0.0029055', '-0.34942', '-0.099696', '-0.78368', '1.0363', '-0.2314', '-0.47121', '0.57126', '-0.21454', '0.35958', '-0.48319', '1.0875', '0.28524', '0.12447', '-0.039248', '-0.076732', '-0.76343', '-0.32409', '-0.5749', '-1.0893', '-0.41811', '0.4512', '0.12112', '-0.51367', '-0.13349', '-1.1378', '-0.28768', '0.16774', '0.55804', '1.5387', '0.018859', '-2.9721', '-0.24216', '-0.92495', '2.1992', '0.28234', '-0.3478', '0.51621', '-0.43387', '0.36852', '0.74573', '0.072102', '0.27931', '0.92569', '-0.050336', '-0.85856', '-0.1358', '-0.92551', '-0.33991', '-1.0394', '-0.067203', '-0.21379', '-0.4769', '0.21377', '-0.84008', '0.052536', '0.59298', '0.29604', '-0.67644', '0.13916', '-1.5504', '-0.20765', '0.7222', '0.52056', '-0.076221', '-0.15194', '-0.13134', '0.058617', '-0.31869', '-0.61419', '-0.62393', '-0.41548', '-0.038175', '-0.39804', '0.47647', '-0.15983']\n",
      "WORD: to\n",
      "coefficients: [-1.8970e-01  5.0024e-02  1.9084e-01 -4.9184e-02 -8.9737e-02  2.1006e-01\n",
      " -5.4952e-01  9.8377e-02 -2.0135e-01  3.4241e-01 -9.2677e-02  1.6100e-01\n",
      " -1.3268e-01 -2.8160e-01  1.8737e-01 -4.2959e-01  9.6039e-01  1.3972e-01\n",
      " -1.0781e+00  4.0518e-01  5.0539e-01 -5.5064e-01  4.8440e-01  3.8044e-01\n",
      " -2.9055e-03 -3.4942e-01 -9.9696e-02 -7.8368e-01  1.0363e+00 -2.3140e-01\n",
      " -4.7121e-01  5.7126e-01 -2.1454e-01  3.5958e-01 -4.8319e-01  1.0875e+00\n",
      "  2.8524e-01  1.2447e-01 -3.9248e-02 -7.6732e-02 -7.6343e-01 -3.2409e-01\n",
      " -5.7490e-01 -1.0893e+00 -4.1811e-01  4.5120e-01  1.2112e-01 -5.1367e-01\n",
      " -1.3349e-01 -1.1378e+00 -2.8768e-01  1.6774e-01  5.5804e-01  1.5387e+00\n",
      "  1.8859e-02 -2.9721e+00 -2.4216e-01 -9.2495e-01  2.1992e+00  2.8234e-01\n",
      " -3.4780e-01  5.1621e-01 -4.3387e-01  3.6852e-01  7.4573e-01  7.2102e-02\n",
      "  2.7931e-01  9.2569e-01 -5.0336e-02 -8.5856e-01 -1.3580e-01 -9.2551e-01\n",
      " -3.3991e-01 -1.0394e+00 -6.7203e-02 -2.1379e-01 -4.7690e-01  2.1377e-01\n",
      " -8.4008e-01  5.2536e-02  5.9298e-01  2.9604e-01 -6.7644e-01  1.3916e-01\n",
      " -1.5504e+00 -2.0765e-01  7.2220e-01  5.2056e-01 -7.6221e-02 -1.5194e-01\n",
      " -1.3134e-01  5.8617e-02 -3.1869e-01 -6.1419e-01 -6.2393e-01 -4.1548e-01\n",
      " -3.8175e-02 -3.9804e-01  4.7647e-01 -1.5983e-01]\n",
      "LINE: and -0.071953 0.23127 0.023731 -0.50638 0.33923 0.1959 -0.32943 0.18364 -0.18057 0.28963 0.20448 -0.5496 0.27399 0.58327 0.20468 -0.49228 0.19974 -0.070237 -0.88049 0.29485 0.14071 -0.1009 0.99449 0.36973 0.44554 0.28998 -0.1376 -0.56365 -0.029365 -0.4122 -0.25269 0.63181 -0.44767 0.24363 -0.10813 0.25164 0.46967 0.3755 -0.23613 -0.14129 -0.44537 -0.65737 -0.042421 -0.28636 -0.28811 0.063766 0.20281 -0.53542 0.41307 -0.59722 -0.38614 0.19389 -0.17809 1.6618 -0.011819 -2.3737 0.058427 -0.2698 1.2823 0.81925 -0.22322 0.72932 -0.053211 0.43507 0.85011 -0.42935 0.92664 0.39051 1.0585 -0.24561 -0.18265 -0.5328 0.059518 -0.66019 0.18991 0.28836 -0.2434 0.52784 -0.65762 -0.14081 1.0491 0.5134 -0.23816 0.69895 -1.4813 -0.2487 -0.17936 -0.059137 -0.08056 -0.48782 0.014487 -0.6259 -0.32367 0.41862 -1.0807 0.46742 -0.49931 -0.71895 0.86894 0.19539\n",
      "\n",
      "values: ['and', '-0.071953', '0.23127', '0.023731', '-0.50638', '0.33923', '0.1959', '-0.32943', '0.18364', '-0.18057', '0.28963', '0.20448', '-0.5496', '0.27399', '0.58327', '0.20468', '-0.49228', '0.19974', '-0.070237', '-0.88049', '0.29485', '0.14071', '-0.1009', '0.99449', '0.36973', '0.44554', '0.28998', '-0.1376', '-0.56365', '-0.029365', '-0.4122', '-0.25269', '0.63181', '-0.44767', '0.24363', '-0.10813', '0.25164', '0.46967', '0.3755', '-0.23613', '-0.14129', '-0.44537', '-0.65737', '-0.042421', '-0.28636', '-0.28811', '0.063766', '0.20281', '-0.53542', '0.41307', '-0.59722', '-0.38614', '0.19389', '-0.17809', '1.6618', '-0.011819', '-2.3737', '0.058427', '-0.2698', '1.2823', '0.81925', '-0.22322', '0.72932', '-0.053211', '0.43507', '0.85011', '-0.42935', '0.92664', '0.39051', '1.0585', '-0.24561', '-0.18265', '-0.5328', '0.059518', '-0.66019', '0.18991', '0.28836', '-0.2434', '0.52784', '-0.65762', '-0.14081', '1.0491', '0.5134', '-0.23816', '0.69895', '-1.4813', '-0.2487', '-0.17936', '-0.059137', '-0.08056', '-0.48782', '0.014487', '-0.6259', '-0.32367', '0.41862', '-1.0807', '0.46742', '-0.49931', '-0.71895', '0.86894', '0.19539']\n",
      "WORD: and\n",
      "coefficients: [-0.071953  0.23127   0.023731 -0.50638   0.33923   0.1959   -0.32943\n",
      "  0.18364  -0.18057   0.28963   0.20448  -0.5496    0.27399   0.58327\n",
      "  0.20468  -0.49228   0.19974  -0.070237 -0.88049   0.29485   0.14071\n",
      " -0.1009    0.99449   0.36973   0.44554   0.28998  -0.1376   -0.56365\n",
      " -0.029365 -0.4122   -0.25269   0.63181  -0.44767   0.24363  -0.10813\n",
      "  0.25164   0.46967   0.3755   -0.23613  -0.14129  -0.44537  -0.65737\n",
      " -0.042421 -0.28636  -0.28811   0.063766  0.20281  -0.53542   0.41307\n",
      " -0.59722  -0.38614   0.19389  -0.17809   1.6618   -0.011819 -2.3737\n",
      "  0.058427 -0.2698    1.2823    0.81925  -0.22322   0.72932  -0.053211\n",
      "  0.43507   0.85011  -0.42935   0.92664   0.39051   1.0585   -0.24561\n",
      " -0.18265  -0.5328    0.059518 -0.66019   0.18991   0.28836  -0.2434\n",
      "  0.52784  -0.65762  -0.14081   1.0491    0.5134   -0.23816   0.69895\n",
      " -1.4813   -0.2487   -0.17936  -0.059137 -0.08056  -0.48782   0.014487\n",
      " -0.6259   -0.32367   0.41862  -1.0807    0.46742  -0.49931  -0.71895\n",
      "  0.86894   0.19539 ]\n"
     ]
    }
   ],
   "source": [
    "embeddings_dictionary = {}\n",
    "\n",
    "##embedding_test = {}\n",
    "#count = 0\n",
    "\n",
    "f = open(\"./Data/glove.6b.100d.txt\", encoding=\"utf8\")\n",
    "\n",
    "\n",
    "for line in f:\n",
    "    #if count <= 5:\n",
    "    #    print(f\"LINE: {line}\")\n",
    "\n",
    "    values = line.split()\n",
    "    #if count <= 5:\n",
    "    #    print(f\"values: {values}\")\n",
    "\n",
    "    word = values[0]\n",
    "    #if count <= 5:\n",
    "    #    print(f\"WORD: {word}\")\n",
    "\n",
    "    coefficients = np.asarray(values[1:], dtype='float32')\n",
    "    #if count <= 5:\n",
    "    #    print(f\"coefficients: {coefficients}\")\n",
    "    #    embedding_test[word] = coefficients\n",
    "\n",
    "    embeddings_dictionary[word] = coefficients\n",
    "\n",
    "    #count += 1\n",
    "f.close()"
   ]
  },
  {
   "cell_type": "code",
   "execution_count": 38,
   "id": "faef82f2",
   "metadata": {},
   "outputs": [
    {
     "data": {
      "text/plain": [
       "{'the': array([-0.038194, -0.24487 ,  0.72812 , -0.39961 ,  0.083172,  0.043953,\n",
       "        -0.39141 ,  0.3344  , -0.57545 ,  0.087459,  0.28787 , -0.06731 ,\n",
       "         0.30906 , -0.26384 , -0.13231 , -0.20757 ,  0.33395 , -0.33848 ,\n",
       "        -0.31743 , -0.48336 ,  0.1464  , -0.37304 ,  0.34577 ,  0.052041,\n",
       "         0.44946 , -0.46971 ,  0.02628 , -0.54155 , -0.15518 , -0.14107 ,\n",
       "        -0.039722,  0.28277 ,  0.14393 ,  0.23464 , -0.31021 ,  0.086173,\n",
       "         0.20397 ,  0.52624 ,  0.17164 , -0.082378, -0.71787 , -0.41531 ,\n",
       "         0.20335 , -0.12763 ,  0.41367 ,  0.55187 ,  0.57908 , -0.33477 ,\n",
       "        -0.36559 , -0.54857 , -0.062892,  0.26584 ,  0.30205 ,  0.99775 ,\n",
       "        -0.80481 , -3.0243  ,  0.01254 , -0.36942 ,  2.2167  ,  0.72201 ,\n",
       "        -0.24978 ,  0.92136 ,  0.034514,  0.46745 ,  1.1079  , -0.19358 ,\n",
       "        -0.074575,  0.23353 , -0.052062, -0.22044 ,  0.057162, -0.15806 ,\n",
       "        -0.30798 , -0.41625 ,  0.37972 ,  0.15006 , -0.53212 , -0.2055  ,\n",
       "        -1.2526  ,  0.071624,  0.70565 ,  0.49744 , -0.42063 ,  0.26148 ,\n",
       "        -1.538   , -0.30223 , -0.073438, -0.28312 ,  0.37104 , -0.25217 ,\n",
       "         0.016215, -0.017099, -0.38984 ,  0.87424 , -0.72569 , -0.51058 ,\n",
       "        -0.52028 , -0.1459  ,  0.8278  ,  0.27062 ], dtype=float32),\n",
       " ',': array([-0.10767  ,  0.11053  ,  0.59812  , -0.54361  ,  0.67396  ,\n",
       "         0.10663  ,  0.038867 ,  0.35481  ,  0.06351  , -0.094189 ,\n",
       "         0.15786  , -0.81665  ,  0.14172  ,  0.21939  ,  0.58505  ,\n",
       "        -0.52158  ,  0.22783  , -0.16642  , -0.68228  ,  0.3587   ,\n",
       "         0.42568  ,  0.19021  ,  0.91963  ,  0.57555  ,  0.46185  ,\n",
       "         0.42363  , -0.095399 , -0.42749  , -0.16567  , -0.056842 ,\n",
       "        -0.29595  ,  0.26037  , -0.26606  , -0.070404 , -0.27662  ,\n",
       "         0.15821  ,  0.69825  ,  0.43081  ,  0.27952  , -0.45437  ,\n",
       "        -0.33801  , -0.58184  ,  0.22364  , -0.5778   , -0.26862  ,\n",
       "        -0.20425  ,  0.56394  , -0.58524  , -0.14365  , -0.64218  ,\n",
       "         0.0054697, -0.35248  ,  0.16162  ,  1.1796   , -0.47674  ,\n",
       "        -2.7553   , -0.1321   , -0.047729 ,  1.0655   ,  1.1034   ,\n",
       "        -0.2208   ,  0.18669  ,  0.13177  ,  0.15117  ,  0.7131   ,\n",
       "        -0.35215  ,  0.91348  ,  0.61783  ,  0.70992  ,  0.23955  ,\n",
       "        -0.14571  , -0.37859  , -0.045959 , -0.47368  ,  0.2385   ,\n",
       "         0.20536  , -0.18996  ,  0.32507  , -1.1112   , -0.36341  ,\n",
       "         0.98679  , -0.084776 , -0.54008  ,  0.11726  , -1.0194   ,\n",
       "        -0.24424  ,  0.12771  ,  0.013884 ,  0.080374 , -0.35414  ,\n",
       "         0.34951  , -0.7226   ,  0.37549  ,  0.4441   , -0.99059  ,\n",
       "         0.61214  , -0.35111  , -0.83155  ,  0.45293  ,  0.082577 ],\n",
       "       dtype=float32),\n",
       " '.': array([-0.33979  ,  0.20941  ,  0.46348  , -0.64792  , -0.38377  ,\n",
       "         0.038034 ,  0.17127  ,  0.15978  ,  0.46619  , -0.019169 ,\n",
       "         0.41479  , -0.34349  ,  0.26872  ,  0.04464  ,  0.42131  ,\n",
       "        -0.41032  ,  0.15459  ,  0.022239 , -0.64653  ,  0.25256  ,\n",
       "         0.043136 , -0.19445  ,  0.46516  ,  0.45651  ,  0.68588  ,\n",
       "         0.091295 ,  0.21875  , -0.70351  ,  0.16785  , -0.35079  ,\n",
       "        -0.12634  ,  0.66384  , -0.2582   ,  0.036542 , -0.13605  ,\n",
       "         0.40253  ,  0.14289  ,  0.38132  , -0.12283  , -0.45886  ,\n",
       "        -0.25282  , -0.30432  , -0.11215  , -0.26182  , -0.22482  ,\n",
       "        -0.44554  ,  0.2991   , -0.85612  , -0.14503  , -0.49086  ,\n",
       "         0.0082973, -0.17491  ,  0.27524  ,  1.4401   , -0.21239  ,\n",
       "        -2.8435   , -0.27958  , -0.45722  ,  1.6386   ,  0.78808  ,\n",
       "        -0.55262  ,  0.65     ,  0.086426 ,  0.39012  ,  1.0632   ,\n",
       "        -0.35379  ,  0.48328  ,  0.346    ,  0.84174  ,  0.098707 ,\n",
       "        -0.24213  , -0.27053  ,  0.045287 , -0.40147  ,  0.11395  ,\n",
       "         0.0062226,  0.036673 ,  0.018518 , -1.0213   , -0.20806  ,\n",
       "         0.64072  , -0.068763 , -0.58635  ,  0.33476  , -1.1432   ,\n",
       "        -0.1148   , -0.25091  , -0.45907  , -0.096819 , -0.17946  ,\n",
       "        -0.063351 , -0.67412  , -0.068895 ,  0.53604  , -0.87773  ,\n",
       "         0.31802  , -0.39242  , -0.23394  ,  0.47298  , -0.028803 ],\n",
       "       dtype=float32),\n",
       " 'of': array([-0.1529  , -0.24279 ,  0.89837 ,  0.16996 ,  0.53516 ,  0.48784 ,\n",
       "        -0.58826 , -0.17982 , -1.3581  ,  0.42541 ,  0.15377 ,  0.24215 ,\n",
       "         0.13474 ,  0.41193 ,  0.67043 , -0.56418 ,  0.42985 , -0.012183,\n",
       "        -0.11677 ,  0.31781 ,  0.054177, -0.054273,  0.35516 , -0.30241 ,\n",
       "         0.31434 , -0.33846 ,  0.71715 , -0.26855 , -0.15837 , -0.47467 ,\n",
       "         0.051581, -0.33252 ,  0.15003 , -0.1299  , -0.54617 , -0.37843 ,\n",
       "         0.64261 ,  0.82187 , -0.080006,  0.078479, -0.96976 , -0.57741 ,\n",
       "         0.56491 , -0.39873 , -0.057099,  0.19743 ,  0.065706, -0.48092 ,\n",
       "        -0.20125 , -0.40834 ,  0.39456 , -0.02642 , -0.11838 ,  1.012   ,\n",
       "        -0.53171 , -2.7474  , -0.042981, -0.74849 ,  1.7574  ,  0.59085 ,\n",
       "         0.04885 ,  0.78267 ,  0.38497 ,  0.42097 ,  0.67882 ,  0.10337 ,\n",
       "         0.6328  , -0.026595,  0.58647 , -0.44332 ,  0.33057 , -0.12022 ,\n",
       "        -0.55645 ,  0.073611,  0.20915 ,  0.43395 , -0.012761,  0.089874,\n",
       "        -1.7991  ,  0.084808,  0.77112 ,  0.63105 , -0.90685 ,  0.60326 ,\n",
       "        -1.7515  ,  0.18596 , -0.50687 , -0.70203 ,  0.66578 , -0.81304 ,\n",
       "         0.18712 , -0.018488, -0.26757 ,  0.727   , -0.59363 , -0.34839 ,\n",
       "        -0.56094 , -0.591   ,  1.0039  ,  0.20664 ], dtype=float32),\n",
       " 'to': array([-1.8970e-01,  5.0024e-02,  1.9084e-01, -4.9184e-02, -8.9737e-02,\n",
       "         2.1006e-01, -5.4952e-01,  9.8377e-02, -2.0135e-01,  3.4241e-01,\n",
       "        -9.2677e-02,  1.6100e-01, -1.3268e-01, -2.8160e-01,  1.8737e-01,\n",
       "        -4.2959e-01,  9.6039e-01,  1.3972e-01, -1.0781e+00,  4.0518e-01,\n",
       "         5.0539e-01, -5.5064e-01,  4.8440e-01,  3.8044e-01, -2.9055e-03,\n",
       "        -3.4942e-01, -9.9696e-02, -7.8368e-01,  1.0363e+00, -2.3140e-01,\n",
       "        -4.7121e-01,  5.7126e-01, -2.1454e-01,  3.5958e-01, -4.8319e-01,\n",
       "         1.0875e+00,  2.8524e-01,  1.2447e-01, -3.9248e-02, -7.6732e-02,\n",
       "        -7.6343e-01, -3.2409e-01, -5.7490e-01, -1.0893e+00, -4.1811e-01,\n",
       "         4.5120e-01,  1.2112e-01, -5.1367e-01, -1.3349e-01, -1.1378e+00,\n",
       "        -2.8768e-01,  1.6774e-01,  5.5804e-01,  1.5387e+00,  1.8859e-02,\n",
       "        -2.9721e+00, -2.4216e-01, -9.2495e-01,  2.1992e+00,  2.8234e-01,\n",
       "        -3.4780e-01,  5.1621e-01, -4.3387e-01,  3.6852e-01,  7.4573e-01,\n",
       "         7.2102e-02,  2.7931e-01,  9.2569e-01, -5.0336e-02, -8.5856e-01,\n",
       "        -1.3580e-01, -9.2551e-01, -3.3991e-01, -1.0394e+00, -6.7203e-02,\n",
       "        -2.1379e-01, -4.7690e-01,  2.1377e-01, -8.4008e-01,  5.2536e-02,\n",
       "         5.9298e-01,  2.9604e-01, -6.7644e-01,  1.3916e-01, -1.5504e+00,\n",
       "        -2.0765e-01,  7.2220e-01,  5.2056e-01, -7.6221e-02, -1.5194e-01,\n",
       "        -1.3134e-01,  5.8617e-02, -3.1869e-01, -6.1419e-01, -6.2393e-01,\n",
       "        -4.1548e-01, -3.8175e-02, -3.9804e-01,  4.7647e-01, -1.5983e-01],\n",
       "       dtype=float32),\n",
       " 'and': array([-0.071953,  0.23127 ,  0.023731, -0.50638 ,  0.33923 ,  0.1959  ,\n",
       "        -0.32943 ,  0.18364 , -0.18057 ,  0.28963 ,  0.20448 , -0.5496  ,\n",
       "         0.27399 ,  0.58327 ,  0.20468 , -0.49228 ,  0.19974 , -0.070237,\n",
       "        -0.88049 ,  0.29485 ,  0.14071 , -0.1009  ,  0.99449 ,  0.36973 ,\n",
       "         0.44554 ,  0.28998 , -0.1376  , -0.56365 , -0.029365, -0.4122  ,\n",
       "        -0.25269 ,  0.63181 , -0.44767 ,  0.24363 , -0.10813 ,  0.25164 ,\n",
       "         0.46967 ,  0.3755  , -0.23613 , -0.14129 , -0.44537 , -0.65737 ,\n",
       "        -0.042421, -0.28636 , -0.28811 ,  0.063766,  0.20281 , -0.53542 ,\n",
       "         0.41307 , -0.59722 , -0.38614 ,  0.19389 , -0.17809 ,  1.6618  ,\n",
       "        -0.011819, -2.3737  ,  0.058427, -0.2698  ,  1.2823  ,  0.81925 ,\n",
       "        -0.22322 ,  0.72932 , -0.053211,  0.43507 ,  0.85011 , -0.42935 ,\n",
       "         0.92664 ,  0.39051 ,  1.0585  , -0.24561 , -0.18265 , -0.5328  ,\n",
       "         0.059518, -0.66019 ,  0.18991 ,  0.28836 , -0.2434  ,  0.52784 ,\n",
       "        -0.65762 , -0.14081 ,  1.0491  ,  0.5134  , -0.23816 ,  0.69895 ,\n",
       "        -1.4813  , -0.2487  , -0.17936 , -0.059137, -0.08056 , -0.48782 ,\n",
       "         0.014487, -0.6259  , -0.32367 ,  0.41862 , -1.0807  ,  0.46742 ,\n",
       "        -0.49931 , -0.71895 ,  0.86894 ,  0.19539 ], dtype=float32)}"
      ]
     },
     "execution_count": 38,
     "metadata": {},
     "output_type": "execute_result"
    }
   ],
   "source": [
    "#embedding_test"
   ]
  },
  {
   "cell_type": "code",
   "execution_count": 8,
   "id": "2cd7fb6c",
   "metadata": {},
   "outputs": [
    {
     "name": "stdout",
     "output_type": "stream",
     "text": [
      "276689\n"
     ]
    }
   ],
   "source": [
    "tokenizer = Tokenizer()\n",
    "tokenizer.fit_on_texts(X)\n",
    "\n",
    "vocab_size = len(tokenizer.word_index)\n",
    "print(vocab_size)"
   ]
  },
  {
   "cell_type": "code",
   "execution_count": 9,
   "id": "f39255ff",
   "metadata": {},
   "outputs": [
    {
     "data": {
      "text/plain": [
       "{'the': 1,\n",
       " 'to': 2,\n",
       " 'of': 3,\n",
       " 'a': 4,\n",
       " 'and': 5,\n",
       " 'in': 6,\n",
       " 'that': 7,\n",
       " 'on': 8,\n",
       " 'for': 9,\n",
       " 's': 10,\n",
       " 'is': 11,\n",
       " 'he': 12,\n",
       " 'said': 13,\n",
       " 'trump': 14,\n",
       " 'it': 15,\n",
       " 'with': 16,\n",
       " 'was': 17,\n",
       " 'as': 18,\n",
       " 'his': 19,\n",
       " 'by': 20,\n",
       " 'has': 21,\n",
       " 'be': 22,\n",
       " 'have': 23,\n",
       " 'not': 24,\n",
       " 'from': 25,\n",
       " 'at': 26,\n",
       " 'this': 27,\n",
       " 'are': 28,\n",
       " 'who': 29,\n",
       " 'us': 30,\n",
       " 'an': 31,\n",
       " 'they': 32,\n",
       " 'but': 33,\n",
       " 'would': 34,\n",
       " 'we': 35,\n",
       " 'i': 36,\n",
       " 'about': 37,\n",
       " 'president': 38,\n",
       " 'will': 39,\n",
       " 'their': 40,\n",
       " 'had': 41,\n",
       " 'you': 42,\n",
       " 't': 43,\n",
       " 'been': 44,\n",
       " 'people': 45,\n",
       " 'were': 46,\n",
       " 'or': 47,\n",
       " 'more': 48,\n",
       " 'after': 49,\n",
       " 'which': 50,\n",
       " 'she': 51,\n",
       " 'her': 52,\n",
       " 'one': 53,\n",
       " 'out': 54,\n",
       " 'all': 55,\n",
       " 'if': 56,\n",
       " 'what': 57,\n",
       " 'state': 58,\n",
       " 'new': 59,\n",
       " 'when': 60,\n",
       " 'its': 61,\n",
       " 'also': 62,\n",
       " 'up': 63,\n",
       " 'over': 64,\n",
       " 'no': 65,\n",
       " 'there': 66,\n",
       " 'house': 67,\n",
       " 'subject': 68,\n",
       " 'our': 69,\n",
       " 'clinton': 70,\n",
       " 'donald': 71,\n",
       " 'reuters': 72,\n",
       " 'obama': 73,\n",
       " 'government': 74,\n",
       " 'can': 75,\n",
       " 'states': 76,\n",
       " 'just': 77,\n",
       " 'than': 78,\n",
       " 'him': 79,\n",
       " 'republican': 80,\n",
       " 'so': 81,\n",
       " 'other': 82,\n",
       " 'some': 83,\n",
       " 'could': 84,\n",
       " 'white': 85,\n",
       " 'into': 86,\n",
       " 'told': 87,\n",
       " 'united': 88,\n",
       " 'against': 89,\n",
       " 'like': 90,\n",
       " 'do': 91,\n",
       " 'because': 92,\n",
       " 'campaign': 93,\n",
       " 'them': 94,\n",
       " 'any': 95,\n",
       " 'last': 96,\n",
       " 'two': 97,\n",
       " 'election': 98,\n",
       " 'news': 99,\n",
       " 'time': 100,\n",
       " 'how': 101,\n",
       " 'now': 102,\n",
       " 'party': 103,\n",
       " 'only': 104,\n",
       " 'first': 105,\n",
       " 'former': 106,\n",
       " 'should': 107,\n",
       " 'being': 108,\n",
       " 'even': 109,\n",
       " 'hillary': 110,\n",
       " 'year': 111,\n",
       " 'did': 112,\n",
       " 'before': 113,\n",
       " 'while': 114,\n",
       " 'country': 115,\n",
       " 'during': 116,\n",
       " 'many': 117,\n",
       " 'years': 118,\n",
       " 'security': 119,\n",
       " 'may': 120,\n",
       " 'media': 121,\n",
       " 'most': 122,\n",
       " 'national': 123,\n",
       " 'say': 124,\n",
       " 'political': 125,\n",
       " 'police': 126,\n",
       " 'get': 127,\n",
       " 'made': 128,\n",
       " 'court': 129,\n",
       " 'make': 130,\n",
       " 'law': 131,\n",
       " 'those': 132,\n",
       " 'american': 133,\n",
       " 'since': 134,\n",
       " 'going': 135,\n",
       " 'where': 136,\n",
       " 'percent': 137,\n",
       " 'republicans': 138,\n",
       " 'presidential': 139,\n",
       " 'under': 140,\n",
       " 'back': 141,\n",
       " 'bill': 142,\n",
       " 'very': 143,\n",
       " 'these': 144,\n",
       " 'says': 145,\n",
       " 'north': 146,\n",
       " 'russia': 147,\n",
       " 'senate': 148,\n",
       " 'support': 149,\n",
       " 'democratic': 150,\n",
       " 'trump’s': 151,\n",
       " 'administration': 152,\n",
       " 'vote': 153,\n",
       " 'down': 154,\n",
       " 'between': 155,\n",
       " 'including': 156,\n",
       " 'week': 157,\n",
       " 'then': 158,\n",
       " 'group': 159,\n",
       " 'know': 160,\n",
       " 'america': 161,\n",
       " 'think': 162,\n",
       " 'officials': 163,\n",
       " 'according': 164,\n",
       " 'take': 165,\n",
       " 'way': 166,\n",
       " 'federal': 167,\n",
       " 'public': 168,\n",
       " 'such': 169,\n",
       " 'military': 170,\n",
       " 'foreign': 171,\n",
       " 'office': 172,\n",
       " 'called': 173,\n",
       " 're': 174,\n",
       " 'via': 175,\n",
       " 'million': 176,\n",
       " 'my': 177,\n",
       " 'statement': 178,\n",
       " 'right': 179,\n",
       " 'department': 180,\n",
       " 'washington': 181,\n",
       " 'world': 182,\n",
       " 'want': 183,\n",
       " 'saying': 184,\n",
       " 'tax': 185,\n",
       " 'don': 186,\n",
       " 'see': 187,\n",
       " 'still': 188,\n",
       " 'russian': 189,\n",
       " 'video': 190,\n",
       " 'tuesday': 191,\n",
       " 'well': 192,\n",
       " 'both': 193,\n",
       " 'congress': 194,\n",
       " 'your': 195,\n",
       " 'here': 196,\n",
       " 'much': 197,\n",
       " 'another': 198,\n",
       " 'part': 199,\n",
       " 'image': 200,\n",
       " 'day': 201,\n",
       " 'minister': 202,\n",
       " 'women': 203,\n",
       " 'wednesday': 204,\n",
       " 'democrats': 205,\n",
       " 'work': 206,\n",
       " 'through': 207,\n",
       " 'go': 208,\n",
       " 'thursday': 209,\n",
       " 'asked': 210,\n",
       " 'friday': 211,\n",
       " 'city': 212,\n",
       " 'own': 213,\n",
       " 'policy': 214,\n",
       " 'china': 215,\n",
       " 'black': 216,\n",
       " 'war': 217,\n",
       " 'rights': 218,\n",
       " 'off': 219,\n",
       " 'monday': 220,\n",
       " 'secretary': 221,\n",
       " 'deal': 222,\n",
       " 'why': 223,\n",
       " 'official': 224,\n",
       " 'committee': 225,\n",
       " 'next': 226,\n",
       " 'york': 227,\n",
       " 'help': 228,\n",
       " 'me': 229,\n",
       " 'general': 230,\n",
       " 'need': 231,\n",
       " 'americans': 232,\n",
       " '2016': 233,\n",
       " 'korea': 234,\n",
       " 'three': 235,\n",
       " 'whether': 236,\n",
       " 'leader': 237,\n",
       " 'never': 238,\n",
       " 'show': 239,\n",
       " 'case': 240,\n",
       " 'senator': 241,\n",
       " 'man': 242,\n",
       " 'around': 243,\n",
       " 'does': 244,\n",
       " 'fbi': 245,\n",
       " 'use': 246,\n",
       " 'order': 247,\n",
       " 'members': 248,\n",
       " 'candidate': 249,\n",
       " 'report': 250,\n",
       " 'same': 251,\n",
       " 'took': 252,\n",
       " 'meeting': 253,\n",
       " 'come': 254,\n",
       " 'left': 255,\n",
       " 'every': 256,\n",
       " 'good': 257,\n",
       " 'end': 258,\n",
       " 'used': 259,\n",
       " 'without': 260,\n",
       " 'iran': 261,\n",
       " 'really': 262,\n",
       " 'power': 263,\n",
       " 'top': 264,\n",
       " 'put': 265,\n",
       " 'intelligence': 266,\n",
       " 'attack': 267,\n",
       " 'investigation': 268,\n",
       " 'justice': 269,\n",
       " 'countries': 270,\n",
       " 'times': 271,\n",
       " 'nuclear': 272,\n",
       " 'money': 273,\n",
       " 'month': 274,\n",
       " 'twitter': 275,\n",
       " 'trade': 276,\n",
       " 'syria': 277,\n",
       " 'voters': 278,\n",
       " 'change': 279,\n",
       " 'south': 280,\n",
       " 'information': 281,\n",
       " 'plan': 282,\n",
       " 'leaders': 283,\n",
       " 'family': 284,\n",
       " 'international': 285,\n",
       " 'decision': 286,\n",
       " 'speech': 287,\n",
       " 'business': 288,\n",
       " 'reported': 289,\n",
       " 'fact': 290,\n",
       " 'interview': 291,\n",
       " 'long': 292,\n",
       " 'already': 293,\n",
       " 'days': 294,\n",
       " 'director': 295,\n",
       " 'several': 296,\n",
       " 'groups': 297,\n",
       " 'story': 298,\n",
       " 'far': 299,\n",
       " 'conservative': 300,\n",
       " 'too': 301,\n",
       " 'must': 302,\n",
       " 'likely': 303,\n",
       " 'chief': 304,\n",
       " 'health': 305,\n",
       " 'call': 306,\n",
       " 'john': 307,\n",
       " 'again': 308,\n",
       " 'something': 309,\n",
       " 'fox': 310,\n",
       " 'immigration': 311,\n",
       " 'clear': 312,\n",
       " 'border': 313,\n",
       " 'place': 314,\n",
       " 'social': 315,\n",
       " 'supporters': 316,\n",
       " 'islamic': 317,\n",
       " 'among': 318,\n",
       " 'months': 319,\n",
       " 'believe': 320,\n",
       " 'move': 321,\n",
       " 'however': 322,\n",
       " 'home': 323,\n",
       " 'got': 324,\n",
       " 'agency': 325,\n",
       " 'barack': 326,\n",
       " 'might': 327,\n",
       " 'billion': 328,\n",
       " 'press': 329,\n",
       " 'won': 330,\n",
       " 'program': 331,\n",
       " 'post': 332,\n",
       " 'came': 333,\n",
       " 'recent': 334,\n",
       " 'major': 335,\n",
       " 'least': 336,\n",
       " 'children': 337,\n",
       " 'muslim': 338,\n",
       " 'watch': 339,\n",
       " 'issue': 340,\n",
       " 'killed': 341,\n",
       " 'act': 342,\n",
       " 'found': 343,\n",
       " 'sanders': 344,\n",
       " 'seen': 345,\n",
       " 'number': 346,\n",
       " 'sunday': 347,\n",
       " 've': 348,\n",
       " 'trying': 349,\n",
       " 'things': 350,\n",
       " 'control': 351,\n",
       " 'didn': 352,\n",
       " 'though': 353,\n",
       " 'democrat': 354,\n",
       " 'later': 355,\n",
       " 'reporters': 356,\n",
       " 'great': 357,\n",
       " 'm': 358,\n",
       " 'matter': 359,\n",
       " 'economic': 360,\n",
       " 'defense': 361,\n",
       " 'making': 362,\n",
       " 'eu': 363,\n",
       " 'march': 364,\n",
       " 'went': 365,\n",
       " 'attacks': 366,\n",
       " 'executive': 367,\n",
       " 'win': 368,\n",
       " 'become': 369,\n",
       " 'actually': 370,\n",
       " 'yet': 371,\n",
       " 'working': 372,\n",
       " 'spokesman': 373,\n",
       " 'school': 374,\n",
       " 'give': 375,\n",
       " 'keep': 376,\n",
       " 'today': 377,\n",
       " 'free': 378,\n",
       " 'look': 379,\n",
       " 'little': 380,\n",
       " 'legal': 381,\n",
       " 'set': 382,\n",
       " 'senior': 383,\n",
       " 'past': 384,\n",
       " 'stop': 385,\n",
       " 'big': 386,\n",
       " 'cruz': 387,\n",
       " 'until': 388,\n",
       " 'doesn': 389,\n",
       " 'un': 390,\n",
       " 'forces': 391,\n",
       " 'four': 392,\n",
       " 'real': 393,\n",
       " 'earlier': 394,\n",
       " 'himself': 395,\n",
       " 'violence': 396,\n",
       " 'system': 397,\n",
       " 'added': 398,\n",
       " 'nation': 399,\n",
       " 'away': 400,\n",
       " 'member': 401,\n",
       " 'cnn': 402,\n",
       " 'let': 403,\n",
       " 'point': 404,\n",
       " 'governor': 405,\n",
       " 'january': 406,\n",
       " 'doing': 407,\n",
       " 'thing': 408,\n",
       " 'comment': 409,\n",
       " 'talks': 410,\n",
       " 'lawmakers': 411,\n",
       " 'illegal': 412,\n",
       " 'nothing': 413,\n",
       " 'woman': 414,\n",
       " 'few': 415,\n",
       " 'european': 416,\n",
       " 'sanctions': 417,\n",
       " 'opposition': 418,\n",
       " 'local': 419,\n",
       " 'force': 420,\n",
       " 'known': 421,\n",
       " 'taking': 422,\n",
       " 'ever': 423,\n",
       " 'human': 424,\n",
       " 'head': 425,\n",
       " 'july': 426,\n",
       " 'following': 427,\n",
       " 'wall': 428,\n",
       " 'prime': 429,\n",
       " 'held': 430,\n",
       " 'nominee': 431,\n",
       " 'attorney': 432,\n",
       " 'gop': 433,\n",
       " 'supreme': 434,\n",
       " 'gun': 435,\n",
       " 'across': 436,\n",
       " 'wants': 437,\n",
       " 'issues': 438,\n",
       " 'care': 439,\n",
       " 'companies': 440,\n",
       " 'released': 441,\n",
       " '2015': 442,\n",
       " 'expected': 443,\n",
       " 'pay': 444,\n",
       " 'possible': 445,\n",
       " 'men': 446,\n",
       " 'team': 447,\n",
       " 'person': 448,\n",
       " 'action': 449,\n",
       " 'continue': 450,\n",
       " 'judge': 451,\n",
       " 'union': 452,\n",
       " 'community': 453,\n",
       " 'company': 454,\n",
       " 'better': 455,\n",
       " 'nations': 456,\n",
       " 'enough': 457,\n",
       " 'high': 458,\n",
       " 'night': 459,\n",
       " 'job': 460,\n",
       " 'others': 461,\n",
       " 'given': 462,\n",
       " 'financial': 463,\n",
       " 'legislation': 464,\n",
       " '10': 465,\n",
       " 'evidence': 466,\n",
       " 'once': 467,\n",
       " 'taken': 468,\n",
       " 'response': 469,\n",
       " 'reports': 470,\n",
       " 'wrote': 471,\n",
       " 'question': 472,\n",
       " 'budget': 473,\n",
       " '20': 474,\n",
       " 'history': 475,\n",
       " 'close': 476,\n",
       " 'syrian': 477,\n",
       " 'ban': 478,\n",
       " 'june': 479,\n",
       " 'special': 480,\n",
       " 'open': 481,\n",
       " 'source': 482,\n",
       " 'fight': 483,\n",
       " 'course': 484,\n",
       " 'face': 485,\n",
       " 'having': 486,\n",
       " 'iraq': 487,\n",
       " 'university': 488,\n",
       " 'plans': 489,\n",
       " 'lot': 490,\n",
       " 'important': 491,\n",
       " 'process': 492,\n",
       " 'private': 493,\n",
       " 'majority': 494,\n",
       " 'life': 495,\n",
       " 'email': 496,\n",
       " 'debate': 497,\n",
       " 'run': 498,\n",
       " 'done': 499,\n",
       " 'anyone': 500,\n",
       " 'using': 501,\n",
       " 'second': 502,\n",
       " 'air': 503,\n",
       " 'refugees': 504,\n",
       " 'race': 505,\n",
       " 'staff': 506,\n",
       " 'death': 507,\n",
       " 'further': 508,\n",
       " 'conference': 509,\n",
       " 'putin': 510,\n",
       " 'comments': 511,\n",
       " 'despite': 512,\n",
       " 'november': 513,\n",
       " 'saturday': 514,\n",
       " 'accused': 515,\n",
       " 'behind': 516,\n",
       " 'along': 517,\n",
       " 'efforts': 518,\n",
       " 'anything': 519,\n",
       " 'able': 520,\n",
       " 'lives': 521,\n",
       " 'crisis': 522,\n",
       " 'saudi': 523,\n",
       " 'ryan': 524,\n",
       " '1': 525,\n",
       " 'ago': 526,\n",
       " 'best': 527,\n",
       " 'find': 528,\n",
       " 'early': 529,\n",
       " 'mexico': 530,\n",
       " 'am': 531,\n",
       " 'role': 532,\n",
       " 'full': 533,\n",
       " 'agreement': 534,\n",
       " '“i': 535,\n",
       " 'less': 536,\n",
       " 'lead': 537,\n",
       " 'letter': 538,\n",
       " 'comes': 539,\n",
       " 'instead': 540,\n",
       " 'mr': 541,\n",
       " 'region': 542,\n",
       " 'council': 543,\n",
       " 'five': 544,\n",
       " 'current': 545,\n",
       " 'future': 546,\n",
       " 'within': 547,\n",
       " 'due': 548,\n",
       " 'someone': 549,\n",
       " '“the': 550,\n",
       " 'civil': 551,\n",
       " 'calling': 552,\n",
       " 'jobs': 553,\n",
       " 'sure': 554,\n",
       " 'comey': 555,\n",
       " 'texas': 556,\n",
       " 'visit': 557,\n",
       " 'coalition': 558,\n",
       " 'hard': 559,\n",
       " 'service': 560,\n",
       " 'getting': 561,\n",
       " 'name': 562,\n",
       " 'britain': 563,\n",
       " 'young': 564,\n",
       " 'congressional': 565,\n",
       " 'students': 566,\n",
       " 'center': 567,\n",
       " 'live': 568,\n",
       " 'facebook': 569,\n",
       " 'll': 570,\n",
       " 'weeks': 571,\n",
       " 'israel': 572,\n",
       " 'calls': 573,\n",
       " 'coming': 574,\n",
       " 'effort': 575,\n",
       " 'votes': 576,\n",
       " 'announced': 577,\n",
       " 'army': 578,\n",
       " 'rules': 579,\n",
       " 'muslims': 580,\n",
       " 'thousands': 581,\n",
       " 'nearly': 582,\n",
       " 'running': 583,\n",
       " '8': 584,\n",
       " 'sent': 585,\n",
       " 'global': 586,\n",
       " 'weapons': 587,\n",
       " 'chairman': 588,\n",
       " 'emails': 589,\n",
       " 'paul': 590,\n",
       " 'event': 591,\n",
       " 'elections': 592,\n",
       " 'sources': 593,\n",
       " 'economy': 594,\n",
       " 'line': 595,\n",
       " 'citizens': 596,\n",
       " 'healthcare': 597,\n",
       " 'ties': 598,\n",
       " 'climate': 599,\n",
       " '2014': 600,\n",
       " 'talk': 601,\n",
       " 'allow': 602,\n",
       " 'claims': 603,\n",
       " 'street': 604,\n",
       " 'daily': 605,\n",
       " 'capital': 606,\n",
       " 'each': 607,\n",
       " 'obamacare': 608,\n",
       " 'whose': 609,\n",
       " 'december': 610,\n",
       " 'racist': 611,\n",
       " 'led': 612,\n",
       " 'october': 613,\n",
       " 'middle': 614,\n",
       " 'candidates': 615,\n",
       " 'wanted': 616,\n",
       " 'rule': 617,\n",
       " 'position': 618,\n",
       " 'ruling': 619,\n",
       " 'latest': 620,\n",
       " 'april': 621,\n",
       " 'hold': 622,\n",
       " 'outside': 623,\n",
       " 'tell': 624,\n",
       " 'gave': 625,\n",
       " 'needs': 626,\n",
       " 'began': 627,\n",
       " 'late': 628,\n",
       " 'fake': 629,\n",
       " 'showed': 630,\n",
       " 'authorities': 631,\n",
       " 'makes': 632,\n",
       " 'message': 633,\n",
       " 'east': 634,\n",
       " 'turkey': 635,\n",
       " '15': 636,\n",
       " 'liberal': 637,\n",
       " 'd': 638,\n",
       " 'officers': 639,\n",
       " 'bush': 640,\n",
       " 'florida': 641,\n",
       " 'september': 642,\n",
       " 'workers': 643,\n",
       " 'criminal': 644,\n",
       " 'everyone': 645,\n",
       " 'poll': 646,\n",
       " 'august': 647,\n",
       " 'voting': 648,\n",
       " 'failed': 649,\n",
       " 'threat': 650,\n",
       " 'leave': 651,\n",
       " 'means': 652,\n",
       " 'questions': 653,\n",
       " 'isn': 654,\n",
       " 'organization': 655,\n",
       " 'rally': 656,\n",
       " 'bad': 657,\n",
       " 'problem': 658,\n",
       " 'immigrants': 659,\n",
       " 'imagessubject': 660,\n",
       " 'start': 661,\n",
       " 'lost': 662,\n",
       " 'reason': 663,\n",
       " 'politics': 664,\n",
       " 'parliament': 665,\n",
       " 'words': 666,\n",
       " 'immediately': 667,\n",
       " 'relations': 668,\n",
       " 'cut': 669,\n",
       " 'list': 670,\n",
       " 'speaking': 671,\n",
       " 'access': 672,\n",
       " 'germany': 673,\n",
       " 'release': 674,\n",
       " 'hope': 675,\n",
       " 'peace': 676,\n",
       " 'february': 677,\n",
       " 'reform': 678,\n",
       " 'representatives': 679,\n",
       " 'central': 680,\n",
       " 'services': 681,\n",
       " 'stand': 682,\n",
       " 'different': 683,\n",
       " 'policies': 684,\n",
       " 'funding': 685,\n",
       " 'rather': 686,\n",
       " 'together': 687,\n",
       " 'meet': 688,\n",
       " '2': 689,\n",
       " 'tried': 690,\n",
       " 'george': 691,\n",
       " 'sexual': 692,\n",
       " 'ahead': 693,\n",
       " 'read': 694,\n",
       " 'planned': 695,\n",
       " 'based': 696,\n",
       " 'ministry': 697,\n",
       " 'spending': 698,\n",
       " 'cannot': 699,\n",
       " 'conservatives': 700,\n",
       " 'try': 701,\n",
       " 'received': 702,\n",
       " 'allies': 703,\n",
       " 'almost': 704,\n",
       " 'thought': 705,\n",
       " 'millions': 706,\n",
       " 'strong': 707,\n",
       " 'oil': 708,\n",
       " 'recently': 709,\n",
       " 'host': 710,\n",
       " 'allowed': 711,\n",
       " 'six': 712,\n",
       " '30': 713,\n",
       " 'agencies': 714,\n",
       " 'protect': 715,\n",
       " 'elected': 716,\n",
       " 'decided': 717,\n",
       " 'bring': 718,\n",
       " 'missile': 719,\n",
       " 'idea': 720,\n",
       " 'shows': 721,\n",
       " 'morning': 722,\n",
       " 'key': 723,\n",
       " 'enforcement': 724,\n",
       " 'laws': 725,\n",
       " 'shooting': 726,\n",
       " 'entire': 727,\n",
       " 'often': 728,\n",
       " 'provide': 729,\n",
       " 'old': 730,\n",
       " 'charges': 731,\n",
       " 'chinese': 732,\n",
       " 'met': 733,\n",
       " 'fire': 734,\n",
       " 'talking': 735,\n",
       " 'near': 736,\n",
       " 'always': 737,\n",
       " 'room': 738,\n",
       " 'involved': 739,\n",
       " 'parties': 740,\n",
       " 'europe': 741,\n",
       " 'officer': 742,\n",
       " '3': 743,\n",
       " 'concerns': 744,\n",
       " 'district': 745,\n",
       " 'kind': 746,\n",
       " 'bank': 747,\n",
       " 'situation': 748,\n",
       " 'energy': 749,\n",
       " 'denied': 750,\n",
       " 'happened': 751,\n",
       " 'hate': 752,\n",
       " '“we': 753,\n",
       " 'shot': 754,\n",
       " 'allegations': 755,\n",
       " 'vice': 756,\n",
       " 'small': 757,\n",
       " 'california': 758,\n",
       " 'looking': 759,\n",
       " 'century': 760,\n",
       " 'travel': 761,\n",
       " 'terrorist': 762,\n",
       " 'james': 763,\n",
       " 'arrested': 764,\n",
       " 'everything': 765,\n",
       " 'needed': 766,\n",
       " 'include': 767,\n",
       " 'voted': 768,\n",
       " 'agreed': 769,\n",
       " 'especially': 770,\n",
       " 'movement': 771,\n",
       " 'myanmar': 772,\n",
       " 'presidency': 773,\n",
       " 'return': 774,\n",
       " 'water': 775,\n",
       " 'freedom': 776,\n",
       " 'large': 777,\n",
       " 'korean': 778,\n",
       " 'side': 779,\n",
       " 'nomination': 780,\n",
       " 'british': 781,\n",
       " 'potential': 782,\n",
       " 'hours': 783,\n",
       " '12': 784,\n",
       " 'west': 785,\n",
       " 'area': 786,\n",
       " 'protesters': 787,\n",
       " 'seems': 788,\n",
       " 'request': 789,\n",
       " 'documents': 790,\n",
       " 'data': 791,\n",
       " 'bernie': 792,\n",
       " 'personal': 793,\n",
       " 'county': 794,\n",
       " 'representative': 795,\n",
       " 'fighting': 796,\n",
       " 'industry': 797,\n",
       " 'crime': 798,\n",
       " 'themselves': 799,\n",
       " 'although': 800,\n",
       " 'claim': 801,\n",
       " 'western': 802,\n",
       " 'wife': 803,\n",
       " 'fired': 804,\n",
       " 'tweet': 805,\n",
       " 'adding': 806,\n",
       " '2012': 807,\n",
       " 'hit': 808,\n",
       " 'adviser': 809,\n",
       " 'hearing': 810,\n",
       " 'market': 811,\n",
       " 'polls': 812,\n",
       " 'cases': 813,\n",
       " 'worked': 814,\n",
       " 'foundation': 815,\n",
       " 'confirmed': 816,\n",
       " 'insurance': 817,\n",
       " 'actions': 818,\n",
       " 'either': 819,\n",
       " '11': 820,\n",
       " 'alleged': 821,\n",
       " 'realdonaldtrump': 822,\n",
       " '2017': 823,\n",
       " 'decades': 824,\n",
       " 'building': 825,\n",
       " 'front': 826,\n",
       " '5': 827,\n",
       " 'true': 828,\n",
       " 'obama’s': 829,\n",
       " 'leading': 830,\n",
       " 'j': 831,\n",
       " 'claimed': 832,\n",
       " 'address': 833,\n",
       " 'commission': 834,\n",
       " 'spoke': 835,\n",
       " 'serious': 836,\n",
       " 'pressure': 837,\n",
       " 'nov': 838,\n",
       " 'paid': 839,\n",
       " 'step': 840,\n",
       " 'biggest': 841,\n",
       " 'term': 842,\n",
       " 'continued': 843,\n",
       " 'college': 844,\n",
       " 'passed': 845,\n",
       " 'interest': 846,\n",
       " '4': 847,\n",
       " 'probably': 848,\n",
       " 'tillerson': 849,\n",
       " 'main': 850,\n",
       " 'lawyer': 851,\n",
       " 'love': 852,\n",
       " 'feel': 853,\n",
       " 'appeared': 854,\n",
       " 'board': 855,\n",
       " 'wrong': 856,\n",
       " 'final': 857,\n",
       " 'forward': 858,\n",
       " 'clearly': 859,\n",
       " 'truth': 860,\n",
       " 'moscow': 861,\n",
       " 'michael': 862,\n",
       " 'primary': 863,\n",
       " 'families': 864,\n",
       " 'father': 865,\n",
       " 'mean': 866,\n",
       " 'son': 867,\n",
       " 'turn': 868,\n",
       " 'brought': 869,\n",
       " 'protest': 870,\n",
       " 'mike': 871,\n",
       " 'victory': 872,\n",
       " 'declined': 873,\n",
       " 'wasn': 874,\n",
       " 'network': 875,\n",
       " 'leadership': 876,\n",
       " 'cia': 877,\n",
       " 'record': 878,\n",
       " 'aid': 879,\n",
       " 'deputy': 880,\n",
       " 'toward': 881,\n",
       " 'review': 882,\n",
       " 'turned': 883,\n",
       " 'taxes': 884,\n",
       " 'goes': 885,\n",
       " 'issued': 886,\n",
       " 'ted': 887,\n",
       " 'simply': 888,\n",
       " 'became': 889,\n",
       " 'dollars': 890,\n",
       " 'result': 891,\n",
       " 'soon': 892,\n",
       " 'spent': 893,\n",
       " 'remarks': 894,\n",
       " 'sign': 895,\n",
       " 'points': 896,\n",
       " 'arabia': 897,\n",
       " 'started': 898,\n",
       " 'posted': 899,\n",
       " 'included': 900,\n",
       " 'david': 901,\n",
       " 'signed': 902,\n",
       " 'independence': 903,\n",
       " 'pence': 904,\n",
       " 'mayor': 905,\n",
       " 'protests': 906,\n",
       " '25': 907,\n",
       " 'details': 908,\n",
       " 'flynn': 909,\n",
       " 'article': 910,\n",
       " 'attempt': 911,\n",
       " 'mccain': 912,\n",
       " 'previously': 913,\n",
       " 'popular': 914,\n",
       " 'german': 915,\n",
       " 'forced': 916,\n",
       " 'rubio': 917,\n",
       " 'religious': 918,\n",
       " 'influence': 919,\n",
       " 'push': 920,\n",
       " 'town': 921,\n",
       " 'raised': 922,\n",
       " 'merkel': 923,\n",
       " 'fund': 924,\n",
       " 'sessions': 925,\n",
       " 'pass': 926,\n",
       " 'food': 927,\n",
       " 'secret': 928,\n",
       " 'terrorism': 929,\n",
       " 'giving': 930,\n",
       " '2013': 931,\n",
       " 'below': 932,\n",
       " 'seeking': 933,\n",
       " 'view': 934,\n",
       " 'mark': 935,\n",
       " 'al': 936,\n",
       " 'saw': 937,\n",
       " 'half': 938,\n",
       " 'pretty': 939,\n",
       " 'child': 940,\n",
       " 'agenda': 941,\n",
       " 'guy': 942,\n",
       " 'gets': 943,\n",
       " 'helped': 944,\n",
       " 'militants': 945,\n",
       " 'account': 946,\n",
       " 'speak': 947,\n",
       " 'level': 948,\n",
       " 'isis': 949,\n",
       " 'website': 950,\n",
       " 'proposed': 951,\n",
       " 'short': 952,\n",
       " 'cost': 953,\n",
       " 'hundreds': 954,\n",
       " 'increase': 955,\n",
       " 'firm': 956,\n",
       " 'debt': 957,\n",
       " 'speaker': 958,\n",
       " 'ask': 959,\n",
       " 'armed': 960,\n",
       " 'conflict': 961,\n",
       " 'voter': 962,\n",
       " 'described': 963,\n",
       " 'repeatedly': 964,\n",
       " 'convention': 965,\n",
       " 'ambassador': 966,\n",
       " 'largest': 967,\n",
       " 'total': 968,\n",
       " 'longer': 969,\n",
       " 'phone': 970,\n",
       " 'friends': 971,\n",
       " 'regional': 972,\n",
       " 'wire': 973,\n",
       " 'created': 974,\n",
       " 'relationship': 975,\n",
       " 'discuss': 976,\n",
       " 'remain': 977,\n",
       " 'violent': 978,\n",
       " 'reality': 979,\n",
       " 'heard': 980,\n",
       " 'independent': 981,\n",
       " 'troops': 982,\n",
       " 'criticized': 983,\n",
       " 'currently': 984,\n",
       " 'education': 985,\n",
       " 'fear': 986,\n",
       " 'hand': 987,\n",
       " 'respond': 988,\n",
       " 'areas': 989,\n",
       " 'similar': 990,\n",
       " 'changes': 991,\n",
       " 'constitution': 992,\n",
       " 'carolina': 993,\n",
       " 'whole': 994,\n",
       " 'crowd': 995,\n",
       " 'build': 996,\n",
       " 'third': 997,\n",
       " 'example': 998,\n",
       " 'flag': 999,\n",
       " 'mass': 1000,\n",
       " ...}"
      ]
     },
     "execution_count": 9,
     "metadata": {},
     "output_type": "execute_result"
    }
   ],
   "source": [
    "tokenizer.word_index"
   ]
  },
  {
   "cell_type": "code",
   "execution_count": 10,
   "id": "7f7cbf86",
   "metadata": {},
   "outputs": [],
   "source": [
    "embedding_matrix = np.zeros((vocab_size, 100))"
   ]
  },
  {
   "cell_type": "code",
   "execution_count": 11,
   "id": "6ed9902f",
   "metadata": {},
   "outputs": [
    {
     "name": "stdout",
     "output_type": "stream",
     "text": [
      "[-0.038194 -0.24487   0.72812  -0.39961   0.083172  0.043953 -0.39141\n",
      "  0.3344   -0.57545   0.087459  0.28787  -0.06731   0.30906  -0.26384\n",
      " -0.13231  -0.20757   0.33395  -0.33848  -0.31743  -0.48336   0.1464\n",
      " -0.37304   0.34577   0.052041  0.44946  -0.46971   0.02628  -0.54155\n",
      " -0.15518  -0.14107  -0.039722  0.28277   0.14393   0.23464  -0.31021\n",
      "  0.086173  0.20397   0.52624   0.17164  -0.082378 -0.71787  -0.41531\n",
      "  0.20335  -0.12763   0.41367   0.55187   0.57908  -0.33477  -0.36559\n",
      " -0.54857  -0.062892  0.26584   0.30205   0.99775  -0.80481  -3.0243\n",
      "  0.01254  -0.36942   2.2167    0.72201  -0.24978   0.92136   0.034514\n",
      "  0.46745   1.1079   -0.19358  -0.074575  0.23353  -0.052062 -0.22044\n",
      "  0.057162 -0.15806  -0.30798  -0.41625   0.37972   0.15006  -0.53212\n",
      " -0.2055   -1.2526    0.071624  0.70565   0.49744  -0.42063   0.26148\n",
      " -1.538    -0.30223  -0.073438 -0.28312   0.37104  -0.25217   0.016215\n",
      " -0.017099 -0.38984   0.87424  -0.72569  -0.51058  -0.52028  -0.1459\n",
      "  0.8278    0.27062 ]\n",
      "[-1.8970e-01  5.0024e-02  1.9084e-01 -4.9184e-02 -8.9737e-02  2.1006e-01\n",
      " -5.4952e-01  9.8377e-02 -2.0135e-01  3.4241e-01 -9.2677e-02  1.6100e-01\n",
      " -1.3268e-01 -2.8160e-01  1.8737e-01 -4.2959e-01  9.6039e-01  1.3972e-01\n",
      " -1.0781e+00  4.0518e-01  5.0539e-01 -5.5064e-01  4.8440e-01  3.8044e-01\n",
      " -2.9055e-03 -3.4942e-01 -9.9696e-02 -7.8368e-01  1.0363e+00 -2.3140e-01\n",
      " -4.7121e-01  5.7126e-01 -2.1454e-01  3.5958e-01 -4.8319e-01  1.0875e+00\n",
      "  2.8524e-01  1.2447e-01 -3.9248e-02 -7.6732e-02 -7.6343e-01 -3.2409e-01\n",
      " -5.7490e-01 -1.0893e+00 -4.1811e-01  4.5120e-01  1.2112e-01 -5.1367e-01\n",
      " -1.3349e-01 -1.1378e+00 -2.8768e-01  1.6774e-01  5.5804e-01  1.5387e+00\n",
      "  1.8859e-02 -2.9721e+00 -2.4216e-01 -9.2495e-01  2.1992e+00  2.8234e-01\n",
      " -3.4780e-01  5.1621e-01 -4.3387e-01  3.6852e-01  7.4573e-01  7.2102e-02\n",
      "  2.7931e-01  9.2569e-01 -5.0336e-02 -8.5856e-01 -1.3580e-01 -9.2551e-01\n",
      " -3.3991e-01 -1.0394e+00 -6.7203e-02 -2.1379e-01 -4.7690e-01  2.1377e-01\n",
      " -8.4008e-01  5.2536e-02  5.9298e-01  2.9604e-01 -6.7644e-01  1.3916e-01\n",
      " -1.5504e+00 -2.0765e-01  7.2220e-01  5.2056e-01 -7.6221e-02 -1.5194e-01\n",
      " -1.3134e-01  5.8617e-02 -3.1869e-01 -6.1419e-01 -6.2393e-01 -4.1548e-01\n",
      " -3.8175e-02 -3.9804e-01  4.7647e-01 -1.5983e-01]\n",
      "[-0.1529   -0.24279   0.89837   0.16996   0.53516   0.48784  -0.58826\n",
      " -0.17982  -1.3581    0.42541   0.15377   0.24215   0.13474   0.41193\n",
      "  0.67043  -0.56418   0.42985  -0.012183 -0.11677   0.31781   0.054177\n",
      " -0.054273  0.35516  -0.30241   0.31434  -0.33846   0.71715  -0.26855\n",
      " -0.15837  -0.47467   0.051581 -0.33252   0.15003  -0.1299   -0.54617\n",
      " -0.37843   0.64261   0.82187  -0.080006  0.078479 -0.96976  -0.57741\n",
      "  0.56491  -0.39873  -0.057099  0.19743   0.065706 -0.48092  -0.20125\n",
      " -0.40834   0.39456  -0.02642  -0.11838   1.012    -0.53171  -2.7474\n",
      " -0.042981 -0.74849   1.7574    0.59085   0.04885   0.78267   0.38497\n",
      "  0.42097   0.67882   0.10337   0.6328   -0.026595  0.58647  -0.44332\n",
      "  0.33057  -0.12022  -0.55645   0.073611  0.20915   0.43395  -0.012761\n",
      "  0.089874 -1.7991    0.084808  0.77112   0.63105  -0.90685   0.60326\n",
      " -1.7515    0.18596  -0.50687  -0.70203   0.66578  -0.81304   0.18712\n",
      " -0.018488 -0.26757   0.727    -0.59363  -0.34839  -0.56094  -0.591\n",
      "  1.0039    0.20664 ]\n",
      "[-0.27086    0.044006  -0.02026   -0.17395    0.6444     0.71213\n",
      "  0.3551     0.47138   -0.29637    0.54427   -0.72294   -0.0047612\n",
      "  0.040611   0.043236   0.29729    0.10725    0.40156   -0.53662\n",
      "  0.033382   0.067396   0.64556   -0.085523   0.14103    0.094539\n",
      "  0.74947   -0.194     -0.68739   -0.41741   -0.22807    0.12\n",
      " -0.48999    0.80945    0.045138  -0.11898    0.20161    0.39276\n",
      " -0.20121    0.31354    0.75304    0.25907   -0.11566   -0.029319\n",
      "  0.93499   -0.36067    0.5242     0.23706    0.52715    0.22869\n",
      " -0.51958   -0.79349   -0.20368   -0.50187    0.18748    0.94282\n",
      " -0.44834   -3.6792     0.044183  -0.26751    2.1997     0.241\n",
      " -0.033425   0.69553   -0.64472   -0.0072277  0.89575    0.20015\n",
      "  0.46493    0.61933   -0.1066     0.08691   -0.4623     0.18262\n",
      " -0.15849    0.020791   0.19373    0.063426  -0.31673   -0.48177\n",
      " -1.3848     0.13669    0.96859    0.049965  -0.2738    -0.035686\n",
      " -1.0577    -0.24467    0.90366   -0.12442    0.080776  -0.83401\n",
      "  0.57201    0.088945  -0.42532   -0.018253  -0.079995  -0.28581\n",
      " -0.01089   -0.4923     0.63687    0.23642  ]\n"
     ]
    }
   ],
   "source": [
    "for word, index in tokenizer.word_index.items():\n",
    "    embedding_vector = embeddings_dictionary.get(word)\n",
    "    \n",
    "    #if index < 5:\n",
    "    #    print(embedding_vector)\n",
    "    if embedding_vector is not None:\n",
    "        embedding_matrix[index] = embedding_vector"
   ]
  },
  {
   "cell_type": "code",
   "execution_count": 12,
   "id": "eb0e4bb7",
   "metadata": {},
   "outputs": [
    {
     "data": {
      "text/plain": [
       "(35918,)"
      ]
     },
     "execution_count": 12,
     "metadata": {},
     "output_type": "execute_result"
    }
   ],
   "source": [
    "x_train.shape"
   ]
  },
  {
   "cell_type": "code",
   "execution_count": 13,
   "id": "03cf15b3",
   "metadata": {},
   "outputs": [
    {
     "name": "stdout",
     "output_type": "stream",
     "text": [
      "(276689, 100)\n"
     ]
    }
   ],
   "source": [
    "print(embedding_matrix.shape)"
   ]
  },
  {
   "cell_type": "code",
   "execution_count": 18,
   "id": "7138da2b",
   "metadata": {},
   "outputs": [
    {
     "data": {
      "text/plain": [
       "276689"
      ]
     },
     "execution_count": 18,
     "metadata": {},
     "output_type": "execute_result"
    }
   ],
   "source": [
    "vocab_size"
   ]
  },
  {
   "cell_type": "code",
   "execution_count": 21,
   "id": "2368ed11",
   "metadata": {},
   "outputs": [
    {
     "name": "stdout",
     "output_type": "stream",
     "text": [
      "50894\n"
     ]
    }
   ],
   "source": [
    "longest_article_length = len(max(X, key=len))\n",
    "print(longest_article_length)"
   ]
  },
  {
   "cell_type": "markdown",
   "id": "ec3b9bcb",
   "metadata": {},
   "source": [
    "# Some sources regarding CNN\n",
    "\n",
    "1. [Text Classification using CNN](https://www.kaggle.com/au1206/text-classification-using-cnn)\n",
    "2. [Word Embeddings for movie review sentiment](https://machinelearningmastery.com/develop-word-embedding-model-predicting-movie-review-sentiment/)\n",
    "3. [Text Classification using CNN](https://12ft.io/proxy?q=http://medium.com/voice-tech-podcast/text-classification-using-cnn-9ade8155dfb9)"
   ]
  },
  {
   "cell_type": "code",
   "execution_count": null,
   "id": "c1213f87",
   "metadata": {},
   "outputs": [],
   "source": [
    "# CNN model\n",
    "\n",
    "\"\"\"\n",
    "Following the article mentioned above, we will implement a model using the following parameters  \n",
    "        Transfer function: rectified linear.\n",
    "        Kernel sizes: 3, 4, 5.\n",
    "        Number of filters: 100\n",
    "        Dropout rate: 0.5\n",
    "        Weight regularization (L2): 3\n",
    "        Batch Size: 50\n",
    "        Update Rule: Adadelta\n",
    "\"\"\"\n",
    "\n",
    "\n",
    "#vocab_size = fitted_X.shape[0]\n",
    "#print(vocab_size)\n",
    "#print([embeddings_dictionary])\n",
    "\n",
    "\n",
    "CNN_base_model = Sequential()\n",
    "CNN_base_model.add(Embedding(vocab_size, 100, weights=[embedding_matrix], input_length=longest_article_length, trainable=False))\n",
    "CNN_base_model.add(Conv1D((vocab_size), 3, activation='relu', kernel_regularizer=l2(3)))\n",
    "CNN_base_model.add(MaxPooling1D(2))\n",
    "CNN_base_model.add(Dropout(0.5))\n",
    "CNN_base_model.add(Conv1D(5000, 4, activation='relu', kernel_regularizer=l2(3)))\n",
    "CNN_base_model.add(MaxPooling1D(2))\n",
    "CNN_base_model.add(Dropout(0.5))\n",
    "CNN_base_model.add(Conv1D(1000, 5, activation='relu', kernel_regularizer=l2(3)))\n",
    "CNN_base_model.add(MaxPooling1D(2))\n",
    "CNN_base_model.add(Dropout(0.5))\n",
    "CNN_base_model.add(Conv1D(100, 5, activation='relu', kernel_regularizer=l2(3)))\n",
    "CNN_base_model.add(MaxPooling1D(2))\n",
    "CNN_base_model.add(Dropout(0.5))\n",
    "CNN_base_model.add(Flatten())\n",
    "CNN_base_model.add(Dense(1, activation='sigmoid'))\n",
    "\n",
    "# compile the CNN_base_model\n",
    "CNN_base_model.compile(optimizer='Adadelta', loss='binary_crossentropy', metrics=['acc'])\n",
    "\n",
    "\n",
    "\n",
    "# summarize the CNN_base_model\n",
    "print(CNN_base_model.summary())"
   ]
  },
  {
   "cell_type": "code",
   "execution_count": null,
   "id": "dca5d386",
   "metadata": {},
   "outputs": [],
   "source": [
    "import tensorflow as tf\n",
    "\n",
    "train_data_tf = tf.data.Dataset.from_tensor_slices((x_train, y_train))\n",
    "valid_data_tf = tf.data.Dataset.from_tensor_slices((x_test, y_test))"
   ]
  },
  {
   "cell_type": "code",
   "execution_count": null,
   "id": "fe39eae8",
   "metadata": {},
   "outputs": [],
   "source": [
    "model = CNN_base_model.fit(x_train, y_train, batch_size=50,epochs=10,verbose=1,validation_data=(x_test, y_test))"
   ]
  },
  {
   "cell_type": "code",
   "execution_count": null,
   "metadata": {},
   "outputs": [],
   "source": [
    "CNN_base_model.fit(train_data_tf, epochs=10, validation_data=valid_data_tf, batch_size=50)"
   ]
  },
  {
   "cell_type": "markdown",
   "id": "cf7a1bf2",
   "metadata": {},
   "source": [
    "# CNN Attempt 2"
   ]
  },
  {
   "cell_type": "code",
   "execution_count": 3,
   "id": "30603a8f",
   "metadata": {},
   "outputs": [
    {
     "data": {
      "text/plain": [
       "0         donald trump sends out embarrassing new year’...\n",
       "1         drunk bragging trump staffer started russian ...\n",
       "2         sheriff david clarke becomes an internet joke...\n",
       "3         trump is so obsessed he even has obama’s name...\n",
       "4         pope francis just called out donald trump dur...\n",
       "                               ...                        \n",
       "21412    fully committed nato backs new us approach on ...\n",
       "21413    lexisnexis withdrew two products from chinese ...\n",
       "21414    minsk cultural hub becomes haven from authorit...\n",
       "21415    vatican upbeat on possibility of pope francis ...\n",
       "21416    indonesia to buy 114 billion worth of russian ...\n",
       "Name: Article, Length: 44898, dtype: object"
      ]
     },
     "execution_count": 3,
     "metadata": {},
     "output_type": "execute_result"
    }
   ],
   "source": [
    "docs = X\n",
    "docs"
   ]
  },
  {
   "cell_type": "code",
   "execution_count": 9,
   "id": "057de17a",
   "metadata": {},
   "outputs": [
    {
     "data": {
      "text/plain": [
       "count                                                 44898\n",
       "unique                                                39105\n",
       "top       highlights the trump presidency on april 13 at...\n",
       "freq                                                      8\n",
       "Name: Article, dtype: object"
      ]
     },
     "execution_count": 9,
     "metadata": {},
     "output_type": "execute_result"
    }
   ],
   "source": [
    "docs.describe()"
   ]
  },
  {
   "cell_type": "code",
   "execution_count": 11,
   "id": "c59517c7",
   "metadata": {},
   "outputs": [],
   "source": [
    "t = Tokenizer()\n",
    "t.fit_on_texts(docs)\n",
    "vocab_size_2 = len(t.word_index) + 1"
   ]
  },
  {
   "cell_type": "code",
   "execution_count": 35,
   "id": "7f210d00",
   "metadata": {},
   "outputs": [
    {
     "data": {
      "text/plain": [
       "276690"
      ]
     },
     "execution_count": 35,
     "metadata": {},
     "output_type": "execute_result"
    }
   ],
   "source": [
    "vocab_size_2"
   ]
  },
  {
   "cell_type": "code",
   "execution_count": null,
   "id": "830c2aef",
   "metadata": {},
   "outputs": [],
   "source": [
    "# integer encode the documents\n",
    "encoded_docs = t.texts_to_sequences(docs)\n",
    "print(encoded_docs)"
   ]
  },
  {
   "cell_type": "code",
   "execution_count": 22,
   "id": "729157e5",
   "metadata": {},
   "outputs": [
    {
     "name": "stdout",
     "output_type": "stream",
     "text": [
      "[[146457     20   1927  26803    660]\n",
      " [146460     20    368   6876    660]\n",
      " [146493     20   4324   9325    660]\n",
      " ...\n",
      " [    55    154     12     13     68]\n",
      " [   476    668     16   9807     68]\n",
      " [     5   5843    318    461     68]]\n"
     ]
    }
   ],
   "source": [
    "# pad documents to a max length of 4 words\n",
    "max_length = len(max(X, key=len))\n",
    "padded_docs = pad_sequences(encoded_docs, maxlen=max_length, padding='post')\n",
    "print(padded_docs)"
   ]
  },
  {
   "cell_type": "code",
   "execution_count": 16,
   "id": "1e849793",
   "metadata": {},
   "outputs": [
    {
     "name": "stdout",
     "output_type": "stream",
     "text": [
      "Loaded 400000 word vectors.\n"
     ]
    }
   ],
   "source": [
    "embeddings_dictionary_v2 = {}\n",
    "\n",
    "f = open(\"./Data/glove.6b.100d.txt\", encoding=\"utf8\")\n",
    "\n",
    "\n",
    "for line in f:\n",
    "    values = line.split()\n",
    "    word = values[0]\n",
    "    coefficients = np.asarray(values[1:], dtype='float32')\n",
    "    embeddings_dictionary_v2[word] = coefficients\n",
    "f.close()\n",
    "\n",
    "print('Loaded %s word vectors.' % len(embeddings_dictionary_v2))\n"
   ]
  },
  {
   "cell_type": "code",
   "execution_count": 23,
   "metadata": {},
   "outputs": [],
   "source": [
    "embedding_matrix_v2 = np.zeros((vocab_size_2, 100))\n",
    "\n",
    "for word, index in t.word_index.items():\n",
    "    #if index > nb_words - 1:\n",
    "    #    break\n",
    "    #else:\n",
    "    embedding_vector_v2 = embeddings_dictionary_v2.get(word)\n",
    "    if embedding_vector_v2 is not None:\n",
    "        embedding_matrix_v2[index] = embedding_vector_v2"
   ]
  },
  {
   "cell_type": "code",
   "execution_count": 24,
   "metadata": {},
   "outputs": [
    {
     "data": {
      "text/plain": [
       "276690"
      ]
     },
     "execution_count": 24,
     "metadata": {},
     "output_type": "execute_result"
    }
   ],
   "source": [
    "len(embedding_matrix_v2)"
   ]
  },
  {
   "cell_type": "code",
   "execution_count": 37,
   "id": "a0e45380",
   "metadata": {},
   "outputs": [
    {
     "name": "stdout",
     "output_type": "stream",
     "text": [
      "Model: \"sequential_2\"\n",
      "_________________________________________________________________\n",
      "Layer (type)                 Output Shape              Param #   \n",
      "=================================================================\n",
      "embedding_2 (Embedding)      (None, 4, 100)            27669000  \n",
      "_________________________________________________________________\n",
      "flatten_2 (Flatten)          (None, 400)               0         \n",
      "_________________________________________________________________\n",
      "dense_2 (Dense)              (None, 1)                 401       \n",
      "=================================================================\n",
      "Total params: 27,669,401\n",
      "Trainable params: 401\n",
      "Non-trainable params: 27,669,000\n",
      "_________________________________________________________________\n"
     ]
    }
   ],
   "source": [
    "# define model\n",
    "model = Sequential()\n",
    "e = Embedding(vocab_size_2, 100, weights=[embedding_matrix_v2], input_length=4, trainable=False)\n",
    "model.add(e)\n",
    "model.add(Flatten())\n",
    "model.add(Dense(1, activation='sigmoid'))\n",
    "# compile the model\n",
    "model.compile(optimizer='adam', loss='binary_crossentropy', metrics=['accuracy'])\n",
    "# summarize the model\n",
    "model.summary()\n"
   ]
  },
  {
   "cell_type": "code",
   "execution_count": null,
   "id": "713be213",
   "metadata": {},
   "outputs": [],
   "source": [
    "CNN_base_model_test = Sequential()\n",
    "CNN_base_model_test.add(Embedding(vocab_size_2, 100, weights=[embedding_matrix_v2], input_length=1000, trainable=False))\n",
    "CNN_base_model_test.add(Conv1D((vocab_size_2), 4, activation='relu', kernel_regularizer=l2(3)))\n",
    "CNN_base_model_test.add(Conv1D((vocab_size_2//2), 4, activation='relu', kernel_regularizer=l2(3)))\n",
    "CNN_base_model_test.add(MaxPooling1D(2))\n",
    "CNN_base_model_test.add(Dropout(0.5))\n",
    "CNN_base_model_test.add(Conv1D(1000, 5, activation='relu', kernel_regularizer=l2(3)))\n",
    "CNN_base_model_test.add(MaxPooling1D(2))\n",
    "CNN_base_model_test.add(Dropout(0.5))\n",
    "CNN_base_model_test.add(Conv1D(100, 5, activation='relu', kernel_regularizer=l2(3)))\n",
    "CNN_base_model_test.add(MaxPooling1D(2))\n",
    "CNN_base_model_test.add(Dropout(0.5))\n",
    "CNN_base_model_test.add(Flatten())\n",
    "CNN_base_model_test.add(Dense(1, activation='sigmoid'))\n",
    "\n",
    "# compile the CNN_base_model_test\n",
    "CNN_base_model_test.compile(optimizer='Adadelta', loss='binary_crossentropy', metrics=['acc'])\n"
   ]
  },
  {
   "cell_type": "code",
   "execution_count": null,
   "id": "9dd452c3",
   "metadata": {},
   "outputs": [],
   "source": [
    "# fit the model\n",
    "CNN_base_model_test.fit(padded_docs, Y, epochs=50, verbose=0)\n",
    "# evaluate the model\n",
    "loss, accuracy = CNN_base_model_test.evaluate(padded_docs, Y, verbose=0)\n",
    "print('Accuracy: %f' % (accuracy*100))"
   ]
  },
  {
   "cell_type": "markdown",
   "id": "ce63c58b",
   "metadata": {},
   "source": [
    "# Further questioning? \n",
    "\n",
    "1. Do we need to keep the length of the articles at the maximum? Might be a better idea to create cut-off points\n",
    "2. Is the text cleaning and tokenization correct?\n",
    "3. Is the GloVe embedding and correaltion to own text imported and worked correcty?\n",
    "4. How to decide the best architecture? Currently just copying other ideas\n",
    "    4a. For example, When to decide multiple layers after each other? When to add pooling?\n",
    "        I understand from the lectures the theoretics behind it, but I am having trouble converting it to actual code  "
   ]
  },
  {
   "cell_type": "code",
   "execution_count": 27,
   "id": "e0d3a71c",
   "metadata": {},
   "outputs": [
    {
     "data": {
      "text/plain": [
       "50894"
      ]
     },
     "execution_count": 27,
     "metadata": {},
     "output_type": "execute_result"
    }
   ],
   "source": [
    "len(max(X, key=len))"
   ]
  },
  {
   "cell_type": "code",
   "execution_count": 29,
   "id": "dd516f5a",
   "metadata": {},
   "outputs": [],
   "source": [
    "lengths = X.str.len() "
   ]
  },
  {
   "cell_type": "code",
   "execution_count": 30,
   "id": "cde2f755",
   "metadata": {},
   "outputs": [],
   "source": [
    "argmax = np.where(lengths == lengths.max())[0]"
   ]
  },
  {
   "cell_type": "code",
   "execution_count": 33,
   "id": "0ab35afc",
   "metadata": {},
   "outputs": [
    {
     "data": {
      "text/plain": [
       "22303    media tripwire ping pong pizza conspiracy prop...\n",
       "23086    media tripwire ping pong pizza conspiracy prop...\n",
       "Name: Article, dtype: object"
      ]
     },
     "execution_count": 33,
     "metadata": {},
     "output_type": "execute_result"
    }
   ],
   "source": [
    "X.iloc[argmax]"
   ]
  },
  {
   "cell_type": "code",
   "execution_count": 34,
   "id": "246dc3c3",
   "metadata": {},
   "outputs": [
    {
     "name": "stdout",
     "output_type": "stream",
     "text": [
      "media tripwire ping pong pizza conspiracy propels internet censorship amid ‘fake news’ witchhunt funny how secrets travel i d start to believe if i were to bleed    lyrics written by david bowie from the album outsideshawn helton 21st century wire in the days before the us presidential election in november 2016 wikileaks revealed a new string of emails connected to hillary clinton s 2016 campaign chairman john podesta online interpretations of the leaked podesta email exchanges subsequently led to a digital firestorm on social media producing an intense conspiratorial  open source investigation  still in search of its smoking gun however the phenomenon now known by its hashtag pizzagate has since set a number of tertiary events into motion is there a real story hidden amongst the debris of this online explosionis it possible that  open source investigators  were being led into a virtual culdesac and thus missing the real storymore importantly could people be playing into the hands of the very establishment they seek to deposelet s investigate   shock  awe    over the past month the dcbased restaurant comet ping pong along with besta pizza to a lesser degree austin s east side pies has been the subject of a peculiar internetbased conspiracy photo illustration shawn helton of 21wirecontext podesta emails false hacks  conspiracywhile many of the leaked podesta emails including the really important one admitting that us partners qatar and saudi arabia are giving funding and  logistical support  of isis caused a major stir in the runup to the 2016 election few wikileaks releases have attracted more attention then the podesta emails associated with the internetbased conspiracy dubbed  pizzagate in fact since the release of the socalled  pizzagate  emails a bundle of leaks and media reports associated with the clintons political payforplay allegations as well as the shocking admission regarding voter fraud from disgraced democratic national committee consultant robert creamer prior to the 2016 presidential election have all but disappeared from the mainstream narrative very convenient if you are part of the democratic party establishmentremember that all of this was taking place right after the mainstream media along with the white house set the stage for a massive pr push implicating russia as a disrupting force for evil in the us presidential election   allegedly through kremlinsponsored hacking of us democratic institutions and through  sophisticated russian propaganda in august the western media s claims against russia hit overdrive when the  new york times s moscow bureau was the target of an attempted cyber attack this month but so far there is no evidence that the hackers believed to be russian were successful flash forward to september here and here as well as early october in the lead up to president obama s russian hack decree the clintonfriendly outlet the ny times had all but solidified the russian cyberhack claims   but once again without any definitive evidence or proofthrow in another american  october surprise  in the form distributed denial of service ddos attacks renewed calls for the stop online piracy act sopa internet led to socalled cyber experts blaming the largest  hack on america  because of the inability to pass sopa   in effect reigniting the previously stalled sopa in washington dc along with all of its draconian copyright law positions   all perfectly timed as mainstream reports regarding  fake news suddenly became all the rage across all forms of mediathe media clips on youtube below illustrate the kind of duplicitous double speak regarding the  election rigging  that has become a hallmark of the obama administration and establishment washington following 2016 s us presidential election cycle a russian electionhacktheory gained even more media traction orbiting the political realm like a lowhanging fruit propelled by president obama and now the cia both conflicting with the fbi s assessment in october dovetailing with the first grumblings that  fake news  had somehow decided the us presidential election in favor of one candidate donald trump these are serious accusations that have still failed to yield any solid forensic results from the intelligence communityis this mere political gamesmanship or is there more at workcould this all be covering up and diverting the public away from some other explosive events  lolita express    in 2008 jeffery epstein was convicted of soliciting an underage girl for prostitution image source miamibeachadvocatecomas internet researches battle with mainstream media over allegations in pizzagate another potentially much bigger story became buried under the digital avalanche if this is indeed the case then who benefitsthe  lolita express  scandalseemingly even more unsettling and disturbing in 2016 was the vastly underreported  lolita express  scandal swirling around the clinton campaignin 2010 jeffery epstein a billionaire hedge fund mogul who is also a member of the trilateral commission and the council on foreign relations as well as playing a role in the formation of the clinton global initiative effectively walked free even though a 53page indictment could have landed him in prison for 20 years according to reports epstein s  gatsbyesque  persona once described by new york magazine has long since given way to a new profile as a convicted sexoffender  a superstar who was now condemned by a litany of legal troubles due to reports of ghastly serial abuse during the past decadehowever during this year s election cycle coverage concerning new details associated with epstein s private island little st james and allegations of sex slave entertainment enterprise there was virtually buried by the us corporate mediathe drop in walltowall coverage from the tonguetied mainstream media was most likely due to epstein s close affiliation to former president bill clinton who according flight manifests and other supporting evidence took  at least 26 trips aboard the  lolita express    even apparently ditching his secret service detail for at least five of the flights according to records obtained by foxnewscom it doesn t stop there either other highprofile names linked to the epstein case included former democratic governor bill richardson kurt cobain widow courtney love prominent celebrity lawyer israeli advocate and harvard law professor alan dershowitz british royal prince andrew former israeli prime minister ehud barak and even presidentelect donald trump  the black book     epstein flight records and  a little black book  paint a very intriguing picture image source gawkerinterestingly the epstein case was covered heavily by gawker   a news outlets which is now facing bankruptcy following a defamation case won by hulk hogan terrence gene bollea over the controversial publication of the wrestling icon s sex tape hogan s legal victory  took gawker out  but could the real reason have been its epstein coverage here s some of what gawker said about the epstein case donald trump courtney love former israeli prime minister ehud barak and uberlawyer alan dershowitz may have been identified by a butler as potential  material witnesses  to pedophile billionaire jeffrey epstein s crimes against young girls according to a copy of epstein s little black book obtained by gawkeran annotated copy of the address book which also contains entries for alec baldwin ralph fiennes griffin dunne new york post gossip richard johnson ted kennedy david koch filmmaker andrew jarecki and all manner of other people you might expect a billionaire to know turned up in court proceedings after epstein s former house manager alfredo rodriguez tried to sell it in 2009 about 50 of the entries including those of many of epstein s suspected victims and accomplices as well as trump love barak dershowitz and others were circled by rodriguez the existence of the book has been previously reported by the daily mail gawker is publishing it in full here for the first time we have redacted addresses telephone numbers email addresses and the last names of individuals who may have been underage victimsaccording to an fbi affidavit rodriguez described the address book and the information contained within it as the  holy grail  or  golden nugget  to unraveling epstein s sprawling childsex network epstein reportedly also had additional ties to trump with both men having on and off again been implicated in a separate jane doe  sexual assault lawsuit that was recently dropped in the us court system apparently for a third time since 1994the washington times discusses how other highlevel clients allegedly used epstein s services   including a member of the british royal family the following passage is from a report filed in january of 2015 and even postprison mr epstein kept up some of these highprofile relationships   leading to his most recent emergence in the news which involves allegations that he provided prince andrew with sexual services from a then17yearold american girl virginia robertsms roberts now 30 has filed a federal lawsuit in florida against mr epstein alleging he forced her to serve as a  sex slave  and paid her 15000 to perform sexual services for the prince the new york post reported here s sean stone from rt s watching the hawks interviewing conchita sarnoff the executive director from the alliance to rescue victims of trafficking to discuss epstein s heinous past another strange turn in the clinton email scandal came late in the election only days before voters went to the polls suddenly it was revealed by media outlets that due to the investigation into the sexting scandal involving disgraced former us representative anthony weiner husband of chief clinton aide huma abedine fbi director james comey would announce that the agency would be reopening the clinton email probeinterestingly according to a recent interview with breitbart news hillary clinton herself was alleged to have taken 6 trips to epstein s little saint james island according to private security kingpin and blackwater founder erik prince prior to the election and right after the fbi reopened its investigation into the clintons before promptly being shut down for a second time the controversial mercenary made the extraordinary claimit s important for readers to note how explosive this revelation truly was and yet not one word from either the mainstream media or  alternative media  outside of breitbart and few other blogs on this potentially devastating allegation prince asserted that the nypd found  way more stuff  within the 650000 recently scrutinized emails the news reportedly sent shock waves into the upper echelon of the democratic party and the clinton campaign   as the nypd was said to have been ready to hand out indictments  into additional criminal activity possibly involving money laundering and underage sex among other illicit activityprince s commentary on the democratic party s apparent corruption was released around the same time as a batch of podesta emails that sent internet sleuths down a pizzagate rabbit hole prince s claim then seem to be grafted onto the pizzagate theory by some youtube commentators only without any actual concrete evidencein early 2016 the embattled blackwater renamed academi and then xe founder prince was the subject of an inquiry that alleged he was involved in a major money laundering scheme with the bank of china in libya in 2014 prince supposedly setup  frontier services group in 2014 with the help of major chinese investment firm citic group when you factor in how prince himself became the subject of a major scandal and is now on the offensive it s hard to know whether his claims are true or just a political ploy aimed at deflecting his own controversy however his claims do offer a dark view into a political party that has been in a downward spiral for several yearswheat from the chaffwith all of that in mind for any true investigation to take place the facts still need to be separated from what might only be innuendo and overt speculationother apparent conspiracies were also brought into the fold during the ascendency of pizzagate as social media users seemed to make some startling connections although without a complete story the lack of coherence of pizzagate allegations opened the door for some of the usual suspects to come in to steer the conversation away from some potentially damaging connections back to the clintons establishment gatekeeper publication the daily beast reported the following in the passage below written by user  pleadingtheyiff  the post attempts to link the clinton campaign to laura silsby an idaho missionary who served a sixmonth prison sentence in haiti after the organization she founded new life children s refuge attempted to transport 33 haitian children to the dominican republic after the 2010 haiti earthquakethe user s primary proof of links between the clintons and silsby  huma abedin was constantly forwarding hillary articles on this woman s organization  the post provides no email sent from clinton to abedin regarding the incidentthe theory then includes a major error one of the first things hillary did when she took over the scene in haiti was to get laura off the hook  pleadingtheyiff writes then links to a website called  abovetopsecretcom silsby wasn t freed and instead remained incarcerated in haiti where she faced trial and was found guilty the nine other missionaries jailed alongside her were freed is it possible that the laura silsby case was buried under endless collateral damage from pizzagatewith even more damning american conspiracies in 2016 such as the dnc fraud violent protests funded by george soros or the pentagon paying pr firm bell pottinger 540 million to produce fake terror videos in addition to the lolita express revelations concerning the clintons in particular you have to wonder whether the pizzagate theory was an unintended coincidence or if it was yet another socially engineered agenda that masked other media storieswhat s most obvious however is how the pizzagate story and spinoff controversies appear to have obfuscated other real criminality contained within the podesta email leaks while providing a media smoke screen for the conspiracies mentioned directly abovein the article below we ll take another look at the pizzagate phenomena along with comet ping pong s gunman story in addition to one of washington dc s most notorious scandals and how the events surrounding the online conspiracy could be used to shape new censorship protocols in the wake of us media s witchhunt for  fake news  sites   leaked    john podesta former chairman for hillary clinton s 2016 presidential campaign pictured with clinton chief aid huma abedin on the clinton campaign jet spirit cooking  pizzagate a mediadriven psyopwithin the contents of the controversial podesta dispatch by wikileaks in early november there appeared to be a distressing email chain between tony podesta a top democratic lobbyist of the podesta group brother of john podesta hillary clinton s campaign chairman and a new york citybased serbian performance artist named marina abramovicthe 2015 email exchange between tony podesta and marina abramovic image left drew a sharp outcry from users on social media platforms like twitter and reddit after the email conversation revealed a dinner party involving a performance artbased ritual calling for the use of real human blood and bodily fluids referred to as  spirit cooking   while abramovic s occultinfluenced art could be seen as sick and deeply disturbing to many and even degenerate depravity to some   it s important to emphasize there was nothing criminal about her email with tony podesta or her dark creations captured on video from as early as two decades agothe origins of abramovic s spirit cooking appeared to some researchers to be linked directly to aleister crowley s thelma religion this prompted some alternative media outlets to link to everpedia as their primary source to explain the  truth  behind spirit cooking the internetbased conspiracy ultimately led to increased speculation turbocharging even more spurious connectionsanother major magnet for pizzagate researchers was abramovic s book published in 1997 the selfproclaimed  grandmother  of performance art released a book entitled  spirit cooking with essential aphrodisiac recipes   a rare book that contained a sequence of etchings and perverted recipesas theories about spirit cooking exploded on social media a series of podesta emails were leaked containing what had been thought to be coded language concealing an elite underground child sex ring according some quasiinvestigative online sites and mega forums citing 4chan and reddit postsin addition it appears that a series of emails released by wikileaks here and here are partially what led to one man james alefantis owner of comet ping pong to become the central pizzagate antagonist the fact that alefantis is listed as one of dc s top 50 most influential people   only fuelled speculation that the internet case was  a slam dunk social media inquisitors shared pictures from the instagram account of alefantis now blocked to the public and other friends and contacts linked with him in an attempt to conclude a vast conspiracy while many of these images appeared disturbing in the context of the two conspiracies mentioned above the images themselves did not prove any actual crime had taken placeas the conspiracy deepened symbols from the washington dc restaurantvenue comet ping pong derived from its menu and logo as well as other pizza restaurants in addition to apparent coded podesta emails sparked an outcry on social media as the symbols used appeared to mimic those according to a wikileaks release supposedly from the fbi the apparent leaked release from the fbi disclosed certain markers in sex trafficking and abuse cases while there might be similarities in the graphics observed at comet ping pong and nearby besta pizza the evidence is still purely circumstantial and certainly nothing conclusively linking the dcbased pizzerias to any abuse ring internet trawlers also claimed to have unearthed photos of the digging of a secret basementdungeon underneath comet ping pong   a claim which later turned out to be falsenote that this one planted detail in the pizzagate story   the evocative image a  secret basement  reserved for child torture and abuse   sent this story into orbit this is one example of how one or two simple details injected into a storyline can inflame the narrative and motivate forum users beyond what any real forensic investigation could by creating a virtual crusadein fact it was revealed that  comet uses a lowslung refrigerator at buck s fishing  camping mr alefantis s other restaurant two doors down on the same block to store produce cheese and proofing dough   see left photo by cecilia kangit s worth noting that 4chan was also behind one of the most speculative claims surrounding mh370 a story that allegedly involved the patent holders of the tech company freescale semiconductor which turned out to be false conversely 4chan has provided some valuable crowdsourced information like in the wake of the 2013 boston bombing when 4chan users posted a number of photos indicating the presence of other operatives involved in the event   a point totally blackedout by us authorities and mediainterestingly the 4chan website is said to be  struggling to survive  financially in part because of increased users driven by viral and clickbaitlike material like pizzagatethrough hyperspeculative and often misleading information spread by social media users the pizzagate narrative took shape media tripwireas the us media brushed off the perceived content of the podesta emails mentioned above a ground swell of speculation hyperbole and unsubstantiated claims filled the vacuum online as enthusiasm continued unabatedit s also important to recognize that one of the main propellers of the initial pizzagate story was a popular disinformation website called your news wire who regularly feed the public with completely fake news stories online which get propagated through social media this website has successfully managed to fool many online readers because it will regularly mix real news articles in with its many invented stories a viral fake story like this would have netted  your news wire  tens of thousands of dollars in ad click revenuebuzzfeed reports on oct 30 a white supremacy twitter account that presents itself as belonging to a jewish lawyer in new york tweeted that the nypd was looking into evidence that emails from anthony weiner s laptop contained evidence of clinton involvement in an  international child enslavement ring the next day oct 31 sean adltabatabai who used to work with british conspiracy theorist david icke took note of the message board post and the tweet he wrote a post for his site yournewswirecom his story took another step by claiming an  fbi insider  had confirmed the claims where did this this new fbi source come from adltabatabai cited a thread on a 4chan message board from back in july that thread started when an anonymous user invited questions after describing themself as  a person with intimate knowledge of the inner workings of the clinton case  adltabatabai did not respond to questions sent to him by buzzfeed news by this point the story became a viral ball of fire and there was no stopping ityou have to wonder if the spirit cookingpizzagate emails might have been used as a tripwire by the establishment to initiate increased internet censorship a story that has gathered a big boost from highly speculative ideas pasted together by various social media personalities on youtube and then codified by large popular  altmedia  outlets like infowarscom here and here who levied unconfirmed allegations at comet ping pong restaurant and other private businesses in an affluent area of washington dcfew conspiracies in recent years have generated as much public outrage scrutiny and intense speculation however we should question the timing of this conspiracy as it relates to the cyber censorship on the table following the  fake news  crisisthe bbc stated the following after a podesta email thread leaked in november mentioned the alefantis connection in early november as wikileaks steadily released piles of emails from clinton s campaign chairman john podesta one contact caught the attention of prankster sites and people on the paranoid fringesjames alefantis is the owner of comet ping pong a pizza restaurant in washington he s also a big democratic party supporter and raised money for both barack obama and hillary clinton he was once in a relationship with david brock an influential liberal operativealefantis   who s never met clinton   appeared in the podesta emails in connection with the fundraisers other claims attached to the pizzagate theory included a link to a tweet from the deceased investigative reporter andrew breitbart the pizzagate theory seemed to gather steam from this screenshot of an alleged breitbart tweet below   but is there more to the storyupon reviewing the origins of the breitbart tweet now intertwined with the pizzagate theory there appears to be some contention about what breitbart might have been referencing here s the political blog hot air on the matter it s a classic andrew tweet his abbreviations his invention of words  coverupperer  tells me that this was probably andrew s work i never really knew him to allow anyone to tweet on his behalf but i suppose it s possible at some point he did so without my knowledge so for our discussion let s stipulate that it was andrew who sent this out what is he talking about anyone who knew andrew well and worked closely in his sphere and knew what he would talk and tweet about with regard to  underage sex slaves  and john podesta knows exactly what he is referring to acorn if you don t remember james o keefe hanna giles and the acorn story that broke on andrew s big government website in 2009 here s a quick description via wikipedia which has a lot of bogus takes on the story but this brief description is correct in july and august 2009 giles and o keefe visited acorn offices in baltimore washington dc brooklyn san bernardino san diego philadelphia los angeles and miami giles dressed as a prostitute while o keefe wore white khakis with a blue dress shirt andor tie and claimed to be her boyfriend giles and o keefe recorded the encounters using hidden cameras and pretended to be seeking advice on how to run an illegal business that included the use of underage girls in the sex trade the article goes on to state that the acorn saga which had been instrumental in breitbart s rise in media had been in some aspect involved an underage abuse story due to the undercover work of james o keefe and hannah giles  strange days    comet ping pong resides in a quiet affluent dc neighborhood image source chicago suntimesthe comet ping pong gunmanin early december 28 yearold actor edgar maddison welch was arrested by authorities after reportedly discharging a rifle inside alefantis s comet ping pong restaurant welch had been apparently  selfinvestigating  comet ping pong the pizzeria at the epicenter of a shocking conspiracy asserting that the establishment is somehow allegedly involved in an expansive child trafficking abuse ringwelch s background may have raised a few eyebrows of those who have chronicled the profiles of various gunman in recent years such as his actingfilm production past documented on imdb he was also recently involved in a major traffic accident in october badly injuring a young teenager potentially impacting his state of mind as well as being exposed in a potential criminal casewhile 21wire has outlined the possibility of informants being used in shooting events in the past   usually those individuals have had a lengthy criminal past with multiple links to government military and sometimes the entertainment industry   welch doesn t entirely fit this typical mold of a convict turned informant or agent provocateurperhaps there s another answer the online site heavycom released the following information regarding welch s father and his work preventing child abductions harry welch jr is a former police officer firearms instructor and expert witness on firearms according to his imdb profile he also writes that his family has hosted foster children and has worked to prevent child abusehe was  elected president of the north carolina crime stoppers association two terms served as executive director for protectachild a national nonprofit organization to prevent abuse and abduction of children appointed by governor jim martin to the governor s commission on child victimization was welch under psychological duress following his recent car accident feeding into other aspects of his life such as his father s work to prevent child abuse then motivated into action by an online conspiracyalthough it s difficult to accurately gauge welch s true motivation some youtube personalities absolutely contend that his involvement was scripted    to smear the a new burgeoning  pizzagate research community  online additionally some researchers cite welch s relief visit to haiti in 2010 as absolute  proof of a hoax  because alleged clinton foundation ties to human trafficking in haiti   claims that have to this date have yet to be completely proventhis part of the pizzagate conspiracy gained steam when monica petersen an activist for sexworker rights who over the summer was working for  claude d estree the executive director of the human trafficking center at the university of denver  apparently died of a suicide in mid november while in haiti however at the time the circumstances of her death were not entirely clear which led to intense speculation not grounded in fact if there was evidence of foul play certainly this could be investigated as part of a possible coverup especially during such a hotly contested us election involving the clintons   but until that issue is resolved any talk of  proof  of a wider conspiracy is still just that talkthe petersen tragedy was then grafted onto the pizzagate story the washington post reported the following according to executive director d estree  petersen had gone to haiti a number of times but she was not there to research human trafficking and was not investigating the clinton foundation he said she had been a  brilliant  research fellow working the past two years to produce a still unpublished article that critiqued a controversial book on the business of sex trafficking by siddharth kara unfortunately petersen s story got packaged with allegations of a clinton trafficking conspiracy that was then interwoven within the pizzagate theory and on the same day welch walked into comet ping pong the widelyknown site infowarscom  posted a youtube video titled  haiti pizzagate death of child trafficking investigator  without actually confirming the full details surrounding petersen s death everpedia one of the first websites to explain the details of spirit cooking appeared to also fan the flames of an alleged conspiracy surrounding petersen s deathan abc news release below disclosed the full details regarding welch s apparent criminal activity at comet ping pong at around 3 pm he arrived at the restaurant where witnesses say they saw welch holding an assault rifle across his chest according to the complaint as he moved toward the back of the restaurant employees and customers fled the buildingas everyone was fleeing welch encountered an employee returning from the back freezer according to court documents the employee said welch pointed the ar15 rifle in his direction the documents state but welch denied raising the firearm at the employeeafter the customers and employees left the restaurant police created a perimeter around it and at about 324 pm welch exited the building with his hands in the air complying with officers the story continued with the following description at one point he said he encountered a locked door and attempted to open it with a butter knife the complaint says when that didn t work he fired shots at the lock with his ar15 documents say here s a screen shot of welch s incident report msm fake news witchhuntfor the mainstream media pizzagate was the gift that just kept on givingfollowing welch s encounter inside comet ping pong the conspiracy known as  pizzagate  has fallen into the manipulative hands of the corporate mainstream media now castigating  speculative alternative media outlets  which inturn gave legs to the already convoluted  fake news witchhunt being waged by mainstream media   specifically aimed at independent outlets and blogs that regularly produce insightful critical analysisadditionally since the spirit cooking and pizzagate theories were merging there has been no solid evidence linking the restaurant to anything criminal yet the theories continue to persist online implicating private citizens in what is at this point a  victimless  crime this has made alternative media an easy target for mainstream media and politicians calling for more  control  over social media content to help stop waht mainstream pundits were now describing as pizzagate s own campaign online abuse and  internet bullying  against comet ping pong s owner and stafffrom a legal stand point the pizzagate conspiracy could also potentially lead to a court case against the root cause of certain defamatory allegations and apparent death threats   as alefantis and other shop owners are private citizens and not public figures this is something to consider when presenting any possible theory directly implicating an individual in a major felony unless there exists a real forensic smoking gun or a whistleblower willing to come forward then there is no  case    only speculation which could be construed as libel and defamation without any supporting evidencewhile the internet has zeroedin on pizzeriabased conspiracies over the past two months it s important to remember that washington has had a long dark history linked to illicit prostitution and sex trafficking   including at least two such expansive cases that reached all the way to the white house   disgraced    former us congressman barney frank frank did not seek relection in 2012 after he was found to have engineered a 12 million tarp bailout for oneunited bank image source businessinsidercomwashington s silence congressman frank s  call boys in 2011 democratic congressman barney frank decided not to seek reelection while much of the mainstream media waxed poetic about his 30year career there was virtually no mention of his involvement in one of the most notable dc scandals over the past three decadesin 1989 it was discovered that frank s then boyfriend stephen gobie who the us representative once solicited for an 80 dollar sexual encounter had been running a prostitution ring out of congressman frank s capitol hill apartment   according to gobie barney frank was fully aware of the operationhere s a passage from a business insider article from 2011 that describes one of dc s darkest scandals that is barely mentioned by media outlets to this day reuters didn t mention it the new york times didn t bring it up the guardian didn t note it either the washington post got to it in the 17th paragraphin 1989 it was discovered that barney frank s boyfriend stephen gobie whom frank had once hired as a male prostitute was running a malebrothel out of the congressman s home frank claimed he did not know about the prostitution ring in his home but he did use the power of his office to  fix  33 tickets for gobie and he knowingly wrote a misleading letter to gobie s probation officer in virginia frank received a  reprimand  for fixing the tickets gobie maintained that frank knew about the prostitution ring operation in his home even writers who were absolutely untroubled by the openly homosexual lawmaker in 1989 thought that frank should have resigned or they at least acknowledged that there was an abuse of his office additionally the washington post reported that gobie  maintained a relationship with gabriel a massaro the principal of chevy chase elementary school and used an office at the school in late 1987 to make telephone calls and have one client meet a prostitute while massaro was placed on administrative leave the conspiracy deepened as the washington post followed up the breaking story providing the following details with congress in recess it s too soon to tell if the massachusetts democrat will weather his admission that he paid gobie for sex hired him as a personal aide and wrote letters on congressional stationary to the convicted felon s probation officer shockingly the scandal continued to persist as the investigation led to other political inquiries frank s scandal appeared to overlap and dovetail with another disturbing ring that reached all the way to the white house during the reaganbush erathe franklin coverupthe barney frank scandal indeed followed another appalling and chilling scandal dubbed the  franklin coverup  the shocking case involving omaha nebraska s franklin credit union employee named lawrence king who looted his employer to the tune of 38 million dollars here s a washington post article from 1990 on the matter lawrence e king jr everyone now agrees had a remarkable knack for stretching a dollar on a salary of 16200 a year the credit union manager drove a 70000 white mercedes   and still could afford to spend 10000 a month on limousines his credit card charges topped 1 million he owned a fourstory house on 26 acres overlooking the missouri river and his floral bill alone came to 146000 during a fragrant 13month period in 198788 while king s embezzlement was troublesome it paled into comparison to a wider charge of trafficking and abuse levied at the credit union manager the post continued outlining the awful truth about the abuse tied to king in a group called the franklin five in june 1988 a social worker at a mental hospital in omaha reported allegations of possible child abuse to the nebraska foster care review board an agency that monitors the placement of several thousand children in the statethe board subsequently asked omaha police and the state attorney general to investigate possible  child exploitation  a  child prostitution ring  and  inappropriate activities by larry king more evidence in the same report revealed the following 21 hours of videotaped testimony from three new witnesses all in their early twenties who said that as minors they had been victims of physical and sexual abuse the book entitled the franklin coverup by former nebraska state senator and lawyer john de camp chronicled a case that implicated politicians judges those in the military police as well as members of the intelligence community in the subsequent abduction of numerous children over the course of many yearslawrence king was eventually convicted on charges of theft from the franklin credit union and ordered to pay damages to paul bonacci for the apparent abuse he suffered during his abduction bonacci later told investigators he had participated in the abduction of johnny gosch but according to polk county attorney john sarcone  the des moines resgister  bonacci has said he took part in johnny gosch s abduction but sarcone said investigators concluded any involvement by bonacci was not credible here s a short summary of the disturbing case below on february 5 1999 in us district court in lincoln nebraska an extraordinary hearing occurred in paul a bonacci v lawrence e king a civil action in which the plaintiff charged that he had been ritualistically abused by the defendant as part of a nationwide pedophile ring linked to powerful political figures in washington and to elements of the us military and intelligence establishment three weeks later on february 27 judge warren k urbom ordered king who is currently in federal prison to pay 1 million in damages to bonacci in what bonacci s attorney john decamp said was a clear signal that  the evidence presented was credible the frank and franklin conspiracies outlined above sent shock waves through the establishment in washington and while it is possible we are seeing another trafficking coverup happening again today one should consider that thus far there have been no victims found to have been abused regarding comet ping pong or any other business wrapped up within the online pizzagate theorya franklin coverup documentary called  conspiracy of silence  was made and allegedly pulled from circulation following the fallout from a case that also implicated the catholic founded nonprofit orphanage boys townin a related scandal exposed in 2002 the boston globe s spotlight team  first revealed that the leader of the catholic church in boston cardinal bernard law allowed one of his priests to continue working even though law knew that fr john geoghan had spent his career sexually assaulting children the story became so huge that it led to more than 250 priests being publicly named in abuse allegations covering some 100 cities in the us and another 100 globally in 2015 hollywood released the film spotlight which chronicled the tales of abusesimilarly in the uk over the past few years an investigation into the jimmy savile abuse scandal  was compounded by bbc s own coverup of the serious claims the savile scandal and coverup featured many whistleblowers and victims coming forward and also showed a high degree of coverup at the police department level as wellwhile observing the connective aspects of various scandals dc s political scene has also revealed some telling business and establishment links which raise even more interesting questions   media machine    democratic political operative david brock image source twitterthere are some interesting aspects of pizzagate which have been almost untouched by internet sleuthsbelow we ll take a look at george sorosfunded media matters and its director david brock and examine his past connections and tangential links to both barney frank and james alefantis media matters   political plotsin 1997 political operative david brock was once a rightwing media hitman so to speak writing conservative oped s taking on college campus  marxists  and was an investigative reporter for the weekly news magazine insight on the news published by the washington times some time later brock became a democratic political operative and soros righthand man at media matterssome reports also claim that brock seen on the left with barney frank joined on with sidney blumenthal and the clintons simply over money   but others suggest a different tale   one that took place during the course of brock completing a somewhat strange book entitled  the seduction of hillary clinton  which deflected controversies aimed at the clintons and took a softball approach to hillary s political evolutionover the years many critics have questioned brock s hidden washington past and his unlikely political evolution blackmail brock grey  alefantisin 2012 fox news revealed the following as media matters chief david brock paid a former domestic partner 850000 after being threatened with damaging information involving the organization s donors and the irs   a deal that brock later characterized as a blackmail payment according to legal documents obtained by foxnewscom brock s bitter separation from william grey led to accusations of blackmail and harassment in an acrimonious lawsuit settled at the end of last year brock accused william grey of making repeated threats to expose him to the  scorn or ridicule of his employees donors and the press in demanding money and property  brock claimed in legal papers that he sold a rehoboth beach del home he once shared with grey in order to meet grey s demands which he called  blackmail  in the lawsuit brock s legal trouble with grey appeared to be the result of a severed relationship after 10 years with brock ending the relationship he began dating washington dc restaurant impresario james alefantis  according to reportsconsidering how brock and grey s end played out according to court records revealed by the media one might consider that this latest dc drama unfolding in the form of pizzagate could also be the result of badjacketing as suggested by the blog auticulture after a bitter love triangle involving the trio   in the lead up to one of the most contentious us presidential elections in historyaccording to ward churchill s  agents of repression the fbi s secret wars against the black panther party and the american indian movement snitchjacketing or badjacketing refers to the practice creating suspicion   through the spread of rumors manufacture of evidence etc badjacketing had been a technique employed by the fbi under their program cointelprodomestically in america the fbi created the counterintelligence program known as cointelpro to influence disrupt and coerce political factions from the inside out infiltrating countless political groups and movements according to reports these included the following  the black panther party the communist party of america the ku klux klan the socialist workers party the new left the students for a democratic society the american indian movement the chicano movement the puerto rican liberation movement communist groups antiwar organizations hollywood stars sympathetic to these groups and civil rights leaders between 1956 and 1971 the fbi s controversial program influenced and radicalized hundreds of leftwing and rightwing groups to control and neutralize political dissidents across america no part of politics was immune to cointelprois it possible that a dc love triangle that once involved brock grey  alefantis led to a prdriven form as a part of brock s correct the record or something else of badjacketing which then cascaded through the democratic party elite ultimately taking its triangle shape   through the use of pizzagate and others media control    photo illustration redesigned by 21wire s shawn heltoncensorship  the  fake news  witchhuntin early november just prior to the us presidential election cnn published an article stating the following a recent buzzfeed study of  hyperpartisan facebook pages  found that these pages  are consistently feeding their millions of followers false or misleading information three weeks later in a republished article written by robert parry from consortium news it was disclosed that major media companies had been heavily involved in pushing the fake news meme citing many electionbased posts made online as the culprit in its lead editorial on sunday the new york times decried what it deemed  the digital virus called fake news  and called for internet censorship to counter this alleged problem taking particular aim at facebook founder mark zuckerberg for letting  liars and con artists hijack his platform below is a passage from a recent report filed at 21wire discussing the fake news witchhunt which has now led to new calls for internet censorship over the past month the washington post published an irresponsible propaganda piece that blamed the 2016 us election results on  fake news  dispensed via sophisticated russian propaganda these accusations of course were completely unfounded deliberately feeding into a paranoid trial by media format that is no doubt echoed by us government sock puppet accounts that act as a digital firing squad by redirecting public perceptionwhile the us mainstream media contends that  fake news  somehow altered the 2016 presidential election cycle it s important to remember that the us government has some pedigree here having been behind the creation of bogus social media accounts and personalities for years nowback in 2011 the uk s guardian reported that the us government via centcom was looking to gain a foothold over information shared on the internet through fake online personal accounts the discovery that the us military is developing false online personalities   known to users of social media as  sock puppets    could also encourage other governments private companies and nongovernment organisations to do the samethe centcom contract stipulates that each fake online persona must have a convincing background history and supporting details and that up to 50 usbased controllers should be able to operate false identities from their workstations  without fear of being discovered by sophisticated adversaries  this is just one example who really knows how widespread this practice isyou can expect a litany of allegations to continue from the mainstream along with their faux war on fake news sites which has been used deliberately to discredit and frame genuine investigative analysis in alternative media its intended target western media s antirussian hyperbole has morphed and broadened somewhat thanks to facebook google and twitter and the alphabet establishment news agencies washington has a new goto scapegoat joining the tired old russian  hack  meme   independent media see also washington post sloppy  journalism  blames russia for  fake news  crisis and trump s win while pushing neomccarthyismit appears as though there has been a coordinated effort to combine the latest run of conspiracies in america whether it s the fake news meme the  russian electionhack  meme or pizzagate    they all seem to be have been used to undermine key aspects of internet freedombelow is an interview with james alefantis featured on megyn kelly s kelly file discussing the highly speculative pizzagate theory during kelly s interview the focus centered around unsubstantiated claims levied at the business owner and his place of business here s a very detailed analysis provided by researcher david icke discussing the multilayered theories wrapped up in the pizzagate conspiracy and its relation to censorship and socalled  fake news in conclusionthe overtly conspiracytinged pizzagate theory emerged like a hydra out of subreddit and 4chan threads and twitter posts while catapulting only the most sensational aspects into the mainstream matrix the story conjures many hollywood and government tales of coverup murder abuse and deception throughout historythe perceived presence of a politically charged satanic sexcult intertwined within a paedophilic abuse ring seemed to have only enhanced the narrative for many internetsleuths who in some cases held steadfast to a biased guiltbyassociation meme   even in the absence of any known victims and without any forensic evidence or any eyewitness testimony of a crimethis is not to suggest that vip child sex rings and ritual abuse cases do not exist in america one such murder spree known as the  son of sam  case was reopened in part due to evidence of satanic cult activity and multiple offenders although the findings were suspended the case was never officially closedwhile people should certainly have the ability to express their opinion about pizzagate without shame or ridicule using biased misleading or fraudulent information in some cases dispensing defamatory or threatening remarks in a rapidfire echo chamber could ultimately undermine any legitimate investigation if there truly was a crime committed here or elsewhere if that is the ultimate legacy of pizzagate then it is a devastating selfinflicted wound for the alternative mediawhile it s true that sites like reddit and twitter could cite the 1996 communications decency act as a protection for hosting defamatory information posts by users there could be real consequences for those deliberately posting defamatory content with no real evidence to substantiate such allegationsanother risk with a whirlwind like this is that it would be very easy for an agent provocateur to post a slick youtube video or craft an article   with the intention of whippingup a storm that could be used to damage independent media as a whole it s very possible that this has already happened at some point over the life of the internet and it s certain that the powers that be will use this tactic again in the futureabove all however it s important to separate the fallout from the pizzagate story and other fake news allegations as those in mainstream media such as the new york times the washington post and the selfanointed  fact checker snopescom seem to have propped up this pizzeria conspiracy as a battle cry to introduce the idea of new internet censorship protocolsit s anybody s guess what will be the final outcome of the pizzagate phenomenon but for the moment it seems to have collapsed under the weight of its own mountain of digital ash maybe that was the idea read more msm lies at 21st century wire msm filessupport 21wire  subscribe now  become a member 21wiretvsubject\n"
     ]
    }
   ],
   "source": [
    "print(X[22303])"
   ]
  },
  {
   "cell_type": "code",
   "execution_count": null,
   "id": "3136fd15",
   "metadata": {},
   "outputs": [],
   "source": [
    "#XGBoost (XGBClassifier)? RNN?"
   ]
  },
  {
   "cell_type": "markdown",
   "id": "e215bc74",
   "metadata": {},
   "source": [
    "# Evaluation"
   ]
  },
  {
   "cell_type": "code",
   "execution_count": null,
   "id": "d7f5e9ee",
   "metadata": {},
   "outputs": [],
   "source": []
  }
 ],
 "metadata": {
  "kernelspec": {
   "display_name": "Python 3",
   "language": "python",
   "name": "python3"
  },
  "language_info": {
   "codemirror_mode": {
    "name": "ipython",
    "version": 3
   },
   "file_extension": ".py",
   "mimetype": "text/x-python",
   "name": "python",
   "nbconvert_exporter": "python",
   "pygments_lexer": "ipython3",
   "version": "3.7.11"
  }
 },
 "nbformat": 4,
 "nbformat_minor": 5
}
