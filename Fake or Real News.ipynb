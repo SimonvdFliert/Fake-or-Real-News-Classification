{
 "cells": [
  {
   "cell_type": "code",
   "execution_count": 14,
   "id": "f68338ca",
   "metadata": {},
   "outputs": [],
   "source": [
    "import numpy as np\n",
    "import pandas as pd\n",
    "import string\n",
    "import matplotlib.pyplot as plt #for visualizations\n",
    "import seaborn as sns #for visualizations\n",
    "import pickle\n",
    "import datetime, os\n",
    "\n",
    "from datetime import datetime \n",
    "import nltk\n",
    "from nltk.corpus import stopwords # to remove the stopwrods\n",
    "from nltk.tokenize import word_tokenize #for tokenization\n",
    "from nltk.stem import WordNetLemmatizer # for lemmitization\n",
    "\n",
    "from sklearn.model_selection import train_test_split #to divide the corpus in train and test splits \n",
    "from sklearn.metrics import confusion_matrix, classification_report, f1_score, accuracy_score #For analysis\n",
    "\n",
    "# For CNN\n",
    "import tensorflow as tf\n",
    "from tensorflow.keras.preprocessing.text import Tokenizer\n",
    "from tensorflow.keras.preprocessing.sequence import pad_sequences\n",
    "from tensorflow.keras.models import Sequential\n",
    "from tensorflow.keras.layers import Dense, Embedding, Flatten, Conv1D, MaxPooling1D, Dropout, Activation\n",
    "from tensorflow.keras.regularizers import l2"
   ]
  },
  {
   "cell_type": "code",
   "execution_count": 3,
   "id": "05b82fce",
   "metadata": {},
   "outputs": [],
   "source": [
    "#https://www.kaggle.com/rodolfoluna/fake-news-detector\n",
    "#https://12ft.io/proxy?q=http://towardsdatascience.com/text-classification-in-python-dd95d264c802"
   ]
  },
  {
   "cell_type": "code",
   "execution_count": 4,
   "id": "5712d0ad",
   "metadata": {},
   "outputs": [],
   "source": [
    "# Data is provided in two datasets, so we need to combine them\n",
    "\n",
    "fake_news = pd.read_csv('./Data/Fake.csv')\n",
    "fake_news['Fake'] = 1\n",
    "\n",
    "# Load real news\n",
    "real_news = pd.read_csv('./Data/True.csv')\n",
    "real_news['Fake'] = 0\n",
    "\n",
    "# Join the two dataframes\n",
    "news = pd.concat([fake_news, real_news])"
   ]
  },
  {
   "cell_type": "code",
   "execution_count": 5,
   "id": "13ee5fda",
   "metadata": {},
   "outputs": [
    {
     "data": {
      "text/html": [
       "<div>\n",
       "<style scoped>\n",
       "    .dataframe tbody tr th:only-of-type {\n",
       "        vertical-align: middle;\n",
       "    }\n",
       "\n",
       "    .dataframe tbody tr th {\n",
       "        vertical-align: top;\n",
       "    }\n",
       "\n",
       "    .dataframe thead th {\n",
       "        text-align: right;\n",
       "    }\n",
       "</style>\n",
       "<table border=\"1\" class=\"dataframe\">\n",
       "  <thead>\n",
       "    <tr style=\"text-align: right;\">\n",
       "      <th></th>\n",
       "      <th>title</th>\n",
       "      <th>text</th>\n",
       "      <th>subject</th>\n",
       "      <th>date</th>\n",
       "      <th>Fake</th>\n",
       "    </tr>\n",
       "  </thead>\n",
       "  <tbody>\n",
       "    <tr>\n",
       "      <th>0</th>\n",
       "      <td>Donald Trump Sends Out Embarrassing New Year’...</td>\n",
       "      <td>Donald Trump just couldn t wish all Americans ...</td>\n",
       "      <td>News</td>\n",
       "      <td>December 31, 2017</td>\n",
       "      <td>1</td>\n",
       "    </tr>\n",
       "    <tr>\n",
       "      <th>1</th>\n",
       "      <td>Drunk Bragging Trump Staffer Started Russian ...</td>\n",
       "      <td>House Intelligence Committee Chairman Devin Nu...</td>\n",
       "      <td>News</td>\n",
       "      <td>December 31, 2017</td>\n",
       "      <td>1</td>\n",
       "    </tr>\n",
       "    <tr>\n",
       "      <th>2</th>\n",
       "      <td>Sheriff David Clarke Becomes An Internet Joke...</td>\n",
       "      <td>On Friday, it was revealed that former Milwauk...</td>\n",
       "      <td>News</td>\n",
       "      <td>December 30, 2017</td>\n",
       "      <td>1</td>\n",
       "    </tr>\n",
       "    <tr>\n",
       "      <th>3</th>\n",
       "      <td>Trump Is So Obsessed He Even Has Obama’s Name...</td>\n",
       "      <td>On Christmas day, Donald Trump announced that ...</td>\n",
       "      <td>News</td>\n",
       "      <td>December 29, 2017</td>\n",
       "      <td>1</td>\n",
       "    </tr>\n",
       "    <tr>\n",
       "      <th>4</th>\n",
       "      <td>Pope Francis Just Called Out Donald Trump Dur...</td>\n",
       "      <td>Pope Francis used his annual Christmas Day mes...</td>\n",
       "      <td>News</td>\n",
       "      <td>December 25, 2017</td>\n",
       "      <td>1</td>\n",
       "    </tr>\n",
       "  </tbody>\n",
       "</table>\n",
       "</div>"
      ],
      "text/plain": [
       "                                               title  \\\n",
       "0   Donald Trump Sends Out Embarrassing New Year’...   \n",
       "1   Drunk Bragging Trump Staffer Started Russian ...   \n",
       "2   Sheriff David Clarke Becomes An Internet Joke...   \n",
       "3   Trump Is So Obsessed He Even Has Obama’s Name...   \n",
       "4   Pope Francis Just Called Out Donald Trump Dur...   \n",
       "\n",
       "                                                text subject  \\\n",
       "0  Donald Trump just couldn t wish all Americans ...    News   \n",
       "1  House Intelligence Committee Chairman Devin Nu...    News   \n",
       "2  On Friday, it was revealed that former Milwauk...    News   \n",
       "3  On Christmas day, Donald Trump announced that ...    News   \n",
       "4  Pope Francis used his annual Christmas Day mes...    News   \n",
       "\n",
       "                date  Fake  \n",
       "0  December 31, 2017     1  \n",
       "1  December 31, 2017     1  \n",
       "2  December 30, 2017     1  \n",
       "3  December 29, 2017     1  \n",
       "4  December 25, 2017     1  "
      ]
     },
     "execution_count": 5,
     "metadata": {},
     "output_type": "execute_result"
    }
   ],
   "source": [
    "news.head()"
   ]
  },
  {
   "cell_type": "code",
   "execution_count": 6,
   "id": "ba96898e",
   "metadata": {},
   "outputs": [
    {
     "name": "stdout",
     "output_type": "stream",
     "text": [
      "<class 'pandas.core.frame.DataFrame'>\n",
      "Int64Index: 44898 entries, 0 to 21416\n",
      "Data columns (total 5 columns):\n",
      " #   Column   Non-Null Count  Dtype \n",
      "---  ------   --------------  ----- \n",
      " 0   title    44898 non-null  object\n",
      " 1   text     44898 non-null  object\n",
      " 2   subject  44898 non-null  object\n",
      " 3   date     44898 non-null  object\n",
      " 4   Fake     44898 non-null  int64 \n",
      "dtypes: int64(1), object(4)\n",
      "memory usage: 2.1+ MB\n"
     ]
    }
   ],
   "source": [
    "news.info()"
   ]
  },
  {
   "cell_type": "code",
   "execution_count": 7,
   "id": "dd8b76ad",
   "metadata": {},
   "outputs": [
    {
     "data": {
      "text/html": [
       "<div>\n",
       "<style scoped>\n",
       "    .dataframe tbody tr th:only-of-type {\n",
       "        vertical-align: middle;\n",
       "    }\n",
       "\n",
       "    .dataframe tbody tr th {\n",
       "        vertical-align: top;\n",
       "    }\n",
       "\n",
       "    .dataframe thead th {\n",
       "        text-align: right;\n",
       "    }\n",
       "</style>\n",
       "<table border=\"1\" class=\"dataframe\">\n",
       "  <thead>\n",
       "    <tr style=\"text-align: right;\">\n",
       "      <th></th>\n",
       "      <th>Fake</th>\n",
       "    </tr>\n",
       "  </thead>\n",
       "  <tbody>\n",
       "    <tr>\n",
       "      <th>count</th>\n",
       "      <td>44898.000000</td>\n",
       "    </tr>\n",
       "    <tr>\n",
       "      <th>mean</th>\n",
       "      <td>0.522985</td>\n",
       "    </tr>\n",
       "    <tr>\n",
       "      <th>std</th>\n",
       "      <td>0.499477</td>\n",
       "    </tr>\n",
       "    <tr>\n",
       "      <th>min</th>\n",
       "      <td>0.000000</td>\n",
       "    </tr>\n",
       "    <tr>\n",
       "      <th>25%</th>\n",
       "      <td>0.000000</td>\n",
       "    </tr>\n",
       "    <tr>\n",
       "      <th>50%</th>\n",
       "      <td>1.000000</td>\n",
       "    </tr>\n",
       "    <tr>\n",
       "      <th>75%</th>\n",
       "      <td>1.000000</td>\n",
       "    </tr>\n",
       "    <tr>\n",
       "      <th>max</th>\n",
       "      <td>1.000000</td>\n",
       "    </tr>\n",
       "  </tbody>\n",
       "</table>\n",
       "</div>"
      ],
      "text/plain": [
       "               Fake\n",
       "count  44898.000000\n",
       "mean       0.522985\n",
       "std        0.499477\n",
       "min        0.000000\n",
       "25%        0.000000\n",
       "50%        1.000000\n",
       "75%        1.000000\n",
       "max        1.000000"
      ]
     },
     "execution_count": 7,
     "metadata": {},
     "output_type": "execute_result"
    }
   ],
   "source": [
    "news.describe()"
   ]
  },
  {
   "cell_type": "code",
   "execution_count": 8,
   "id": "6c045e3d",
   "metadata": {},
   "outputs": [
    {
     "data": {
      "text/plain": [
       "title      0\n",
       "text       0\n",
       "subject    0\n",
       "date       0\n",
       "Fake       0\n",
       "dtype: int64"
      ]
     },
     "execution_count": 8,
     "metadata": {},
     "output_type": "execute_result"
    }
   ],
   "source": [
    "news.isna().sum()"
   ]
  },
  {
   "cell_type": "markdown",
   "id": "9ba5156e",
   "metadata": {},
   "source": [
    "# Visualise the data"
   ]
  },
  {
   "cell_type": "code",
   "execution_count": 9,
   "id": "bb8ee9f9",
   "metadata": {},
   "outputs": [
    {
     "name": "stdout",
     "output_type": "stream",
     "text": [
      "Count of fake: \n",
      "1    23481\n",
      "0    21417\n",
      "Name: Fake, dtype: int64\n"
     ]
    },
    {
     "data": {
      "image/png": "[encoded data removed]",
      "text/plain": [
       "<Figure size 432x288 with 1 Axes>"
      ]
     },
     "metadata": {
      "needs_background": "light"
     },
     "output_type": "display_data"
    }
   ],
   "source": [
    "sns.countplot(x='Fake', data=news)\n",
    "print(\"Count of fake: \\n{}\".format(news['Fake'].value_counts()))"
   ]
  },
  {
   "cell_type": "code",
   "execution_count": 10,
   "id": "e1829f0d",
   "metadata": {},
   "outputs": [],
   "source": [
    "average_lengths_true = []\n",
    "average_lengths_false = []\n",
    "count = 0\n",
    "for true_article in real_news['text']:\n",
    "    average_lengths_true.append(len(true_article))\n",
    "\n",
    "for fake_article in fake_news['text']:\n",
    "    average_lengths_false.append(len(fake_article))"
   ]
  },
  {
   "cell_type": "code",
   "execution_count": 11,
   "id": "5bde0e71",
   "metadata": {},
   "outputs": [
    {
     "data": {
      "image/png": "[encoded data removed]",
      "text/plain": [
       "<Figure size 432x288 with 1 Axes>"
      ]
     },
     "metadata": {
      "needs_background": "light"
     },
     "output_type": "display_data"
    }
   ],
   "source": [
    "kwargs = dict(alpha=0.5, bins=100)\n",
    "plt.hist(average_lengths_true, **kwargs, color='b', label='True')\n",
    "plt.hist(average_lengths_false, **kwargs, color='r', label='Fake')\n",
    "plt.gca().set(title='Frequency Histogram of average lengths of True and Fake Articles', ylabel='Average Length')\n",
    "plt.legend();"
   ]
  },
  {
   "cell_type": "code",
   "execution_count": 12,
   "metadata": {},
   "outputs": [
    {
     "data": {
      "image/png": "[encoded data removed]",
      "text/plain": [
       "<Figure size 432x288 with 1 Axes>"
      ]
     },
     "metadata": {
      "needs_background": "light"
     },
     "output_type": "display_data"
    }
   ],
   "source": [
    "from statistics import mean\n",
    "\n",
    "average_true_article_len = mean(average_lengths_true)\n",
    "average_fake_article_len = mean(average_lengths_false)\n",
    "\n",
    "\n",
    "X_axis = np.arange(1)\n",
    "plt.bar(X_axis - 0.2, average_true_article_len, 0.4, label = 'True')\n",
    "plt.bar(X_axis + 0.2, average_fake_article_len, 0.4, label = 'Fake')\n",
    "  \n",
    "\n",
    "plt.xlabel(\"Text types\")\n",
    "plt.ylabel(\"Average length text\")\n",
    "plt.title(\"Average length text\")\n",
    "plt.legend()\n",
    "plt.show()\n"
   ]
  },
  {
   "cell_type": "markdown",
   "id": "f227bfb0",
   "metadata": {},
   "source": [
    "# Feature Engineering"
   ]
  },
  {
   "cell_type": "code",
   "execution_count": 13,
   "id": "597a844a",
   "metadata": {},
   "outputs": [
    {
     "data": {
      "text/html": [
       "<div>\n",
       "<style scoped>\n",
       "    .dataframe tbody tr th:only-of-type {\n",
       "        vertical-align: middle;\n",
       "    }\n",
       "\n",
       "    .dataframe tbody tr th {\n",
       "        vertical-align: top;\n",
       "    }\n",
       "\n",
       "    .dataframe thead th {\n",
       "        text-align: right;\n",
       "    }\n",
       "</style>\n",
       "<table border=\"1\" class=\"dataframe\">\n",
       "  <thead>\n",
       "    <tr style=\"text-align: right;\">\n",
       "      <th></th>\n",
       "      <th>title</th>\n",
       "      <th>text</th>\n",
       "      <th>subject</th>\n",
       "      <th>date</th>\n",
       "      <th>Fake</th>\n",
       "      <th>Year</th>\n",
       "      <th>Month</th>\n",
       "    </tr>\n",
       "  </thead>\n",
       "  <tbody>\n",
       "    <tr>\n",
       "      <th>0</th>\n",
       "      <td>Donald Trump Sends Out Embarrassing New Year’...</td>\n",
       "      <td>Donald Trump just couldn t wish all Americans ...</td>\n",
       "      <td>News</td>\n",
       "      <td>2017-12-31</td>\n",
       "      <td>1</td>\n",
       "      <td>2017.0</td>\n",
       "      <td>12.0</td>\n",
       "    </tr>\n",
       "    <tr>\n",
       "      <th>1</th>\n",
       "      <td>Drunk Bragging Trump Staffer Started Russian ...</td>\n",
       "      <td>House Intelligence Committee Chairman Devin Nu...</td>\n",
       "      <td>News</td>\n",
       "      <td>2017-12-31</td>\n",
       "      <td>1</td>\n",
       "      <td>2017.0</td>\n",
       "      <td>12.0</td>\n",
       "    </tr>\n",
       "    <tr>\n",
       "      <th>2</th>\n",
       "      <td>Sheriff David Clarke Becomes An Internet Joke...</td>\n",
       "      <td>On Friday, it was revealed that former Milwauk...</td>\n",
       "      <td>News</td>\n",
       "      <td>2017-12-30</td>\n",
       "      <td>1</td>\n",
       "      <td>2017.0</td>\n",
       "      <td>12.0</td>\n",
       "    </tr>\n",
       "    <tr>\n",
       "      <th>3</th>\n",
       "      <td>Trump Is So Obsessed He Even Has Obama’s Name...</td>\n",
       "      <td>On Christmas day, Donald Trump announced that ...</td>\n",
       "      <td>News</td>\n",
       "      <td>2017-12-29</td>\n",
       "      <td>1</td>\n",
       "      <td>2017.0</td>\n",
       "      <td>12.0</td>\n",
       "    </tr>\n",
       "    <tr>\n",
       "      <th>4</th>\n",
       "      <td>Pope Francis Just Called Out Donald Trump Dur...</td>\n",
       "      <td>Pope Francis used his annual Christmas Day mes...</td>\n",
       "      <td>News</td>\n",
       "      <td>2017-12-25</td>\n",
       "      <td>1</td>\n",
       "      <td>2017.0</td>\n",
       "      <td>12.0</td>\n",
       "    </tr>\n",
       "  </tbody>\n",
       "</table>\n",
       "</div>"
      ],
      "text/plain": [
       "                                               title  \\\n",
       "0   Donald Trump Sends Out Embarrassing New Year’...   \n",
       "1   Drunk Bragging Trump Staffer Started Russian ...   \n",
       "2   Sheriff David Clarke Becomes An Internet Joke...   \n",
       "3   Trump Is So Obsessed He Even Has Obama’s Name...   \n",
       "4   Pope Francis Just Called Out Donald Trump Dur...   \n",
       "\n",
       "                                                text subject       date  Fake  \\\n",
       "0  Donald Trump just couldn t wish all Americans ...    News 2017-12-31     1   \n",
       "1  House Intelligence Committee Chairman Devin Nu...    News 2017-12-31     1   \n",
       "2  On Friday, it was revealed that former Milwauk...    News 2017-12-30     1   \n",
       "3  On Christmas day, Donald Trump announced that ...    News 2017-12-29     1   \n",
       "4  Pope Francis used his annual Christmas Day mes...    News 2017-12-25     1   \n",
       "\n",
       "     Year  Month  \n",
       "0  2017.0   12.0  \n",
       "1  2017.0   12.0  \n",
       "2  2017.0   12.0  \n",
       "3  2017.0   12.0  \n",
       "4  2017.0   12.0  "
      ]
     },
     "execution_count": 13,
     "metadata": {},
     "output_type": "execute_result"
    }
   ],
   "source": [
    "news['date'] = pd.to_datetime(news['date'], errors='coerce')\n",
    "news['Year'] = news['date'].dt.year\n",
    "news['Month'] = news['date'].dt.month\n",
    "\n",
    "news.head()"
   ]
  },
  {
   "cell_type": "code",
   "execution_count": 14,
   "id": "43b2e50f",
   "metadata": {},
   "outputs": [
    {
     "data": {
      "text/plain": [
       "<AxesSubplot:xlabel='Year', ylabel='count'>"
      ]
     },
     "execution_count": 14,
     "metadata": {},
     "output_type": "execute_result"
    },
    {
     "data": {
      "image/png": "[encoded data removed]",
      "text/plain": [
       "<Figure size 432x288 with 1 Axes>"
      ]
     },
     "metadata": {
      "needs_background": "light"
     },
     "output_type": "display_data"
    }
   ],
   "source": [
    "# Check the impact of Year on the target variable\n",
    "sns.countplot(x='Year', data=news, hue='Fake')"
   ]
  },
  {
   "cell_type": "code",
   "execution_count": 15,
   "id": "8c8e0359",
   "metadata": {},
   "outputs": [
    {
     "data": {
      "text/plain": [
       "<AxesSubplot:xlabel='Month', ylabel='count'>"
      ]
     },
     "execution_count": 15,
     "metadata": {},
     "output_type": "execute_result"
    },
    {
     "data": {
      "image/png": "[encoded data removed]",
      "text/plain": [
       "<Figure size 432x288 with 1 Axes>"
      ]
     },
     "metadata": {
      "needs_background": "light"
     },
     "output_type": "display_data"
    }
   ],
   "source": [
    "# Check the impact of Month on the target variable\n",
    "sns.countplot(x='Month', data=news, hue='Fake')"
   ]
  },
  {
   "cell_type": "code",
   "execution_count": 16,
   "id": "7c36bd8d",
   "metadata": {},
   "outputs": [],
   "source": [
    "#We want all information of an article, which would be the title, text and subject\n",
    "news['Article'] = news['title']+\"\"+news['text']+\"\"+['subject']"
   ]
  },
  {
   "cell_type": "code",
   "execution_count": 17,
   "id": "31880088",
   "metadata": {},
   "outputs": [],
   "source": [
    "final_news = news[['Article', 'Fake']]"
   ]
  },
  {
   "cell_type": "markdown",
   "id": "6ddb0832",
   "metadata": {},
   "source": [
    "# Prepare Data"
   ]
  },
  {
   "cell_type": "markdown",
   "id": "bea505d7",
   "metadata": {},
   "source": [
    "## Lower and remove punctutation"
   ]
  },
  {
   "cell_type": "code",
   "execution_count": 18,
   "id": "0d90c923",
   "metadata": {},
   "outputs": [
    {
     "name": "stderr",
     "output_type": "stream",
     "text": [
      "E:\\Anaconda\\envs\\tensorflow_env\\lib\\site-packages\\ipykernel_launcher.py:1: SettingWithCopyWarning: \n",
      "A value is trying to be set on a copy of a slice from a DataFrame.\n",
      "Try using .loc[row_indexer,col_indexer] = value instead\n",
      "\n",
      "See the caveats in the documentation: https://pandas.pydata.org/pandas-docs/stable/user_guide/indexing.html#returning-a-view-versus-a-copy\n",
      "  \"\"\"Entry point for launching an IPython kernel.\n"
     ]
    }
   ],
   "source": [
    "final_news['Article'] = final_news['Article'].apply(lambda x: x.lower())"
   ]
  },
  {
   "cell_type": "code",
   "execution_count": 19,
   "id": "ae9f624e",
   "metadata": {},
   "outputs": [
    {
     "data": {
      "text/html": [
       "<div>\n",
       "<style scoped>\n",
       "    .dataframe tbody tr th:only-of-type {\n",
       "        vertical-align: middle;\n",
       "    }\n",
       "\n",
       "    .dataframe tbody tr th {\n",
       "        vertical-align: top;\n",
       "    }\n",
       "\n",
       "    .dataframe thead th {\n",
       "        text-align: right;\n",
       "    }\n",
       "</style>\n",
       "<table border=\"1\" class=\"dataframe\">\n",
       "  <thead>\n",
       "    <tr style=\"text-align: right;\">\n",
       "      <th></th>\n",
       "      <th>Article</th>\n",
       "      <th>Fake</th>\n",
       "    </tr>\n",
       "  </thead>\n",
       "  <tbody>\n",
       "    <tr>\n",
       "      <th>0</th>\n",
       "      <td>donald trump sends out embarrassing new year’...</td>\n",
       "      <td>1</td>\n",
       "    </tr>\n",
       "    <tr>\n",
       "      <th>1</th>\n",
       "      <td>drunk bragging trump staffer started russian ...</td>\n",
       "      <td>1</td>\n",
       "    </tr>\n",
       "    <tr>\n",
       "      <th>2</th>\n",
       "      <td>sheriff david clarke becomes an internet joke...</td>\n",
       "      <td>1</td>\n",
       "    </tr>\n",
       "    <tr>\n",
       "      <th>3</th>\n",
       "      <td>trump is so obsessed he even has obama’s name...</td>\n",
       "      <td>1</td>\n",
       "    </tr>\n",
       "    <tr>\n",
       "      <th>4</th>\n",
       "      <td>pope francis just called out donald trump dur...</td>\n",
       "      <td>1</td>\n",
       "    </tr>\n",
       "  </tbody>\n",
       "</table>\n",
       "</div>"
      ],
      "text/plain": [
       "                                             Article  Fake\n",
       "0   donald trump sends out embarrassing new year’...     1\n",
       "1   drunk bragging trump staffer started russian ...     1\n",
       "2   sheriff david clarke becomes an internet joke...     1\n",
       "3   trump is so obsessed he even has obama’s name...     1\n",
       "4   pope francis just called out donald trump dur...     1"
      ]
     },
     "execution_count": 19,
     "metadata": {},
     "output_type": "execute_result"
    }
   ],
   "source": [
    "final_news.head()"
   ]
  },
  {
   "cell_type": "code",
   "execution_count": 20,
   "id": "ee17e583",
   "metadata": {},
   "outputs": [],
   "source": [
    "# remove punctutations\n",
    "def remove_punct(input_string):\n",
    "    split_article = [char for char in input_string if char not in string.punctuation]\n",
    "    clean_article = ''.join(split_article)\n",
    "    return clean_article"
   ]
  },
  {
   "cell_type": "code",
   "execution_count": 21,
   "id": "ba4b160c",
   "metadata": {},
   "outputs": [
    {
     "name": "stderr",
     "output_type": "stream",
     "text": [
      "E:\\Anaconda\\envs\\tensorflow_env\\lib\\site-packages\\ipykernel_launcher.py:1: SettingWithCopyWarning: \n",
      "A value is trying to be set on a copy of a slice from a DataFrame.\n",
      "Try using .loc[row_indexer,col_indexer] = value instead\n",
      "\n",
      "See the caveats in the documentation: https://pandas.pydata.org/pandas-docs/stable/user_guide/indexing.html#returning-a-view-versus-a-copy\n",
      "  \"\"\"Entry point for launching an IPython kernel.\n"
     ]
    }
   ],
   "source": [
    "final_news['Article'] = final_news['Article'].apply(remove_punct)"
   ]
  },
  {
   "cell_type": "code",
   "execution_count": 22,
   "id": "e8e668a3",
   "metadata": {},
   "outputs": [
    {
     "data": {
      "text/plain": [
       "0     donald trump sends out embarrassing new year’...\n",
       "1     drunk bragging trump staffer started russian ...\n",
       "2     sheriff david clarke becomes an internet joke...\n",
       "3     trump is so obsessed he even has obama’s name...\n",
       "4     pope francis just called out donald trump dur...\n",
       "Name: Article, dtype: object"
      ]
     },
     "execution_count": 22,
     "metadata": {},
     "output_type": "execute_result"
    }
   ],
   "source": [
    "final_news['Article'].head() "
   ]
  },
  {
   "cell_type": "markdown",
   "id": "b03edea1",
   "metadata": {},
   "source": [
    "# Tokenize"
   ]
  },
  {
   "cell_type": "code",
   "execution_count": 23,
   "id": "68b83109",
   "metadata": {},
   "outputs": [
    {
     "name": "stderr",
     "output_type": "stream",
     "text": [
      "[nltk_data] Downloading package punkt to\n",
      "[nltk_data]     C:\\Users\\Simon\\AppData\\Roaming\\nltk_data...\n",
      "[nltk_data]   Package punkt is already up-to-date!\n"
     ]
    },
    {
     "data": {
      "text/plain": [
       "True"
      ]
     },
     "execution_count": 23,
     "metadata": {},
     "output_type": "execute_result"
    }
   ],
   "source": [
    "nltk.download('punkt')"
   ]
  },
  {
   "cell_type": "code",
   "execution_count": 24,
   "id": "94108101",
   "metadata": {},
   "outputs": [],
   "source": [
    "for article in final_news['Article']:\n",
    "    #word_tokenize is a function from the nltk.tokenize package\n",
    "    tokenized_article = word_tokenize(article)"
   ]
  },
  {
   "cell_type": "code",
   "execution_count": 25,
   "id": "fc1e5cda",
   "metadata": {},
   "outputs": [
    {
     "name": "stderr",
     "output_type": "stream",
     "text": [
      "[nltk_data] Downloading package stopwords to\n",
      "[nltk_data]     C:\\Users\\Simon\\AppData\\Roaming\\nltk_data...\n",
      "[nltk_data]   Package stopwords is already up-to-date!\n"
     ]
    },
    {
     "data": {
      "text/plain": [
       "True"
      ]
     },
     "execution_count": 25,
     "metadata": {},
     "output_type": "execute_result"
    }
   ],
   "source": [
    "nltk.download('stopwords')"
   ]
  },
  {
   "cell_type": "markdown",
   "id": "a66c4871",
   "metadata": {},
   "source": [
    "## Stopwords"
   ]
  },
  {
   "cell_type": "code",
   "execution_count": 26,
   "id": "73c32203",
   "metadata": {},
   "outputs": [],
   "source": [
    "stopWords = stopwords.words('english')\n",
    "filtered_document = []\n",
    "filtered_article = []\n",
    "#final_news['Article'].apply(lambda x: [item for item in tqdm(x) if item not in stopWords])\n",
    "\n",
    "for sentence in final_news['Article']:\n",
    "    #Having taken a sentence, remove the stopwords of that sentence\n",
    "    for word in sentence:\n",
    "        if word not in stopWords:\n",
    "            #save the tokenized, stopword-less article in a list\n",
    "            filtered_article.append(word)\n",
    "    sentence = filtered_article\n",
    "    \n",
    "    #Add the filtered sentence to the overal documents list\n",
    "    #filtered_document.append(sentence)\n",
    "    \n",
    "    #reset the sentence list so that we do not accidently save multiple articles as one article\n",
    "    #filtererd_article = []\n",
    "    "
   ]
  },
  {
   "cell_type": "code",
   "execution_count": 27,
   "id": "e9c819a8",
   "metadata": {},
   "outputs": [
    {
     "name": "stderr",
     "output_type": "stream",
     "text": [
      "[nltk_data] Downloading package wordnet to\n",
      "[nltk_data]     C:\\Users\\Simon\\AppData\\Roaming\\nltk_data...\n",
      "[nltk_data]   Package wordnet is already up-to-date!\n"
     ]
    },
    {
     "data": {
      "text/plain": [
       "True"
      ]
     },
     "execution_count": 27,
     "metadata": {},
     "output_type": "execute_result"
    }
   ],
   "source": [
    "nltk.download('wordnet')"
   ]
  },
  {
   "cell_type": "markdown",
   "id": "6bb25ee7",
   "metadata": {},
   "source": [
    "## Lemmatization"
   ]
  },
  {
   "cell_type": "code",
   "execution_count": 28,
   "id": "7e77a27f",
   "metadata": {},
   "outputs": [],
   "source": [
    "# Lemmatization function\n",
    "\n",
    "lemmatizer = WordNetLemmatizer()\n",
    "\n",
    "def lemmatize_text(article):\n",
    "    #lemmatize each word in the article\n",
    "    return [lemmatizer.lemmatize(word) for word in article]  \n",
    "    "
   ]
  },
  {
   "cell_type": "code",
   "execution_count": 29,
   "id": "19177d40",
   "metadata": {},
   "outputs": [],
   "source": [
    "# call the lemmatization function on each sentence in the corpus\n",
    "#Cleaned_articles = []\n",
    "\n",
    "for article in final_news['Article']:\n",
    "    #this might go wrong --> the input is a list of tokenized words, so this might return individual lemmatized words\n",
    "    # Might also go wrong by not being able to lemmatize a text --> would need to go one layer deeper\n",
    "    lemmatizing_sentences = lemmatize_text(article)\n",
    "    ##Cleaned_articles.append(lemmatizing_sentences)"
   ]
  },
  {
   "cell_type": "code",
   "execution_count": 30,
   "id": "8ba7745e",
   "metadata": {},
   "outputs": [
    {
     "data": {
      "text/html": [
       "<div>\n",
       "<style scoped>\n",
       "    .dataframe tbody tr th:only-of-type {\n",
       "        vertical-align: middle;\n",
       "    }\n",
       "\n",
       "    .dataframe tbody tr th {\n",
       "        vertical-align: top;\n",
       "    }\n",
       "\n",
       "    .dataframe thead th {\n",
       "        text-align: right;\n",
       "    }\n",
       "</style>\n",
       "<table border=\"1\" class=\"dataframe\">\n",
       "  <thead>\n",
       "    <tr style=\"text-align: right;\">\n",
       "      <th></th>\n",
       "      <th>Article</th>\n",
       "      <th>Fake</th>\n",
       "    </tr>\n",
       "  </thead>\n",
       "  <tbody>\n",
       "    <tr>\n",
       "      <th>0</th>\n",
       "      <td>donald trump sends out embarrassing new year’...</td>\n",
       "      <td>1</td>\n",
       "    </tr>\n",
       "    <tr>\n",
       "      <th>1</th>\n",
       "      <td>drunk bragging trump staffer started russian ...</td>\n",
       "      <td>1</td>\n",
       "    </tr>\n",
       "    <tr>\n",
       "      <th>2</th>\n",
       "      <td>sheriff david clarke becomes an internet joke...</td>\n",
       "      <td>1</td>\n",
       "    </tr>\n",
       "    <tr>\n",
       "      <th>3</th>\n",
       "      <td>trump is so obsessed he even has obama’s name...</td>\n",
       "      <td>1</td>\n",
       "    </tr>\n",
       "    <tr>\n",
       "      <th>4</th>\n",
       "      <td>pope francis just called out donald trump dur...</td>\n",
       "      <td>1</td>\n",
       "    </tr>\n",
       "  </tbody>\n",
       "</table>\n",
       "</div>"
      ],
      "text/plain": [
       "                                             Article  Fake\n",
       "0   donald trump sends out embarrassing new year’...     1\n",
       "1   drunk bragging trump staffer started russian ...     1\n",
       "2   sheriff david clarke becomes an internet joke...     1\n",
       "3   trump is so obsessed he even has obama’s name...     1\n",
       "4   pope francis just called out donald trump dur...     1"
      ]
     },
     "execution_count": 30,
     "metadata": {},
     "output_type": "execute_result"
    }
   ],
   "source": [
    "final_news.head()"
   ]
  },
  {
   "cell_type": "code",
   "execution_count": 31,
   "id": "c8f23a33",
   "metadata": {},
   "outputs": [],
   "source": [
    "for article in final_news[\"Article\"]:\n",
    "    article = final_news[\"Article\"].array"
   ]
  },
  {
   "cell_type": "code",
   "execution_count": 32,
   "id": "9c20f447",
   "metadata": {},
   "outputs": [],
   "source": [
    "# Pad the articles to make them all the same length\n",
    "longest_article_length = len(max(final_news[\"Article\"], key=len))\n",
    "\n",
    "\n",
    "for article in final_news[\"Article\"]:\n",
    "    article = article.ljust(longest_article_length) "
   ]
  },
  {
   "cell_type": "code",
   "execution_count": 33,
   "id": "68bc5c07",
   "metadata": {},
   "outputs": [],
   "source": [
    "X = final_news[\"Article\"]\n",
    "Y = final_news[\"Fake\"]"
   ]
  },
  {
   "cell_type": "code",
   "execution_count": 34,
   "id": "9632c343",
   "metadata": {},
   "outputs": [],
   "source": [
    "from collections import Counter\n",
    "wordCount = Counter(check for article in X for check in article.split())"
   ]
  },
  {
   "cell_type": "code",
   "execution_count": 35,
   "id": "a73314df",
   "metadata": {},
   "outputs": [],
   "source": [
    "wordCount;"
   ]
  },
  {
   "cell_type": "code",
   "execution_count": 36,
   "id": "4dcb20d6",
   "metadata": {},
   "outputs": [],
   "source": [
    "atleast_1_000_occurences = {x: count for x, count in wordCount.items() if count >= 1_000}\n",
    "atleast_10_000_occurences = {x: count for x, count in wordCount.items() if count >= 10_000}"
   ]
  },
  {
   "cell_type": "markdown",
   "id": "b4db6c7e",
   "metadata": {},
   "source": [
    "# Build the model"
   ]
  },
  {
   "cell_type": "markdown",
   "id": "5a8178e8",
   "metadata": {},
   "source": [
    "### Bag of words model"
   ]
  },
  {
   "cell_type": "markdown",
   "id": "4431cd7e",
   "metadata": {},
   "source": [
    "Bag of words uses the occurences of words in the corpus. This is a great baseline and a surprisingly effective model for its simplicity"
   ]
  },
  {
   "cell_type": "code",
   "execution_count": 37,
   "id": "30013e68",
   "metadata": {},
   "outputs": [
    {
     "data": {
      "text/plain": [
       "array(['00', '000', '0000', ..., 'émigré', 'état', 'žižek'], dtype=object)"
      ]
     },
     "execution_count": 37,
     "metadata": {},
     "output_type": "execute_result"
    }
   ],
   "source": [
    "from sklearn.feature_extraction.text import CountVectorizer, TfidfVectorizer\n",
    "\n",
    "Occurence_vector = TfidfVectorizer()\n",
    "fitted_X = Occurence_vector.fit_transform(X)\n",
    "Occurence_vector.get_feature_names_out() \n"
   ]
  },
  {
   "cell_type": "code",
   "execution_count": 38,
   "id": "326ab3ed",
   "metadata": {},
   "outputs": [],
   "source": [
    "# open a file, where you ant to store the data\n",
    "file = open('./Data/fitted_X', 'wb')\n",
    "\n",
    "# dump information to that file\n",
    "pickle.dump(fitted_X, file)\n",
    "\n",
    "# close the file\n",
    "file.close()"
   ]
  },
  {
   "cell_type": "code",
   "execution_count": 39,
   "id": "23f1535d",
   "metadata": {},
   "outputs": [],
   "source": [
    "# open a file, where you ant to store the data\n",
    "file = open('./Data/X', 'wb')\n",
    "\n",
    "# dump information to that file\n",
    "pickle.dump(X, file)\n",
    "\n",
    "# close the file\n",
    "file.close()\n",
    "\n",
    "# open a file, where you ant to store the data\n",
    "file = open('./Data/Y', 'wb')\n",
    "\n",
    "# dump information to that file\n",
    "pickle.dump(Y, file)\n",
    "\n",
    "# close the file\n",
    "file.close()"
   ]
  },
  {
   "cell_type": "code",
   "execution_count": 40,
   "id": "09fe8041",
   "metadata": {},
   "outputs": [],
   "source": [
    "# open a file, where you ant to store the data\n",
    "file = open('./Data/atleast_1_000_occurences', 'wb')\n",
    "\n",
    "# dump information to that file\n",
    "pickle.dump(atleast_1_000_occurences, file)\n",
    "\n",
    "# close the file\n",
    "file.close()\n",
    "\n",
    "# open a file, where you ant to store the data\n",
    "file = open('./Data/atleast_10_000_occurences', 'wb')\n",
    "\n",
    "# dump information to that file\n",
    "pickle.dump(atleast_10_000_occurences, file)\n",
    "\n",
    "# close the file\n",
    "file.close()\n",
    "\n",
    "\n"
   ]
  },
  {
   "cell_type": "code",
   "execution_count": 2,
   "id": "d2eaa307",
   "metadata": {},
   "outputs": [],
   "source": [
    "fitted_X = pickle.load( open( \"./Data/fitted_X\", \"rb\" ) )\n",
    "X = pickle.load( open( \"./Data/X\", \"rb\" ) )\n",
    "Y = pickle.load( open( \"./Data/Y\", \"rb\" ) )\n",
    "\n"
   ]
  },
  {
   "cell_type": "code",
   "execution_count": 42,
   "id": "c4f9bbb4",
   "metadata": {},
   "outputs": [
    {
     "data": {
      "text/plain": [
       "(44898, 248247)"
      ]
     },
     "execution_count": 42,
     "metadata": {},
     "output_type": "execute_result"
    }
   ],
   "source": [
    "fitted_X.shape"
   ]
  },
  {
   "cell_type": "code",
   "execution_count": 43,
   "id": "d508a45f",
   "metadata": {},
   "outputs": [
    {
     "data": {
      "text/plain": [
       "(44898,)"
      ]
     },
     "execution_count": 43,
     "metadata": {},
     "output_type": "execute_result"
    }
   ],
   "source": [
    "X.shape"
   ]
  },
  {
   "cell_type": "code",
   "execution_count": 44,
   "id": "f6b42456",
   "metadata": {},
   "outputs": [
    {
     "data": {
      "text/plain": [
       "(44898,)"
      ]
     },
     "execution_count": 44,
     "metadata": {},
     "output_type": "execute_result"
    }
   ],
   "source": [
    "Y.shape"
   ]
  },
  {
   "cell_type": "code",
   "execution_count": 3,
   "id": "6a041c6d",
   "metadata": {},
   "outputs": [],
   "source": [
    "from sklearn.model_selection import train_test_split\n",
    "\n",
    "x_train, x_test, y_train, y_test = train_test_split(X, Y, test_size= 0.2, random_state= 1, shuffle=True)"
   ]
  },
  {
   "cell_type": "markdown",
   "id": "9abd5b4f",
   "metadata": {},
   "source": [
    "# SVM"
   ]
  },
  {
   "cell_type": "code",
   "execution_count": 46,
   "metadata": {},
   "outputs": [
    {
     "ename": "ValueError",
     "evalue": "could not convert string to float: 'flashback 2015 antigun obsessed white house gives tips on how to talk about “gun control” at thanksgiving videonothing says  thanksgiving  or  family  like a room full of brain washed liberals sitting around the dinner table talking about ways to strip americans of their constitutional rights this thanksgiving the obama administration wants americans to talk about why congress won t pass more gun control   but not about obama s foreign policy failuresduring the white house press briefing press secretary josh earnest continued to press a narrative set up by gun control activists in response to the terrorist attacks in paris as people sitting around the thanksgiving table talking about these issues as they should and i m sure they will all across the country i hope that s a question that will be raised and asked by members around the table  earnest said referring to a bill supported by democrat to ban people on the nofly list from purchasing a gunearnest attributed opposition to the bill from republicans and some democrats to  fear  of the national rifle associationbut as breitbart news gun reporter awr hawkins has noted the campaign is misguided as the nofly list is imprecise a law based on that list could would block innocent individuals from exercising their second amendment right to purchase firearmsvia breitbart newsand for those who choose to take the proamerican side of the second amendment argument here s a little video you might want to share with your guestssubject'",
     "output_type": "error",
     "traceback": [
      "\u001b[1;31m---------------------------------------------------------------------------\u001b[0m",
      "\u001b[1;31mValueError\u001b[0m                                Traceback (most recent call last)",
      "\u001b[1;32m~\\AppData\\Local\\Temp\\ipykernel_16768\\1383142236.py\u001b[0m in \u001b[0;36m<module>\u001b[1;34m\u001b[0m\n\u001b[0;32m      3\u001b[0m \u001b[1;32mfrom\u001b[0m \u001b[0msklearn\u001b[0m \u001b[1;32mimport\u001b[0m \u001b[0msvm\u001b[0m\u001b[1;33m\u001b[0m\u001b[1;33m\u001b[0m\u001b[0m\n\u001b[0;32m      4\u001b[0m \u001b[0msvm_model\u001b[0m \u001b[1;33m=\u001b[0m \u001b[0msvm\u001b[0m\u001b[1;33m.\u001b[0m\u001b[0mSVC\u001b[0m\u001b[1;33m(\u001b[0m\u001b[1;33m)\u001b[0m\u001b[1;33m\u001b[0m\u001b[1;33m\u001b[0m\u001b[0m\n\u001b[1;32m----> 5\u001b[1;33m \u001b[0msvm_model\u001b[0m\u001b[1;33m.\u001b[0m\u001b[0mfit\u001b[0m\u001b[1;33m(\u001b[0m\u001b[0mx_train\u001b[0m\u001b[1;33m,\u001b[0m \u001b[0my_train\u001b[0m\u001b[1;33m)\u001b[0m\u001b[1;33m\u001b[0m\u001b[1;33m\u001b[0m\u001b[0m\n\u001b[0m",
      "\u001b[1;32mE:\\Anaconda\\envs\\tensorflow_env\\lib\\site-packages\\sklearn\\svm\\_base.py\u001b[0m in \u001b[0;36mfit\u001b[1;34m(self, X, y, sample_weight)\u001b[0m\n\u001b[0;32m    194\u001b[0m                 \u001b[0morder\u001b[0m\u001b[1;33m=\u001b[0m\u001b[1;34m\"C\"\u001b[0m\u001b[1;33m,\u001b[0m\u001b[1;33m\u001b[0m\u001b[1;33m\u001b[0m\u001b[0m\n\u001b[0;32m    195\u001b[0m                 \u001b[0maccept_sparse\u001b[0m\u001b[1;33m=\u001b[0m\u001b[1;34m\"csr\"\u001b[0m\u001b[1;33m,\u001b[0m\u001b[1;33m\u001b[0m\u001b[1;33m\u001b[0m\u001b[0m\n\u001b[1;32m--> 196\u001b[1;33m                 \u001b[0maccept_large_sparse\u001b[0m\u001b[1;33m=\u001b[0m\u001b[1;32mFalse\u001b[0m\u001b[1;33m,\u001b[0m\u001b[1;33m\u001b[0m\u001b[1;33m\u001b[0m\u001b[0m\n\u001b[0m\u001b[0;32m    197\u001b[0m             )\n\u001b[0;32m    198\u001b[0m \u001b[1;33m\u001b[0m\u001b[0m\n",
      "\u001b[1;32mE:\\Anaconda\\envs\\tensorflow_env\\lib\\site-packages\\sklearn\\base.py\u001b[0m in \u001b[0;36m_validate_data\u001b[1;34m(self, X, y, reset, validate_separately, **check_params)\u001b[0m\n\u001b[0;32m    579\u001b[0m                 \u001b[0my\u001b[0m \u001b[1;33m=\u001b[0m \u001b[0mcheck_array\u001b[0m\u001b[1;33m(\u001b[0m\u001b[0my\u001b[0m\u001b[1;33m,\u001b[0m \u001b[1;33m**\u001b[0m\u001b[0mcheck_y_params\u001b[0m\u001b[1;33m)\u001b[0m\u001b[1;33m\u001b[0m\u001b[1;33m\u001b[0m\u001b[0m\n\u001b[0;32m    580\u001b[0m             \u001b[1;32melse\u001b[0m\u001b[1;33m:\u001b[0m\u001b[1;33m\u001b[0m\u001b[1;33m\u001b[0m\u001b[0m\n\u001b[1;32m--> 581\u001b[1;33m                 \u001b[0mX\u001b[0m\u001b[1;33m,\u001b[0m \u001b[0my\u001b[0m \u001b[1;33m=\u001b[0m \u001b[0mcheck_X_y\u001b[0m\u001b[1;33m(\u001b[0m\u001b[0mX\u001b[0m\u001b[1;33m,\u001b[0m \u001b[0my\u001b[0m\u001b[1;33m,\u001b[0m \u001b[1;33m**\u001b[0m\u001b[0mcheck_params\u001b[0m\u001b[1;33m)\u001b[0m\u001b[1;33m\u001b[0m\u001b[1;33m\u001b[0m\u001b[0m\n\u001b[0m\u001b[0;32m    582\u001b[0m             \u001b[0mout\u001b[0m \u001b[1;33m=\u001b[0m \u001b[0mX\u001b[0m\u001b[1;33m,\u001b[0m \u001b[0my\u001b[0m\u001b[1;33m\u001b[0m\u001b[1;33m\u001b[0m\u001b[0m\n\u001b[0;32m    583\u001b[0m \u001b[1;33m\u001b[0m\u001b[0m\n",
      "\u001b[1;32mE:\\Anaconda\\envs\\tensorflow_env\\lib\\site-packages\\sklearn\\utils\\validation.py\u001b[0m in \u001b[0;36mcheck_X_y\u001b[1;34m(X, y, accept_sparse, accept_large_sparse, dtype, order, copy, force_all_finite, ensure_2d, allow_nd, multi_output, ensure_min_samples, ensure_min_features, y_numeric, estimator)\u001b[0m\n\u001b[0;32m    974\u001b[0m         \u001b[0mensure_min_samples\u001b[0m\u001b[1;33m=\u001b[0m\u001b[0mensure_min_samples\u001b[0m\u001b[1;33m,\u001b[0m\u001b[1;33m\u001b[0m\u001b[1;33m\u001b[0m\u001b[0m\n\u001b[0;32m    975\u001b[0m         \u001b[0mensure_min_features\u001b[0m\u001b[1;33m=\u001b[0m\u001b[0mensure_min_features\u001b[0m\u001b[1;33m,\u001b[0m\u001b[1;33m\u001b[0m\u001b[1;33m\u001b[0m\u001b[0m\n\u001b[1;32m--> 976\u001b[1;33m         \u001b[0mestimator\u001b[0m\u001b[1;33m=\u001b[0m\u001b[0mestimator\u001b[0m\u001b[1;33m,\u001b[0m\u001b[1;33m\u001b[0m\u001b[1;33m\u001b[0m\u001b[0m\n\u001b[0m\u001b[0;32m    977\u001b[0m     )\n\u001b[0;32m    978\u001b[0m \u001b[1;33m\u001b[0m\u001b[0m\n",
      "\u001b[1;32mE:\\Anaconda\\envs\\tensorflow_env\\lib\\site-packages\\sklearn\\utils\\validation.py\u001b[0m in \u001b[0;36mcheck_array\u001b[1;34m(array, accept_sparse, accept_large_sparse, dtype, order, copy, force_all_finite, ensure_2d, allow_nd, ensure_min_samples, ensure_min_features, estimator)\u001b[0m\n\u001b[0;32m    744\u001b[0m                     \u001b[0marray\u001b[0m \u001b[1;33m=\u001b[0m \u001b[0marray\u001b[0m\u001b[1;33m.\u001b[0m\u001b[0mastype\u001b[0m\u001b[1;33m(\u001b[0m\u001b[0mdtype\u001b[0m\u001b[1;33m,\u001b[0m \u001b[0mcasting\u001b[0m\u001b[1;33m=\u001b[0m\u001b[1;34m\"unsafe\"\u001b[0m\u001b[1;33m,\u001b[0m \u001b[0mcopy\u001b[0m\u001b[1;33m=\u001b[0m\u001b[1;32mFalse\u001b[0m\u001b[1;33m)\u001b[0m\u001b[1;33m\u001b[0m\u001b[1;33m\u001b[0m\u001b[0m\n\u001b[0;32m    745\u001b[0m                 \u001b[1;32melse\u001b[0m\u001b[1;33m:\u001b[0m\u001b[1;33m\u001b[0m\u001b[1;33m\u001b[0m\u001b[0m\n\u001b[1;32m--> 746\u001b[1;33m                     \u001b[0marray\u001b[0m \u001b[1;33m=\u001b[0m \u001b[0mnp\u001b[0m\u001b[1;33m.\u001b[0m\u001b[0masarray\u001b[0m\u001b[1;33m(\u001b[0m\u001b[0marray\u001b[0m\u001b[1;33m,\u001b[0m \u001b[0morder\u001b[0m\u001b[1;33m=\u001b[0m\u001b[0morder\u001b[0m\u001b[1;33m,\u001b[0m \u001b[0mdtype\u001b[0m\u001b[1;33m=\u001b[0m\u001b[0mdtype\u001b[0m\u001b[1;33m)\u001b[0m\u001b[1;33m\u001b[0m\u001b[1;33m\u001b[0m\u001b[0m\n\u001b[0m\u001b[0;32m    747\u001b[0m             \u001b[1;32mexcept\u001b[0m \u001b[0mComplexWarning\u001b[0m \u001b[1;32mas\u001b[0m \u001b[0mcomplex_warning\u001b[0m\u001b[1;33m:\u001b[0m\u001b[1;33m\u001b[0m\u001b[1;33m\u001b[0m\u001b[0m\n\u001b[0;32m    748\u001b[0m                 raise ValueError(\n",
      "\u001b[1;32mE:\\Anaconda\\envs\\tensorflow_env\\lib\\site-packages\\pandas\\core\\series.py\u001b[0m in \u001b[0;36m__array__\u001b[1;34m(self, dtype)\u001b[0m\n\u001b[0;32m    855\u001b[0m               dtype='datetime64[ns]')\n\u001b[0;32m    856\u001b[0m         \"\"\"\n\u001b[1;32m--> 857\u001b[1;33m         \u001b[1;32mreturn\u001b[0m \u001b[0mnp\u001b[0m\u001b[1;33m.\u001b[0m\u001b[0masarray\u001b[0m\u001b[1;33m(\u001b[0m\u001b[0mself\u001b[0m\u001b[1;33m.\u001b[0m\u001b[0m_values\u001b[0m\u001b[1;33m,\u001b[0m \u001b[0mdtype\u001b[0m\u001b[1;33m)\u001b[0m\u001b[1;33m\u001b[0m\u001b[1;33m\u001b[0m\u001b[0m\n\u001b[0m\u001b[0;32m    858\u001b[0m \u001b[1;33m\u001b[0m\u001b[0m\n\u001b[0;32m    859\u001b[0m     \u001b[1;31m# ----------------------------------------------------------------------\u001b[0m\u001b[1;33m\u001b[0m\u001b[1;33m\u001b[0m\u001b[1;33m\u001b[0m\u001b[0m\n",
      "\u001b[1;31mValueError\u001b[0m: could not convert string to float: 'flashback 2015 antigun obsessed white house gives tips on how to talk about “gun control” at thanksgiving videonothing says  thanksgiving  or  family  like a room full of brain washed liberals sitting around the dinner table talking about ways to strip americans of their constitutional rights this thanksgiving the obama administration wants americans to talk about why congress won t pass more gun control   but not about obama s foreign policy failuresduring the white house press briefing press secretary josh earnest continued to press a narrative set up by gun control activists in response to the terrorist attacks in paris as people sitting around the thanksgiving table talking about these issues as they should and i m sure they will all across the country i hope that s a question that will be raised and asked by members around the table  earnest said referring to a bill supported by democrat to ban people on the nofly list from purchasing a gunearnest attributed opposition to the bill from republicans and some democrats to  fear  of the national rifle associationbut as breitbart news gun reporter awr hawkins has noted the campaign is misguided as the nofly list is imprecise a law based on that list could would block innocent individuals from exercising their second amendment right to purchase firearmsvia breitbart newsand for those who choose to take the proamerican side of the second amendment argument here s a little video you might want to share with your guestssubject'"
     ]
    }
   ],
   "source": [
    "#SVM model\n",
    "\n",
    "from sklearn import svm\n",
    "svm_model = svm.SVC()\n",
    "svm_model.fit(x_train, y_train)\n"
   ]
  },
  {
   "cell_type": "code",
   "execution_count": null,
   "id": "87c8a0b2",
   "metadata": {},
   "outputs": [],
   "source": [
    "svm_prediction = svm_model.predict(x_test)\n"
   ]
  },
  {
   "cell_type": "code",
   "execution_count": null,
   "id": "1295abb2",
   "metadata": {},
   "outputs": [
    {
     "data": {
      "text/plain": [
       "0.9928730512249443"
      ]
     },
     "execution_count": 77,
     "metadata": {},
     "output_type": "execute_result"
    }
   ],
   "source": [
    "np.mean(svm_prediction == y_test)"
   ]
  },
  {
   "cell_type": "markdown",
   "id": "47de2555",
   "metadata": {},
   "source": [
    "# LR"
   ]
  },
  {
   "cell_type": "code",
   "execution_count": null,
   "id": "51d2c883",
   "metadata": {},
   "outputs": [],
   "source": [
    "#Logistic regression model"
   ]
  },
  {
   "cell_type": "code",
   "execution_count": null,
   "id": "ec3715a3",
   "metadata": {},
   "outputs": [],
   "source": [
    "from sklearn.linear_model import LogisticRegression\n",
    "\n",
    "LR_model = LogisticRegression(random_state=1).fit(x_train, y_train)\n",
    "LR_prediction = LR_model.predict(x_test)\n"
   ]
  },
  {
   "cell_type": "code",
   "execution_count": null,
   "id": "23a5ece5",
   "metadata": {},
   "outputs": [
    {
     "data": {
      "text/plain": [
       "0.9874164810690423"
      ]
     },
     "execution_count": 80,
     "metadata": {},
     "output_type": "execute_result"
    }
   ],
   "source": [
    "np.mean(LR_prediction == y_test)"
   ]
  },
  {
   "cell_type": "markdown",
   "id": "dad017b2",
   "metadata": {},
   "source": [
    "# CNN"
   ]
  },
  {
   "cell_type": "markdown",
   "id": "b6b4b1a5",
   "metadata": {},
   "source": [
    "For the CNN, various architectures can be used. After looking around online, we build upon the architecture described in section 2 of [Best practices document classification deep learning](https://machinelearningmastery.com/best-practices-document-classification-deep-learning/)"
   ]
  },
  {
   "cell_type": "code",
   "execution_count": 4,
   "id": "9fc0ad90",
   "metadata": {},
   "outputs": [],
   "source": [
    "embeddings_dictionary = {}\n",
    "\n",
    "##embedding_test = {}\n",
    "#count = 0\n",
    "\n",
    "f = open(\"./Data/glove.6b.100d.txt\", encoding=\"utf8\")\n",
    "\n",
    "\n",
    "for line in f:\n",
    "    #if count <= 5:\n",
    "    #    print(f\"LINE: {line}\")\n",
    "\n",
    "    values = line.split()\n",
    "    #if count <= 5:\n",
    "    #    print(f\"values: {values}\")\n",
    "\n",
    "    word = values[0]\n",
    "    #if count <= 5:\n",
    "    #    print(f\"WORD: {word}\")\n",
    "\n",
    "    coefficients = np.asarray(values[1:], dtype='float32')\n",
    "    #if count <= 5:\n",
    "    #    print(f\"coefficients: {coefficients}\")\n",
    "    #    embedding_test[word] = coefficients\n",
    "\n",
    "    embeddings_dictionary[word] = coefficients\n",
    "\n",
    "    #count += 1\n",
    "f.close()"
   ]
  },
  {
   "cell_type": "markdown",
   "id": "ec3b9bcb",
   "metadata": {},
   "source": [
    "# Some sources regarding CNN\n",
    "\n",
    "1. [Text Classification using CNN](https://www.kaggle.com/au1206/text-classification-using-cnn)\n",
    "2. [Word Embeddings for movie review sentiment](https://machinelearningmastery.com/develop-word-embedding-model-predicting-movie-review-sentiment/)\n",
    "3. [Text Classification using CNN](https://12ft.io/proxy?q=http://medium.com/voice-tech-podcast/text-classification-using-cnn-9ade8155dfb9)"
   ]
  },
  {
   "cell_type": "markdown",
   "id": "42080282",
   "metadata": {},
   "source": [
    "14.52"
   ]
  },
  {
   "cell_type": "code",
   "execution_count": 5,
   "id": "51207240",
   "metadata": {},
   "outputs": [],
   "source": [
    "# set parameters:\n",
    "vocab_size = 1000\n",
    "maxlen_article = 1000\n",
    "batch_size = 32\n",
    "embeddings_dim = 10\n",
    "filters = 128\n",
    "kernels = 3\n",
    "hidden_dims = 250\n",
    "epochs = 25\n",
    "\n",
    "tokenizer = Tokenizer(num_words = vocab_size)\n",
    "tokenizer.fit_on_texts(x_train)\n",
    "\n",
    "x_train_matrix = tokenizer.texts_to_matrix(x_train)\n",
    "x_test_matrix = tokenizer.texts_to_matrix(x_test)\n",
    "\n",
    "x_train_matrix = pad_sequences(x_train_matrix, maxlen= maxlen_article)\n",
    "x_test_matrix = pad_sequences(x_test_matrix, maxlen= maxlen_article)"
   ]
  },
  {
   "cell_type": "code",
   "execution_count": 6,
   "id": "185904d4",
   "metadata": {},
   "outputs": [],
   "source": [
    "embedding_matrix = np.zeros((vocab_size, 100))\n",
    "\n",
    "for word, index in tokenizer.word_index.items():\n",
    "    \n",
    "    if index > vocab_size-1:\n",
    "        break\n",
    "\n",
    "    else:\n",
    "        embedding_vector = embeddings_dictionary.get(word)\n",
    "        if embedding_vector is not None:\n",
    "            embedding_matrix[index] = embedding_vector"
   ]
  },
  {
   "cell_type": "code",
   "execution_count": 30,
   "id": "6b30b253",
   "metadata": {},
   "outputs": [],
   "source": [
    "model = Sequential()\n"
   ]
  },
  {
   "cell_type": "code",
   "execution_count": 31,
   "id": "225181ec",
   "metadata": {},
   "outputs": [
    {
     "name": "stdout",
     "output_type": "stream",
     "text": [
      "Model: \"sequential_6\"\n",
      "_________________________________________________________________\n",
      "Layer (type)                 Output Shape              Param #   \n",
      "=================================================================\n",
      "embedding_6 (Embedding)      (None, 1000, 100)         100000    \n",
      "_________________________________________________________________\n",
      "conv1d_6 (Conv1D)            (None, 1000, 128)         38528     \n",
      "_________________________________________________________________\n",
      "max_pooling1d_6 (MaxPooling1 (None, 500, 128)          0         \n",
      "_________________________________________________________________\n",
      "flatten_3 (Flatten)          (None, 64000)             0         \n",
      "_________________________________________________________________\n",
      "dense_5 (Dense)              (None, 10)                640010    \n",
      "=================================================================\n",
      "Total params: 778,538\n",
      "Trainable params: 678,538\n",
      "Non-trainable params: 100,000\n",
      "_________________________________________________________________\n"
     ]
    }
   ],
   "source": [
    "model.add(Embedding(vocab_size, 100, input_length = maxlen_article, weights=[embedding_matrix], trainable=False))\n",
    "model.add(Conv1D(filters, kernels, padding='same', activation='relu'))\n",
    "model.add(MaxPooling1D(padding='same'))\n",
    "model.add(Flatten())\n",
    "model.add(Dense(10, activation='relu'))\n",
    "\n",
    "model.compile(loss = 'binary_crossentropy', optimizer='adam', metrics=['accuracy'])\n",
    "\n",
    "model.summary()"
   ]
  },
  {
   "cell_type": "code",
   "execution_count": null,
   "id": "eafc219a",
   "metadata": {},
   "outputs": [],
   "source": [
    "model.fit(x_train_matrix, y_train, batch_size=batch_size, epochs=epochs, validation_data=(x_test, y_test))"
   ]
  },
  {
   "cell_type": "code",
   "execution_count": 53,
   "id": "01381ced",
   "metadata": {},
   "outputs": [
    {
     "data": {
      "text/plain": [
       "(35918, 1000)"
      ]
     },
     "execution_count": 53,
     "metadata": {},
     "output_type": "execute_result"
    }
   ],
   "source": [
    "x_train_matrix.shape"
   ]
  },
  {
   "cell_type": "code",
   "execution_count": 13,
   "id": "db7fcd78",
   "metadata": {},
   "outputs": [
    {
     "data": {
      "text/plain": [
       "(35918, 1000)"
      ]
     },
     "execution_count": 13,
     "metadata": {},
     "output_type": "execute_result"
    }
   ],
   "source": [
    "x_train_matrix.shape"
   ]
  },
  {
   "cell_type": "code",
   "execution_count": 55,
   "id": "9f5f369d",
   "metadata": {},
   "outputs": [
    {
     "data": {
      "text/plain": [
       "(35918,)"
      ]
     },
     "execution_count": 55,
     "metadata": {},
     "output_type": "execute_result"
    }
   ],
   "source": [
    "y_train.shape"
   ]
  },
  {
   "cell_type": "code",
   "execution_count": 56,
   "id": "d7182a60",
   "metadata": {},
   "outputs": [
    {
     "data": {
      "text/plain": [
       "(8980,)"
      ]
     },
     "execution_count": 56,
     "metadata": {},
     "output_type": "execute_result"
    }
   ],
   "source": [
    "y_test.shape"
   ]
  },
  {
   "cell_type": "code",
   "execution_count": 31,
   "id": "e3b85e57",
   "metadata": {},
   "outputs": [],
   "source": [
    "# make the max word length to be constant\n",
    "MAX_WORDS = 10000\n",
    "MAX_SEQUENCE_LENGTH = 1000\n",
    "# the percentage of train test split to be applied\n",
    "VALIDATION_SPLIT = 0.20\n",
    "# the dimension of vectors to be used\n",
    "EMBEDDING_DIM = 100\n",
    "# filter sizes of the different conv layers \n",
    "filter_sizes = [3,4,5]\n",
    "num_filters = 512\n",
    "embedding_dim = 100\n",
    "# dropout probability\n",
    "drop = 0.5\n",
    "batch_size = 512\n",
    "epochs = 10"
   ]
  },
  {
   "cell_type": "code",
   "execution_count": 8,
   "id": "f46f4a35",
   "metadata": {},
   "outputs": [],
   "source": [
    "tokenizer  = Tokenizer(num_words = MAX_WORDS)\n",
    "tokenizer.fit_on_texts(X)\n",
    "sequences =  tokenizer.texts_to_sequences(X)\n",
    "\n",
    "word_index = tokenizer.word_index\n",
    "data = pad_sequences(sequences, maxlen=MAX_SEQUENCE_LENGTH)"
   ]
  },
  {
   "cell_type": "code",
   "execution_count": 9,
   "id": "3d89bdb9",
   "metadata": {},
   "outputs": [],
   "source": [
    "x_train, x_test, y_train, y_test = train_test_split(data, Y, test_size= 0.2, random_state= 1, shuffle=True)"
   ]
  },
  {
   "cell_type": "code",
   "execution_count": 10,
   "id": "b70ce9a2",
   "metadata": {},
   "outputs": [],
   "source": [
    "embedding_matrix = np.zeros((len(word_index) + 1, EMBEDDING_DIM))\n",
    "for word, i in word_index.items():\n",
    "    embedding_vector = embeddings_dictionary.get(word)\n",
    "    if embedding_vector is not None:\n",
    "        # words not found in embedding index will be all-zeros.\n",
    "        embedding_matrix[i] = embedding_vector"
   ]
  },
  {
   "cell_type": "code",
   "execution_count": 32,
   "id": "590b75cc",
   "metadata": {},
   "outputs": [
    {
     "name": "stdout",
     "output_type": "stream",
     "text": [
      "Model: \"sequential_2\"\n",
      "_________________________________________________________________\n",
      "Layer (type)                 Output Shape              Param #   \n",
      "=================================================================\n",
      "embedding_2 (Embedding)      (None, 1000, 100)         27669000  \n",
      "_________________________________________________________________\n",
      "conv1d_2 (Conv1D)            (None, 993, 32)           25632     \n",
      "_________________________________________________________________\n",
      "max_pooling1d_2 (MaxPooling1 (None, 496, 32)           0         \n",
      "_________________________________________________________________\n",
      "flatten_2 (Flatten)          (None, 15872)             0         \n",
      "_________________________________________________________________\n",
      "dense_4 (Dense)              (None, 10)                158730    \n",
      "_________________________________________________________________\n",
      "dense_5 (Dense)              (None, 1)                 11        \n",
      "=================================================================\n",
      "Total params: 27,853,373\n",
      "Trainable params: 184,373\n",
      "Non-trainable params: 27,669,000\n",
      "_________________________________________________________________\n",
      "None\n"
     ]
    }
   ],
   "source": [
    "\n",
    "# define model\n",
    "model = Sequential()\n",
    "model.add(Embedding(len(word_index) + 1, 100, weights=[embedding_matrix], input_length=MAX_SEQUENCE_LENGTH, trainable=False))\n",
    "model.add(Conv1D(filters=32, kernel_size=8, activation='relu', kernel_regularizer =tf.keras.regularizers.l2( l=0.01)))\n",
    "model.add(MaxPooling1D(pool_size=2))\n",
    "model.add(Flatten())\n",
    "model.add(Dense(10, activation='relu'))\n",
    "model.add(Dense(1, activation='sigmoid'))\n",
    "print(model.summary())"
   ]
  },
  {
   "cell_type": "code",
   "execution_count": 33,
   "id": "fbcbdb62",
   "metadata": {},
   "outputs": [
    {
     "name": "stdout",
     "output_type": "stream",
     "text": [
      "Epoch 1/10\n",
      "   2/1123 [..............................] - ETA: 2:10 - loss: 2.2478 - accuracy: 0.6094WARNING:tensorflow:Callbacks method `on_train_batch_end` is slow compared to the batch time (batch time: 0.0380s vs `on_train_batch_end` time: 0.1946s). Check your callbacks.\n",
      "1123/1123 [==============================] - 39s 35ms/step - loss: 0.4481 - accuracy: 0.8942 - val_loss: 0.2905 - val_accuracy: 0.9528\n",
      "Epoch 2/10\n",
      "1123/1123 [==============================] - 39s 35ms/step - loss: 0.1301 - accuracy: 0.9712 - val_loss: 0.0939 - val_accuracy: 0.9839\n",
      "Epoch 3/10\n",
      "1123/1123 [==============================] - 39s 35ms/step - loss: 0.0816 - accuracy: 0.9845 - val_loss: 0.0850 - val_accuracy: 0.9843\n",
      "Epoch 4/10\n",
      "1123/1123 [==============================] - 40s 35ms/step - loss: 0.0674 - accuracy: 0.9875 - val_loss: 0.0655 - val_accuracy: 0.9873\n",
      "Epoch 5/10\n",
      "1123/1123 [==============================] - 39s 35ms/step - loss: 0.0619 - accuracy: 0.9885 - val_loss: 0.1795 - val_accuracy: 0.9512\n",
      "Epoch 6/10\n",
      "1123/1123 [==============================] - 39s 35ms/step - loss: 0.0571 - accuracy: 0.9905 - val_loss: 0.0684 - val_accuracy: 0.9878\n",
      "Epoch 7/10\n",
      "1123/1123 [==============================] - 40s 35ms/step - loss: 0.0553 - accuracy: 0.9910 - val_loss: 0.0691 - val_accuracy: 0.9866\n",
      "Epoch 8/10\n",
      "1123/1123 [==============================] - 39s 35ms/step - loss: 0.0554 - accuracy: 0.9910 - val_loss: 0.1650 - val_accuracy: 0.9605\n",
      "Epoch 9/10\n",
      "1123/1123 [==============================] - 38s 34ms/step - loss: 0.0539 - accuracy: 0.9911 - val_loss: 0.0715 - val_accuracy: 0.9879\n",
      "Epoch 10/10\n",
      "1123/1123 [==============================] - 38s 34ms/step - loss: 0.0485 - accuracy: 0.9928 - val_loss: 0.1077 - val_accuracy: 0.9772\n"
     ]
    },
    {
     "data": {
      "text/plain": [
       "<tensorflow.python.keras.callbacks.History at 0x262c28efdc8>"
      ]
     },
     "execution_count": 33,
     "metadata": {},
     "output_type": "execute_result"
    }
   ],
   "source": [
    "# compile network\n",
    "model.compile(loss='binary_crossentropy', optimizer='adam', metrics=['accuracy'])\n",
    "\n",
    "# We can visualize the model results with tensorflows tensorboard\n",
    "logdir = os.path.join(\"logs\", datetime.now().strftime(\"%Y%m%d-%H%M%S\"))\n",
    "tensorboard_callback = tf.keras.callbacks.TensorBoard(logdir, histogram_freq=1)\n",
    "earlystop = tf.keras.callbacks.EarlyStopping(monitor='loss', patience=3)\n",
    "\n",
    "\n",
    "# fit network\n",
    "model.fit(x_train, y_train, epochs=10, verbose=1, validation_data=(x_test, y_test), callbacks=[tensorboard_callback, earlystop])"
   ]
  },
  {
   "cell_type": "code",
   "execution_count": null,
   "id": "8502a568",
   "metadata": {},
   "outputs": [],
   "source": [
    "%load_ext tensorboard\n",
    "%tensorboard --logdir logs\n"
   ]
  },
  {
   "cell_type": "markdown",
   "id": "4b679300",
   "metadata": {},
   "source": [
    "%tensorboard --logdir {logs_base_dir}  --host localhost"
   ]
  },
  {
   "cell_type": "code",
   "execution_count": 39,
   "id": "25467fe1",
   "metadata": {},
   "outputs": [
    {
     "name": "stdout",
     "output_type": "stream",
     "text": [
      "Known TensorBoard instances:\n",
      "  - port 6006: logdir {logs_base_dir} (started 0:16:28 ago; pid 23488)\n",
      "  - port 6006: logdir logs (started 0:26:32 ago; pid 8856)\n"
     ]
    }
   ],
   "source": [
    "from tensorboard import notebook\n",
    "notebook.list() # View open TensorBoard instances"
   ]
  },
  {
   "cell_type": "code",
   "execution_count": 41,
   "id": "42abd26b",
   "metadata": {},
   "outputs": [
    {
     "name": "stdout",
     "output_type": "stream",
     "text": [
      "Selecting TensorBoard with logdir {logs_base_dir} (started 0:16:36 ago; port 6006, pid 23488).\n"
     ]
    },
    {
     "data": {
      "text/html": [
       "\n",
       "      <iframe id=\"tensorboard-frame-62a37485afe154f9\" width=\"100%\" height=\"1000\" frameborder=\"0\">\n",
       "      </iframe>\n",
       "      <script>\n",
       "        (function() {\n",
       "          const frame = document.getElementById(\"tensorboard-frame-62a37485afe154f9\");\n",
       "          const url = new URL(\"http://localhost\");\n",
       "          const port = 6006;\n",
       "          if (port) {\n",
       "            url.port = port;\n",
       "          }\n",
       "          frame.src = url;\n",
       "        })();\n",
       "      </script>\n",
       "    "
      ],
      "text/plain": [
       "<IPython.core.display.HTML object>"
      ]
     },
     "metadata": {},
     "output_type": "display_data"
    }
   ],
   "source": [
    "notebook.display(port=6006, height=1000) "
   ]
  }
 ],
 "metadata": {
  "kernelspec": {
   "display_name": "Python 3",
   "language": "python",
   "name": "python3"
  },
  "language_info": {
   "codemirror_mode": {
    "name": "ipython",
    "version": 3
   },
   "file_extension": ".py",
   "mimetype": "text/x-python",
   "name": "python",
   "nbconvert_exporter": "python",
   "pygments_lexer": "ipython3",
   "version": "3.7.11"
  }
 },
 "nbformat": 4,
 "nbformat_minor": 5
}
