{
 "cells": [
  {
   "cell_type": "code",
   "execution_count": 44,
   "id": "f68338ca",
   "metadata": {},
   "outputs": [],
   "source": [
    "import numpy as np\n",
    "import pandas as pd\n",
    "import string\n",
    "import matplotlib.pyplot as plt #for visualizations\n",
    "import seaborn as sns #for visualizations\n",
    "\n",
    "\n",
    "from datetime import datetime \n",
    "from nltk.corpus import stopwords # to remove the stopwrods\n",
    "from nltk.tokenize import word_tokenize #for tokenization\n",
    "from nltk.stem import WordNetLemmatizer # for lemmitization\n",
    "\n",
    "from sklearn.model_selection import train_test_split #to divide the corpus in train and test splits \n",
    "from sklearn.metrics import confusion_matrix, classification_report, f1_score, accuracy_score #For analysis\n",
    "from tqdm.notebook import tqdm\n"
   ]
  },
  {
   "cell_type": "code",
   "execution_count": 73,
   "id": "05b82fce",
   "metadata": {},
   "outputs": [],
   "source": [
    "#https://www.kaggle.com/rodolfoluna/fake-news-detector\n",
    "#https://12ft.io/proxy?q=http://towardsdatascience.com/text-classification-in-python-dd95d264c802"
   ]
  },
  {
   "cell_type": "code",
   "execution_count": 46,
   "id": "5712d0ad",
   "metadata": {},
   "outputs": [],
   "source": [
    "# Data is provided in two datasets, so we need to combine them\n",
    "\n",
    "fake_news = pd.read_csv('Fake.csv')\n",
    "fake_news['Fake'] = 1\n",
    "\n",
    "# Load real news\n",
    "real_news = pd.read_csv('True.csv')\n",
    "real_news['Fake'] = 0\n",
    "\n",
    "# Join the two dataframes\n",
    "news = pd.concat([fake_news, real_news])"
   ]
  },
  {
   "cell_type": "code",
   "execution_count": 47,
   "id": "13ee5fda",
   "metadata": {},
   "outputs": [
    {
     "data": {
      "text/html": [
       "<div>\n",
       "<style scoped>\n",
       "    .dataframe tbody tr th:only-of-type {\n",
       "        vertical-align: middle;\n",
       "    }\n",
       "\n",
       "    .dataframe tbody tr th {\n",
       "        vertical-align: top;\n",
       "    }\n",
       "\n",
       "    .dataframe thead th {\n",
       "        text-align: right;\n",
       "    }\n",
       "</style>\n",
       "<table border=\"1\" class=\"dataframe\">\n",
       "  <thead>\n",
       "    <tr style=\"text-align: right;\">\n",
       "      <th></th>\n",
       "      <th>title</th>\n",
       "      <th>text</th>\n",
       "      <th>subject</th>\n",
       "      <th>date</th>\n",
       "      <th>Fake</th>\n",
       "    </tr>\n",
       "  </thead>\n",
       "  <tbody>\n",
       "    <tr>\n",
       "      <th>0</th>\n",
       "      <td>Donald Trump Sends Out Embarrassing New Year’...</td>\n",
       "      <td>Donald Trump just couldn t wish all Americans ...</td>\n",
       "      <td>News</td>\n",
       "      <td>December 31, 2017</td>\n",
       "      <td>1</td>\n",
       "    </tr>\n",
       "    <tr>\n",
       "      <th>1</th>\n",
       "      <td>Drunk Bragging Trump Staffer Started Russian ...</td>\n",
       "      <td>House Intelligence Committee Chairman Devin Nu...</td>\n",
       "      <td>News</td>\n",
       "      <td>December 31, 2017</td>\n",
       "      <td>1</td>\n",
       "    </tr>\n",
       "    <tr>\n",
       "      <th>2</th>\n",
       "      <td>Sheriff David Clarke Becomes An Internet Joke...</td>\n",
       "      <td>On Friday, it was revealed that former Milwauk...</td>\n",
       "      <td>News</td>\n",
       "      <td>December 30, 2017</td>\n",
       "      <td>1</td>\n",
       "    </tr>\n",
       "    <tr>\n",
       "      <th>3</th>\n",
       "      <td>Trump Is So Obsessed He Even Has Obama’s Name...</td>\n",
       "      <td>On Christmas day, Donald Trump announced that ...</td>\n",
       "      <td>News</td>\n",
       "      <td>December 29, 2017</td>\n",
       "      <td>1</td>\n",
       "    </tr>\n",
       "    <tr>\n",
       "      <th>4</th>\n",
       "      <td>Pope Francis Just Called Out Donald Trump Dur...</td>\n",
       "      <td>Pope Francis used his annual Christmas Day mes...</td>\n",
       "      <td>News</td>\n",
       "      <td>December 25, 2017</td>\n",
       "      <td>1</td>\n",
       "    </tr>\n",
       "  </tbody>\n",
       "</table>\n",
       "</div>"
      ],
      "text/plain": [
       "                                               title  \\\n",
       "0   Donald Trump Sends Out Embarrassing New Year’...   \n",
       "1   Drunk Bragging Trump Staffer Started Russian ...   \n",
       "2   Sheriff David Clarke Becomes An Internet Joke...   \n",
       "3   Trump Is So Obsessed He Even Has Obama’s Name...   \n",
       "4   Pope Francis Just Called Out Donald Trump Dur...   \n",
       "\n",
       "                                                text subject  \\\n",
       "0  Donald Trump just couldn t wish all Americans ...    News   \n",
       "1  House Intelligence Committee Chairman Devin Nu...    News   \n",
       "2  On Friday, it was revealed that former Milwauk...    News   \n",
       "3  On Christmas day, Donald Trump announced that ...    News   \n",
       "4  Pope Francis used his annual Christmas Day mes...    News   \n",
       "\n",
       "                date  Fake  \n",
       "0  December 31, 2017     1  \n",
       "1  December 31, 2017     1  \n",
       "2  December 30, 2017     1  \n",
       "3  December 29, 2017     1  \n",
       "4  December 25, 2017     1  "
      ]
     },
     "execution_count": 47,
     "metadata": {},
     "output_type": "execute_result"
    }
   ],
   "source": [
    "news.head()"
   ]
  },
  {
   "cell_type": "code",
   "execution_count": 48,
   "id": "ba96898e",
   "metadata": {},
   "outputs": [
    {
     "name": "stdout",
     "output_type": "stream",
     "text": [
      "<class 'pandas.core.frame.DataFrame'>\n",
      "Int64Index: 44898 entries, 0 to 21416\n",
      "Data columns (total 5 columns):\n",
      " #   Column   Non-Null Count  Dtype \n",
      "---  ------   --------------  ----- \n",
      " 0   title    44898 non-null  object\n",
      " 1   text     44898 non-null  object\n",
      " 2   subject  44898 non-null  object\n",
      " 3   date     44898 non-null  object\n",
      " 4   Fake     44898 non-null  int64 \n",
      "dtypes: int64(1), object(4)\n",
      "memory usage: 2.1+ MB\n"
     ]
    }
   ],
   "source": [
    "news.info()"
   ]
  },
  {
   "cell_type": "code",
   "execution_count": 49,
   "id": "dd8b76ad",
   "metadata": {},
   "outputs": [
    {
     "data": {
      "text/html": [
       "<div>\n",
       "<style scoped>\n",
       "    .dataframe tbody tr th:only-of-type {\n",
       "        vertical-align: middle;\n",
       "    }\n",
       "\n",
       "    .dataframe tbody tr th {\n",
       "        vertical-align: top;\n",
       "    }\n",
       "\n",
       "    .dataframe thead th {\n",
       "        text-align: right;\n",
       "    }\n",
       "</style>\n",
       "<table border=\"1\" class=\"dataframe\">\n",
       "  <thead>\n",
       "    <tr style=\"text-align: right;\">\n",
       "      <th></th>\n",
       "      <th>Fake</th>\n",
       "    </tr>\n",
       "  </thead>\n",
       "  <tbody>\n",
       "    <tr>\n",
       "      <th>count</th>\n",
       "      <td>44898.000000</td>\n",
       "    </tr>\n",
       "    <tr>\n",
       "      <th>mean</th>\n",
       "      <td>0.522985</td>\n",
       "    </tr>\n",
       "    <tr>\n",
       "      <th>std</th>\n",
       "      <td>0.499477</td>\n",
       "    </tr>\n",
       "    <tr>\n",
       "      <th>min</th>\n",
       "      <td>0.000000</td>\n",
       "    </tr>\n",
       "    <tr>\n",
       "      <th>25%</th>\n",
       "      <td>0.000000</td>\n",
       "    </tr>\n",
       "    <tr>\n",
       "      <th>50%</th>\n",
       "      <td>1.000000</td>\n",
       "    </tr>\n",
       "    <tr>\n",
       "      <th>75%</th>\n",
       "      <td>1.000000</td>\n",
       "    </tr>\n",
       "    <tr>\n",
       "      <th>max</th>\n",
       "      <td>1.000000</td>\n",
       "    </tr>\n",
       "  </tbody>\n",
       "</table>\n",
       "</div>"
      ],
      "text/plain": [
       "               Fake\n",
       "count  44898.000000\n",
       "mean       0.522985\n",
       "std        0.499477\n",
       "min        0.000000\n",
       "25%        0.000000\n",
       "50%        1.000000\n",
       "75%        1.000000\n",
       "max        1.000000"
      ]
     },
     "execution_count": 49,
     "metadata": {},
     "output_type": "execute_result"
    }
   ],
   "source": [
    "news.describe()"
   ]
  },
  {
   "cell_type": "code",
   "execution_count": 50,
   "id": "6c045e3d",
   "metadata": {},
   "outputs": [
    {
     "data": {
      "text/plain": [
       "title      0\n",
       "text       0\n",
       "subject    0\n",
       "date       0\n",
       "Fake       0\n",
       "dtype: int64"
      ]
     },
     "execution_count": 50,
     "metadata": {},
     "output_type": "execute_result"
    }
   ],
   "source": [
    "news.isna().sum()"
   ]
  },
  {
   "cell_type": "markdown",
   "id": "9ba5156e",
   "metadata": {},
   "source": [
    "# Visualise the data"
   ]
  },
  {
   "cell_type": "code",
   "execution_count": 51,
   "id": "bb8ee9f9",
   "metadata": {},
   "outputs": [
    {
     "name": "stdout",
     "output_type": "stream",
     "text": [
      "Count of fake: \n",
      "1    23481\n",
      "0    21417\n",
      "Name: Fake, dtype: int64\n"
     ]
    },
    {
     "data": {
      "image/png": "[encoded data removed]",
      "text/plain": [
       "<Figure size 432x288 with 1 Axes>"
      ]
     },
     "metadata": {
      "needs_background": "light"
     },
     "output_type": "display_data"
    }
   ],
   "source": [
    "sns.countplot(x='Fake', data=news)\n",
    "print(\"Count of fake: \\n{}\".format(news['Fake'].value_counts()))"
   ]
  },
  {
   "cell_type": "markdown",
   "id": "f227bfb0",
   "metadata": {},
   "source": [
    "# Feature Engineering"
   ]
  },
  {
   "cell_type": "code",
   "execution_count": 52,
   "id": "597a844a",
   "metadata": {},
   "outputs": [
    {
     "data": {
      "text/html": [
       "<div>\n",
       "<style scoped>\n",
       "    .dataframe tbody tr th:only-of-type {\n",
       "        vertical-align: middle;\n",
       "    }\n",
       "\n",
       "    .dataframe tbody tr th {\n",
       "        vertical-align: top;\n",
       "    }\n",
       "\n",
       "    .dataframe thead th {\n",
       "        text-align: right;\n",
       "    }\n",
       "</style>\n",
       "<table border=\"1\" class=\"dataframe\">\n",
       "  <thead>\n",
       "    <tr style=\"text-align: right;\">\n",
       "      <th></th>\n",
       "      <th>title</th>\n",
       "      <th>text</th>\n",
       "      <th>subject</th>\n",
       "      <th>date</th>\n",
       "      <th>Fake</th>\n",
       "      <th>Year</th>\n",
       "      <th>Month</th>\n",
       "    </tr>\n",
       "  </thead>\n",
       "  <tbody>\n",
       "    <tr>\n",
       "      <th>0</th>\n",
       "      <td>Donald Trump Sends Out Embarrassing New Year’...</td>\n",
       "      <td>Donald Trump just couldn t wish all Americans ...</td>\n",
       "      <td>News</td>\n",
       "      <td>2017-12-31</td>\n",
       "      <td>1</td>\n",
       "      <td>2017.0</td>\n",
       "      <td>12.0</td>\n",
       "    </tr>\n",
       "    <tr>\n",
       "      <th>1</th>\n",
       "      <td>Drunk Bragging Trump Staffer Started Russian ...</td>\n",
       "      <td>House Intelligence Committee Chairman Devin Nu...</td>\n",
       "      <td>News</td>\n",
       "      <td>2017-12-31</td>\n",
       "      <td>1</td>\n",
       "      <td>2017.0</td>\n",
       "      <td>12.0</td>\n",
       "    </tr>\n",
       "    <tr>\n",
       "      <th>2</th>\n",
       "      <td>Sheriff David Clarke Becomes An Internet Joke...</td>\n",
       "      <td>On Friday, it was revealed that former Milwauk...</td>\n",
       "      <td>News</td>\n",
       "      <td>2017-12-30</td>\n",
       "      <td>1</td>\n",
       "      <td>2017.0</td>\n",
       "      <td>12.0</td>\n",
       "    </tr>\n",
       "    <tr>\n",
       "      <th>3</th>\n",
       "      <td>Trump Is So Obsessed He Even Has Obama’s Name...</td>\n",
       "      <td>On Christmas day, Donald Trump announced that ...</td>\n",
       "      <td>News</td>\n",
       "      <td>2017-12-29</td>\n",
       "      <td>1</td>\n",
       "      <td>2017.0</td>\n",
       "      <td>12.0</td>\n",
       "    </tr>\n",
       "    <tr>\n",
       "      <th>4</th>\n",
       "      <td>Pope Francis Just Called Out Donald Trump Dur...</td>\n",
       "      <td>Pope Francis used his annual Christmas Day mes...</td>\n",
       "      <td>News</td>\n",
       "      <td>2017-12-25</td>\n",
       "      <td>1</td>\n",
       "      <td>2017.0</td>\n",
       "      <td>12.0</td>\n",
       "    </tr>\n",
       "  </tbody>\n",
       "</table>\n",
       "</div>"
      ],
      "text/plain": [
       "                                               title  \\\n",
       "0   Donald Trump Sends Out Embarrassing New Year’...   \n",
       "1   Drunk Bragging Trump Staffer Started Russian ...   \n",
       "2   Sheriff David Clarke Becomes An Internet Joke...   \n",
       "3   Trump Is So Obsessed He Even Has Obama’s Name...   \n",
       "4   Pope Francis Just Called Out Donald Trump Dur...   \n",
       "\n",
       "                                                text subject       date  Fake  \\\n",
       "0  Donald Trump just couldn t wish all Americans ...    News 2017-12-31     1   \n",
       "1  House Intelligence Committee Chairman Devin Nu...    News 2017-12-31     1   \n",
       "2  On Friday, it was revealed that former Milwauk...    News 2017-12-30     1   \n",
       "3  On Christmas day, Donald Trump announced that ...    News 2017-12-29     1   \n",
       "4  Pope Francis used his annual Christmas Day mes...    News 2017-12-25     1   \n",
       "\n",
       "     Year  Month  \n",
       "0  2017.0   12.0  \n",
       "1  2017.0   12.0  \n",
       "2  2017.0   12.0  \n",
       "3  2017.0   12.0  \n",
       "4  2017.0   12.0  "
      ]
     },
     "execution_count": 52,
     "metadata": {},
     "output_type": "execute_result"
    }
   ],
   "source": [
    "news['date'] = pd.to_datetime(news['date'], errors='coerce')\n",
    "news['Year'] = news['date'].dt.year\n",
    "news['Month'] = news['date'].dt.month\n",
    "\n",
    "news.head()"
   ]
  },
  {
   "cell_type": "code",
   "execution_count": 53,
   "id": "43b2e50f",
   "metadata": {},
   "outputs": [
    {
     "data": {
      "text/plain": [
       "<AxesSubplot:xlabel='Year', ylabel='count'>"
      ]
     },
     "execution_count": 53,
     "metadata": {},
     "output_type": "execute_result"
    },
    {
     "data": {
      "image/png": "[encoded data removed]",
      "text/plain": [
       "<Figure size 432x288 with 1 Axes>"
      ]
     },
     "metadata": {
      "needs_background": "light"
     },
     "output_type": "display_data"
    }
   ],
   "source": [
    "# Check the impact of Year on the target variable\n",
    "sns.countplot(x='Year', data=news, hue='Fake')"
   ]
  },
  {
   "cell_type": "code",
   "execution_count": 54,
   "id": "8c8e0359",
   "metadata": {},
   "outputs": [
    {
     "data": {
      "text/plain": [
       "<AxesSubplot:xlabel='Month', ylabel='count'>"
      ]
     },
     "execution_count": 54,
     "metadata": {},
     "output_type": "execute_result"
    },
    {
     "data": {
      "image/png": "[encoded data removed]",
      "text/plain": [
       "<Figure size 432x288 with 1 Axes>"
      ]
     },
     "metadata": {
      "needs_background": "light"
     },
     "output_type": "display_data"
    }
   ],
   "source": [
    "# Check the impact of Month on the target variable\n",
    "sns.countplot(x='Month', data=news, hue='Fake')"
   ]
  },
  {
   "cell_type": "code",
   "execution_count": 55,
   "id": "7c36bd8d",
   "metadata": {},
   "outputs": [],
   "source": [
    "#We want all information of an article, which would be the title, text and subject\n",
    "news['Article'] = news['title']+\"\"+news['text']+\"\"+['subject']"
   ]
  },
  {
   "cell_type": "code",
   "execution_count": 56,
   "id": "31880088",
   "metadata": {},
   "outputs": [],
   "source": [
    "final_news = news[['Article', 'Fake']]"
   ]
  },
  {
   "cell_type": "markdown",
   "id": "6ddb0832",
   "metadata": {},
   "source": [
    "# Prepare Data"
   ]
  },
  {
   "cell_type": "markdown",
   "id": "bea505d7",
   "metadata": {},
   "source": [
    "## Lower and remove punctutation"
   ]
  },
  {
   "cell_type": "code",
   "execution_count": 57,
   "id": "0d90c923",
   "metadata": {},
   "outputs": [
    {
     "name": "stderr",
     "output_type": "stream",
     "text": [
      "<ipython-input-57-37b1688045ff>:1: SettingWithCopyWarning: \n",
      "A value is trying to be set on a copy of a slice from a DataFrame.\n",
      "Try using .loc[row_indexer,col_indexer] = value instead\n",
      "\n",
      "See the caveats in the documentation: https://pandas.pydata.org/pandas-docs/stable/user_guide/indexing.html#returning-a-view-versus-a-copy\n",
      "  final_news['Article'] = final_news['Article'].apply(lambda x: x.lower())\n"
     ]
    }
   ],
   "source": [
    "final_news['Article'] = final_news['Article'].apply(lambda x: x.lower())"
   ]
  },
  {
   "cell_type": "code",
   "execution_count": 58,
   "id": "ae9f624e",
   "metadata": {},
   "outputs": [
    {
     "data": {
      "text/html": [
       "<div>\n",
       "<style scoped>\n",
       "    .dataframe tbody tr th:only-of-type {\n",
       "        vertical-align: middle;\n",
       "    }\n",
       "\n",
       "    .dataframe tbody tr th {\n",
       "        vertical-align: top;\n",
       "    }\n",
       "\n",
       "    .dataframe thead th {\n",
       "        text-align: right;\n",
       "    }\n",
       "</style>\n",
       "<table border=\"1\" class=\"dataframe\">\n",
       "  <thead>\n",
       "    <tr style=\"text-align: right;\">\n",
       "      <th></th>\n",
       "      <th>Article</th>\n",
       "      <th>Fake</th>\n",
       "    </tr>\n",
       "  </thead>\n",
       "  <tbody>\n",
       "    <tr>\n",
       "      <th>0</th>\n",
       "      <td>donald trump sends out embarrassing new year’...</td>\n",
       "      <td>1</td>\n",
       "    </tr>\n",
       "    <tr>\n",
       "      <th>1</th>\n",
       "      <td>drunk bragging trump staffer started russian ...</td>\n",
       "      <td>1</td>\n",
       "    </tr>\n",
       "    <tr>\n",
       "      <th>2</th>\n",
       "      <td>sheriff david clarke becomes an internet joke...</td>\n",
       "      <td>1</td>\n",
       "    </tr>\n",
       "    <tr>\n",
       "      <th>3</th>\n",
       "      <td>trump is so obsessed he even has obama’s name...</td>\n",
       "      <td>1</td>\n",
       "    </tr>\n",
       "    <tr>\n",
       "      <th>4</th>\n",
       "      <td>pope francis just called out donald trump dur...</td>\n",
       "      <td>1</td>\n",
       "    </tr>\n",
       "  </tbody>\n",
       "</table>\n",
       "</div>"
      ],
      "text/plain": [
       "                                             Article  Fake\n",
       "0   donald trump sends out embarrassing new year’...     1\n",
       "1   drunk bragging trump staffer started russian ...     1\n",
       "2   sheriff david clarke becomes an internet joke...     1\n",
       "3   trump is so obsessed he even has obama’s name...     1\n",
       "4   pope francis just called out donald trump dur...     1"
      ]
     },
     "execution_count": 58,
     "metadata": {},
     "output_type": "execute_result"
    }
   ],
   "source": [
    "final_news.head()"
   ]
  },
  {
   "cell_type": "code",
   "execution_count": 59,
   "id": "ee17e583",
   "metadata": {},
   "outputs": [],
   "source": [
    "# remove punctutations\n",
    "def remove_punct(input_string):\n",
    "    split_article = [char for char in input_string if char not in string.punctuation]\n",
    "    clean_article = ''.join(split_article)\n",
    "    return clean_article"
   ]
  },
  {
   "cell_type": "code",
   "execution_count": 60,
   "id": "ba4b160c",
   "metadata": {},
   "outputs": [
    {
     "name": "stderr",
     "output_type": "stream",
     "text": [
      "<ipython-input-60-27c19cc00fb7>:1: SettingWithCopyWarning: \n",
      "A value is trying to be set on a copy of a slice from a DataFrame.\n",
      "Try using .loc[row_indexer,col_indexer] = value instead\n",
      "\n",
      "See the caveats in the documentation: https://pandas.pydata.org/pandas-docs/stable/user_guide/indexing.html#returning-a-view-versus-a-copy\n",
      "  final_news['Article'] = final_news['Article'].apply(remove_punct)\n"
     ]
    }
   ],
   "source": [
    "final_news['Article'] = final_news['Article'].apply(remove_punct)"
   ]
  },
  {
   "cell_type": "code",
   "execution_count": 61,
   "id": "e8e668a3",
   "metadata": {},
   "outputs": [
    {
     "data": {
      "text/plain": [
       "0     donald trump sends out embarrassing new year’...\n",
       "1     drunk bragging trump staffer started russian ...\n",
       "2     sheriff david clarke becomes an internet joke...\n",
       "3     trump is so obsessed he even has obama’s name...\n",
       "4     pope francis just called out donald trump dur...\n",
       "Name: Article, dtype: object"
      ]
     },
     "execution_count": 61,
     "metadata": {},
     "output_type": "execute_result"
    }
   ],
   "source": [
    "final_news['Article'].head() "
   ]
  },
  {
   "cell_type": "markdown",
   "id": "b03edea1",
   "metadata": {},
   "source": [
    "# Tokenize"
   ]
  },
  {
   "cell_type": "code",
   "execution_count": 63,
   "id": "94108101",
   "metadata": {},
   "outputs": [
    {
     "data": {
      "application/vnd.jupyter.widget-view+json": {
       "model_id": "da87c1051a054be18648926ce531626a",
       "version_major": 2,
       "version_minor": 0
      },
      "text/plain": [
       "  0%|          | 0/44898 [00:00<?, ?it/s]"
      ]
     },
     "metadata": {},
     "output_type": "display_data"
    }
   ],
   "source": [
    "Tokenized_articles = []\n",
    "\n",
    "for article in tqdm(final_news['Article']):\n",
    "    #word_tokenize is a function from the nltk.tokenize package\n",
    "    tokenized_article = word_tokenize(article)\n",
    "    Tokenized_articles.append(tokenized_article)"
   ]
  },
  {
   "cell_type": "markdown",
   "id": "a66c4871",
   "metadata": {},
   "source": [
    "## Stopwords"
   ]
  },
  {
   "cell_type": "code",
   "execution_count": 66,
   "id": "73c32203",
   "metadata": {},
   "outputs": [
    {
     "data": {
      "application/vnd.jupyter.widget-view+json": {
       "model_id": "92e453d4e65c4256b613999e5f6dfc09",
       "version_major": 2,
       "version_minor": 0
      },
      "text/plain": [
       "  0%|          | 0/44898 [00:00<?, ?it/s]"
      ]
     },
     "metadata": {},
     "output_type": "display_data"
    }
   ],
   "source": [
    "stopWords = stopwords.words('english')\n",
    "filtered_document = []\n",
    "filtered_article = []\n",
    "#final_news['Article'].apply(lambda x: [item for item in tqdm(x) if item not in stopWords])\n",
    "\n",
    "for sentence in tqdm(Tokenized_articles):\n",
    "    #Having taken a sentence, remove the stopwords of that sentence\n",
    "    for word in sentence:\n",
    "        if word not in stopWords:\n",
    "            #save the tokenized, stopword-less article in a list\n",
    "            filtered_article.append(word)\n",
    "    \n",
    "    #Add the filtered sentence to the overal documents list\n",
    "    filtered_document.append(sentence)\n",
    "    \n",
    "    #reset the sentence list so that we do not accidently save multiple articles as one article\n",
    "    filtererd_article = []\n",
    "    "
   ]
  },
  {
   "cell_type": "code",
   "execution_count": 69,
   "id": "f458e3ee",
   "metadata": {},
   "outputs": [
    {
     "data": {
      "text/plain": [
       "['sheriff',\n",
       " 'david',\n",
       " 'clarke',\n",
       " 'becomes',\n",
       " 'an',\n",
       " 'internet',\n",
       " 'joke',\n",
       " 'for',\n",
       " 'threatening',\n",
       " 'to',\n",
       " 'poke',\n",
       " 'people',\n",
       " '‘',\n",
       " 'in',\n",
       " 'the',\n",
       " 'eye',\n",
       " '’',\n",
       " 'on',\n",
       " 'friday',\n",
       " 'it',\n",
       " 'was',\n",
       " 'revealed',\n",
       " 'that',\n",
       " 'former',\n",
       " 'milwaukee',\n",
       " 'sheriff',\n",
       " 'david',\n",
       " 'clarke',\n",
       " 'who',\n",
       " 'was',\n",
       " 'being',\n",
       " 'considered',\n",
       " 'for',\n",
       " 'homeland',\n",
       " 'security',\n",
       " 'secretary',\n",
       " 'in',\n",
       " 'donald',\n",
       " 'trump',\n",
       " 's',\n",
       " 'administration',\n",
       " 'has',\n",
       " 'an',\n",
       " 'email',\n",
       " 'scandal',\n",
       " 'of',\n",
       " 'his',\n",
       " 'ownin',\n",
       " 'january',\n",
       " 'there',\n",
       " 'was',\n",
       " 'a',\n",
       " 'brief',\n",
       " 'runin',\n",
       " 'on',\n",
       " 'a',\n",
       " 'plane',\n",
       " 'between',\n",
       " 'clarke',\n",
       " 'and',\n",
       " 'fellow',\n",
       " 'passenger',\n",
       " 'dan',\n",
       " 'black',\n",
       " 'who',\n",
       " 'he',\n",
       " 'later',\n",
       " 'had',\n",
       " 'detained',\n",
       " 'by',\n",
       " 'the',\n",
       " 'police',\n",
       " 'for',\n",
       " 'no',\n",
       " 'reason',\n",
       " 'whatsoever',\n",
       " 'except',\n",
       " 'that',\n",
       " 'maybe',\n",
       " 'his',\n",
       " 'feelings',\n",
       " 'were',\n",
       " 'hurt',\n",
       " 'clarke',\n",
       " 'messaged',\n",
       " 'the',\n",
       " 'police',\n",
       " 'to',\n",
       " 'stop',\n",
       " 'black',\n",
       " 'after',\n",
       " 'he',\n",
       " 'deplaned',\n",
       " 'and',\n",
       " 'now',\n",
       " 'a',\n",
       " 'search',\n",
       " 'warrant',\n",
       " 'has',\n",
       " 'been',\n",
       " 'executed',\n",
       " 'by',\n",
       " 'the',\n",
       " 'fbi',\n",
       " 'to',\n",
       " 'see',\n",
       " 'the',\n",
       " 'exchangesclarke',\n",
       " 'is',\n",
       " 'calling',\n",
       " 'it',\n",
       " 'fake',\n",
       " 'news',\n",
       " 'even',\n",
       " 'though',\n",
       " 'copies',\n",
       " 'of',\n",
       " 'the',\n",
       " 'search',\n",
       " 'warrant',\n",
       " 'are',\n",
       " 'on',\n",
       " 'the',\n",
       " 'internet',\n",
       " 'i',\n",
       " 'am',\n",
       " 'unintimidated',\n",
       " 'by',\n",
       " 'lib',\n",
       " 'media',\n",
       " 'attempts',\n",
       " 'to',\n",
       " 'smear',\n",
       " 'and',\n",
       " 'discredit',\n",
       " 'me',\n",
       " 'with',\n",
       " 'their',\n",
       " 'fake',\n",
       " 'news',\n",
       " 'reports',\n",
       " 'designed',\n",
       " 'to',\n",
       " 'silence',\n",
       " 'me',\n",
       " 'the',\n",
       " 'former',\n",
       " 'sheriff',\n",
       " 'tweeted',\n",
       " 'i',\n",
       " 'will',\n",
       " 'continue',\n",
       " 'to',\n",
       " 'poke',\n",
       " 'them',\n",
       " 'in',\n",
       " 'the',\n",
       " 'eye',\n",
       " 'with',\n",
       " 'a',\n",
       " 'sharp',\n",
       " 'stick',\n",
       " 'and',\n",
       " 'bitch',\n",
       " 'slap',\n",
       " 'these',\n",
       " 'scum',\n",
       " 'bags',\n",
       " 'til',\n",
       " 'they',\n",
       " 'get',\n",
       " 'it',\n",
       " 'i',\n",
       " 'have',\n",
       " 'been',\n",
       " 'attacked',\n",
       " 'by',\n",
       " 'better',\n",
       " 'people',\n",
       " 'than',\n",
       " 'them',\n",
       " 'maga',\n",
       " 'i',\n",
       " 'am',\n",
       " 'unintimidated',\n",
       " 'by',\n",
       " 'lib',\n",
       " 'media',\n",
       " 'attempts',\n",
       " 'to',\n",
       " 'smear',\n",
       " 'and',\n",
       " 'discredit',\n",
       " 'me',\n",
       " 'with',\n",
       " 'their',\n",
       " 'fake',\n",
       " 'news',\n",
       " 'reports',\n",
       " 'designed',\n",
       " 'to',\n",
       " 'silence',\n",
       " 'me',\n",
       " 'i',\n",
       " 'will',\n",
       " 'continue',\n",
       " 'to',\n",
       " 'poke',\n",
       " 'them',\n",
       " 'in',\n",
       " 'the',\n",
       " 'eye',\n",
       " 'with',\n",
       " 'a',\n",
       " 'sharp',\n",
       " 'stick',\n",
       " 'and',\n",
       " 'bitch',\n",
       " 'slap',\n",
       " 'these',\n",
       " 'scum',\n",
       " 'bags',\n",
       " 'til',\n",
       " 'they',\n",
       " 'get',\n",
       " 'it',\n",
       " 'i',\n",
       " 'have',\n",
       " 'been',\n",
       " 'attacked',\n",
       " 'by',\n",
       " 'better',\n",
       " 'people',\n",
       " 'than',\n",
       " 'them',\n",
       " 'maga',\n",
       " 'pictwittercomxtzw5pdu2b',\n",
       " 'david',\n",
       " 'a',\n",
       " 'clarke',\n",
       " 'jr',\n",
       " 'sheriffclarke',\n",
       " 'december',\n",
       " '30',\n",
       " '2017he',\n",
       " 'didn',\n",
       " 't',\n",
       " 'stop',\n",
       " 'therebreaking',\n",
       " 'news',\n",
       " 'when',\n",
       " 'lying',\n",
       " 'lib',\n",
       " 'media',\n",
       " 'makes',\n",
       " 'up',\n",
       " 'fake',\n",
       " 'news',\n",
       " 'to',\n",
       " 'smear',\n",
       " 'me',\n",
       " 'the',\n",
       " 'antidote',\n",
       " 'is',\n",
       " 'go',\n",
       " 'right',\n",
       " 'at',\n",
       " 'them',\n",
       " 'punch',\n",
       " 'them',\n",
       " 'in',\n",
       " 'the',\n",
       " 'nose',\n",
       " 'make',\n",
       " 'them',\n",
       " 'taste',\n",
       " 'their',\n",
       " 'own',\n",
       " 'blood',\n",
       " 'nothing',\n",
       " 'gets',\n",
       " 'a',\n",
       " 'bully',\n",
       " 'like',\n",
       " 'lying',\n",
       " 'lib',\n",
       " 'media',\n",
       " 's',\n",
       " 'attention',\n",
       " 'better',\n",
       " 'than',\n",
       " 'to',\n",
       " 'give',\n",
       " 'them',\n",
       " 'a',\n",
       " 'taste',\n",
       " 'of',\n",
       " 'their',\n",
       " 'own',\n",
       " 'blood',\n",
       " 'neverbackdown',\n",
       " 'pictwittercomt2ny2pshcr',\n",
       " 'david',\n",
       " 'a',\n",
       " 'clarke',\n",
       " 'jr',\n",
       " 'sheriffclarke',\n",
       " 'december',\n",
       " '30',\n",
       " '2017the',\n",
       " 'internet',\n",
       " 'called',\n",
       " 'him',\n",
       " 'outthis',\n",
       " 'is',\n",
       " 'your',\n",
       " 'local',\n",
       " 'newspaper',\n",
       " 'and',\n",
       " 'that',\n",
       " 'search',\n",
       " 'warrant',\n",
       " 'isn',\n",
       " 't',\n",
       " 'fake',\n",
       " 'and',\n",
       " 'just',\n",
       " 'because',\n",
       " 'the',\n",
       " 'chose',\n",
       " 'not',\n",
       " 'to',\n",
       " 'file',\n",
       " 'charges',\n",
       " 'at',\n",
       " 'the',\n",
       " 'time',\n",
       " 'doesn',\n",
       " 't',\n",
       " 'mean',\n",
       " 'they',\n",
       " 'won',\n",
       " 't',\n",
       " 'especially',\n",
       " 'if',\n",
       " 'you',\n",
       " 'continue',\n",
       " 'to',\n",
       " 'lie',\n",
       " 'months',\n",
       " 'after',\n",
       " 'decision',\n",
       " 'not',\n",
       " 'to',\n",
       " 'charge',\n",
       " 'clarke',\n",
       " 'email',\n",
       " 'search',\n",
       " 'warrant',\n",
       " 'filed',\n",
       " 'httpstcozcbyc4wp5b',\n",
       " 'keithleblanc',\n",
       " 'keithleblanc63',\n",
       " 'december',\n",
       " '30',\n",
       " '2017i',\n",
       " 'just',\n",
       " 'hope',\n",
       " 'the',\n",
       " 'rest',\n",
       " 'of',\n",
       " 'the',\n",
       " 'village',\n",
       " 'people',\n",
       " 'aren',\n",
       " 't',\n",
       " 'implicated',\n",
       " 'kirk',\n",
       " 'ketchum',\n",
       " 'kirkketchum',\n",
       " 'december',\n",
       " '30',\n",
       " '2017slaw',\n",
       " 'baked',\n",
       " 'potatoes',\n",
       " 'or',\n",
       " 'french',\n",
       " 'fries',\n",
       " 'pictwittercomfwfxszupxy',\n",
       " 'alt',\n",
       " 'immigration',\n",
       " 'altuscis',\n",
       " 'december',\n",
       " '30',\n",
       " '2017pictwittercomymsobljfxu',\n",
       " 'pendulum',\n",
       " 'swinger',\n",
       " 'pendulumswngr',\n",
       " 'december',\n",
       " '30',\n",
       " '2017you',\n",
       " 'called',\n",
       " 'your',\n",
       " 'police',\n",
       " 'friends',\n",
       " 'to',\n",
       " 'stand',\n",
       " 'up',\n",
       " 'for',\n",
       " 'you',\n",
       " 'when',\n",
       " 'someone',\n",
       " 'made',\n",
       " 'fun',\n",
       " 'of',\n",
       " 'your',\n",
       " 'hat',\n",
       " 'chris',\n",
       " 'jackson',\n",
       " 'chriscjackson',\n",
       " 'december',\n",
       " '30',\n",
       " '2017is',\n",
       " 'it',\n",
       " 'me',\n",
       " 'with',\n",
       " 'this',\n",
       " 'masterful',\n",
       " 'pshop',\n",
       " 'of',\n",
       " 'your',\n",
       " 'hat',\n",
       " 'which',\n",
       " 'i',\n",
       " 'seem',\n",
       " 'to',\n",
       " 'never',\n",
       " 'tire',\n",
       " 'of',\n",
       " 'i',\n",
       " 'think',\n",
       " 'it',\n",
       " 's',\n",
       " 'the',\n",
       " 'steely',\n",
       " 'resolve',\n",
       " 'in',\n",
       " 'your',\n",
       " 'one',\n",
       " 'visible',\n",
       " 'eye',\n",
       " 'pictwittercomdwr5k8zezv',\n",
       " 'chris',\n",
       " 'mohney',\n",
       " 'chrismohney',\n",
       " 'december',\n",
       " '30',\n",
       " '2017are',\n",
       " 'you',\n",
       " 'indicating',\n",
       " 'with',\n",
       " 'your',\n",
       " 'fingers',\n",
       " 'how',\n",
       " 'many',\n",
       " 'people',\n",
       " 'died',\n",
       " 'in',\n",
       " 'your',\n",
       " 'jail',\n",
       " 'i',\n",
       " 'think',\n",
       " 'you',\n",
       " 're',\n",
       " 'a',\n",
       " 'few',\n",
       " 'fingers',\n",
       " 'short',\n",
       " 'dipshit',\n",
       " 'ike',\n",
       " 'barinholtz',\n",
       " 'ikebarinholtz',\n",
       " 'december',\n",
       " '30',\n",
       " '2017rofl',\n",
       " 'internet',\n",
       " 'tough',\n",
       " 'guy',\n",
       " 'with',\n",
       " 'fake',\n",
       " 'flair',\n",
       " 'pictwittercomulcfddhkdy',\n",
       " 'kellmecrazy',\n",
       " 'kelmoonface',\n",
       " 'december',\n",
       " '30',\n",
       " '2017you',\n",
       " 're',\n",
       " 'so',\n",
       " 'edgy',\n",
       " 'buddy',\n",
       " 'mrs',\n",
       " 'smh',\n",
       " 'mrssmh2',\n",
       " 'december',\n",
       " '30',\n",
       " '2017is',\n",
       " 'his',\n",
       " 'break',\n",
       " 'over',\n",
       " 'at',\n",
       " 'applebees',\n",
       " 'aaron',\n",
       " 'feltrrr2',\n",
       " 'december',\n",
       " '30',\n",
       " '2017are',\n",
       " 'you',\n",
       " 'trying',\n",
       " 'to',\n",
       " 'earn',\n",
       " 'your',\n",
       " 'still',\n",
       " 'relevant',\n",
       " 'badge',\n",
       " 'circusrebel',\n",
       " 'circusdrew',\n",
       " 'december',\n",
       " '30',\n",
       " '2017make',\n",
       " 'sure',\n",
       " 'to',\n",
       " 'hydrate',\n",
       " 'drink',\n",
       " 'lots',\n",
       " 'of',\n",
       " 'water',\n",
       " 'it',\n",
       " 's',\n",
       " 'rumored',\n",
       " 'that',\n",
       " 'prisoners',\n",
       " 'can',\n",
       " 'be',\n",
       " 'denied',\n",
       " 'water',\n",
       " 'by',\n",
       " 'prison',\n",
       " 'officials',\n",
       " 'robert',\n",
       " 'klinc',\n",
       " 'robertklinc1',\n",
       " 'december',\n",
       " '30',\n",
       " '2017terrill',\n",
       " 'thomas',\n",
       " 'the',\n",
       " '38yearold',\n",
       " 'black',\n",
       " 'man',\n",
       " 'who',\n",
       " 'died',\n",
       " 'of',\n",
       " 'thirst',\n",
       " 'in',\n",
       " 'clarke',\n",
       " 's',\n",
       " 'milwaukee',\n",
       " 'county',\n",
       " 'jail',\n",
       " 'cell',\n",
       " 'this',\n",
       " 'april',\n",
       " 'was',\n",
       " 'a',\n",
       " 'victim',\n",
       " 'of',\n",
       " 'homicide',\n",
       " 'we',\n",
       " 'just',\n",
       " 'thought',\n",
       " 'we',\n",
       " 'should',\n",
       " 'point',\n",
       " 'that',\n",
       " 'out',\n",
       " 'it',\n",
       " 'can',\n",
       " 't',\n",
       " 'be',\n",
       " 'repeated',\n",
       " 'enoughphoto',\n",
       " 'by',\n",
       " 'spencer',\n",
       " 'plattgetty',\n",
       " 'imagessubject']"
      ]
     },
     "execution_count": 69,
     "metadata": {},
     "output_type": "execute_result"
    }
   ],
   "source": [
    "filtered_document[2]"
   ]
  },
  {
   "cell_type": "markdown",
   "id": "6bb25ee7",
   "metadata": {},
   "source": [
    "## Lemmatization"
   ]
  },
  {
   "cell_type": "code",
   "execution_count": 70,
   "id": "7e77a27f",
   "metadata": {},
   "outputs": [],
   "source": [
    "# Lemmatization function\n",
    "\n",
    "lemmatizer = WordNetLemmatizer()\n",
    "\n",
    "def lemmatize_text(article):\n",
    "    #lemmatize each word in the article\n",
    "    return [lemmatizer.lemmatize(word) for word in article]  \n",
    "    "
   ]
  },
  {
   "cell_type": "code",
   "execution_count": 72,
   "id": "19177d40",
   "metadata": {},
   "outputs": [
    {
     "data": {
      "application/vnd.jupyter.widget-view+json": {
       "model_id": "feea9476282f4c079347ccd095c77951",
       "version_major": 2,
       "version_minor": 0
      },
      "text/plain": [
       "  0%|          | 0/44898 [00:00<?, ?it/s]"
      ]
     },
     "metadata": {},
     "output_type": "display_data"
    }
   ],
   "source": [
    "# call the lemmatization function on each sentence in the corpus\n",
    "Cleaned_articles = []\n",
    "\n",
    "for article in tqdm(filtered_document):\n",
    "    #this might go wrong --> the input is a list of tokenized words, so this might return individual lemmatized words\n",
    "    # Might also go wrong by not being able to lemmatize a text --> would need to go one layer deeper\n",
    "    lemmatizing_sentences = lemmatize_text(article)\n",
    "    Cleaned_articles.append(lemmatizing_sentences)"
   ]
  },
  {
   "cell_type": "markdown",
   "id": "e51835a5",
   "metadata": {},
   "source": [
    "# Prepare model building\n"
   ]
  },
  {
   "cell_type": "markdown",
   "id": "3777dc0e",
   "metadata": {},
   "source": [
    "### Pipeline creation\n"
   ]
  },
  {
   "cell_type": "code",
   "execution_count": 75,
   "id": "13019920",
   "metadata": {},
   "outputs": [],
   "source": [
    "#https://12ft.io/proxy?q=http://towardsdatascience.com/a-simple-example-of-pipeline-in-machine-learning-with-scikit-learn-e726ffbb6976\n",
    "#https://www.geeksforgeeks.org/create-a-pipeline-in-pandas/\n",
    "#https://scikit-learn.org/stable/modules/generated/sklearn.pipeline.Pipeline.html\n",
    "#https://www.analyticsvidhya.com/blog/2020/01/build-your-first-machine-learning-pipeline-using-scikit-learn/\n",
    "#https://machinelearningmastery.com/modeling-pipeline-optimization-with-scikit-learn/\n"
   ]
  },
  {
   "cell_type": "code",
   "execution_count": null,
   "id": "1d9e3906",
   "metadata": {},
   "outputs": [],
   "source": []
  },
  {
   "cell_type": "markdown",
   "id": "f5dec728",
   "metadata": {},
   "source": [
    "### Cross Validation"
   ]
  },
  {
   "cell_type": "code",
   "execution_count": null,
   "id": "f1576bd4",
   "metadata": {},
   "outputs": [],
   "source": []
  },
  {
   "cell_type": "code",
   "execution_count": null,
   "id": "ce2a482b",
   "metadata": {},
   "outputs": [],
   "source": []
  },
  {
   "cell_type": "code",
   "execution_count": null,
   "id": "3eda16e8",
   "metadata": {},
   "outputs": [],
   "source": []
  },
  {
   "cell_type": "code",
   "execution_count": null,
   "id": "852669a3",
   "metadata": {},
   "outputs": [],
   "source": []
  },
  {
   "cell_type": "code",
   "execution_count": null,
   "id": "5af27236",
   "metadata": {},
   "outputs": [],
   "source": []
  },
  {
   "cell_type": "markdown",
   "id": "b4db6c7e",
   "metadata": {},
   "source": [
    "# Build the model"
   ]
  },
  {
   "cell_type": "markdown",
   "id": "5a8178e8",
   "metadata": {},
   "source": [
    "### Bag of words model"
   ]
  },
  {
   "cell_type": "markdown",
   "id": "4431cd7e",
   "metadata": {},
   "source": [
    "Bag of words uses the occurences of words in the corpus. This is a great baseline and a surprisingly effective model for its simplicity"
   ]
  },
  {
   "cell_type": "code",
   "execution_count": null,
   "id": "30013e68",
   "metadata": {},
   "outputs": [],
   "source": [
    "from sklearn.feature_extraction.text import CountVectorizer, TfidfVectorizer\n",
    "\n",
    "Occurence_vector = CountVectorizer(ngram_range=(1,1), # to use bigrams ngram_range=(2,2)\n",
    "                           stop_words='english')\n",
    "#transform\n",
    "Count_data = Occurence_vector.fit_transform([sentence_1,sentence_2])\n",
    " \n",
    "#create dataframe\n",
    "cv_dataframe=pd.DataFrame(Count_data.toarray(),columns=Occurence_vector.get_feature_names())\n",
    "print(cv_dataframe)"
   ]
  },
  {
   "cell_type": "code",
   "execution_count": null,
   "id": "c4f9bbb4",
   "metadata": {},
   "outputs": [],
   "source": []
  },
  {
   "cell_type": "code",
   "execution_count": null,
   "id": "f3bc2123",
   "metadata": {},
   "outputs": [],
   "source": []
  },
  {
   "cell_type": "code",
   "execution_count": null,
   "id": "306ed092",
   "metadata": {},
   "outputs": [],
   "source": []
  },
  {
   "cell_type": "code",
   "execution_count": null,
   "id": "51d2c883",
   "metadata": {},
   "outputs": [],
   "source": [
    "#Logistic regression model"
   ]
  },
  {
   "cell_type": "code",
   "execution_count": null,
   "id": "ec3715a3",
   "metadata": {},
   "outputs": [],
   "source": [
    "#SVM model"
   ]
  },
  {
   "cell_type": "code",
   "execution_count": null,
   "id": "bfa6ea05",
   "metadata": {},
   "outputs": [],
   "source": [
    "#Glove model"
   ]
  },
  {
   "cell_type": "markdown",
   "id": "e215bc74",
   "metadata": {},
   "source": [
    "# Evaluation"
   ]
  },
  {
   "cell_type": "code",
   "execution_count": null,
   "id": "e0d3a71c",
   "metadata": {},
   "outputs": [],
   "source": []
  }
 ],
 "metadata": {
  "kernelspec": {
   "display_name": "Python 3",
   "language": "python",
   "name": "python3"
  },
  "language_info": {
   "codemirror_mode": {
    "name": "ipython",
    "version": 3
   },
   "file_extension": ".py",
   "mimetype": "text/x-python",
   "name": "python",
   "nbconvert_exporter": "python",
   "pygments_lexer": "ipython3",
   "version": "3.8.2"
  }
 },
 "nbformat": 4,
 "nbformat_minor": 5
}
